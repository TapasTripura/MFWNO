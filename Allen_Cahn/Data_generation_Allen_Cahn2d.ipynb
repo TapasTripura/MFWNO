{
 "cells": [
  {
   "cell_type": "markdown",
   "metadata": {},
   "source": [
    "# This notebokk generates the MF Allen-Cahn data"
   ]
  },
  {
   "cell_type": "code",
   "execution_count": null,
   "metadata": {
    "executionInfo": {
     "elapsed": 4649,
     "status": "ok",
     "timestamp": 1687122962800,
     "user": {
      "displayName": "CSCCM IITD",
      "userId": "18000198353382878931"
     },
     "user_tz": 240
    },
    "id": "BDaypWc1A1eO"
   },
   "outputs": [],
   "source": [
    "# Load libraries\n",
    "\n",
    "import torch\n",
    "import torch.nn as nn\n",
    "import torch.nn.functional as F\n",
    "from sklearn.gaussian_process.kernels import Matern\n",
    "import numpy as np\n",
    "import matplotlib.pyplot as plt\n",
    "import scipy.io as sio\n",
    "from timeit import default_timer\n",
    "\n",
    "import matplotlib.animation as animation"
   ]
  },
  {
   "cell_type": "code",
   "execution_count": null,
   "metadata": {
    "executionInfo": {
     "elapsed": 2,
     "status": "ok",
     "timestamp": 1687122962800,
     "user": {
      "displayName": "CSCCM IITD",
      "userId": "18000198353382878931"
     },
     "user_tz": 240
    },
    "id": "M0oc9p9fr7lL"
   },
   "outputs": [],
   "source": [
    "# Set parameters\n",
    "\n",
    "np.random.seed(123)\n",
    "nx = 65\n",
    "ny = 65\n",
    "num_samples = 4000\n",
    "batch_size = 20\n",
    "dx = 3/nx\n",
    "dy = 3/ny\n",
    "x = np.arange(0,3,dx)\n",
    "y = np.arange(0,3,dy)\n",
    "dt = 0.04\n",
    "T = 10\n",
    "nstep = int(T/dt)\n",
    "epsilon = 0.001\n",
    "step = (dx,dy)\n",
    "t = np.arange(0,T+dt,dt)\n",
    "device = 'cpu'"
   ]
  },
  {
   "cell_type": "code",
   "execution_count": null,
   "metadata": {
    "executionInfo": {
     "elapsed": 3690,
     "status": "ok",
     "timestamp": 1687122966489,
     "user": {
      "displayName": "CSCCM IITD",
      "userId": "18000198353382878931"
     },
     "user_tz": 240
    },
    "id": "2IL3rOQyvl73"
   },
   "outputs": [],
   "source": [
    "# Load initial conditions\n",
    "\n",
    "in_data = sio.loadmat(\"data/initac2d.mat\")\n",
    "u_init = torch.tensor(in_data['initial']).permute(2,0,1)"
   ]
  },
  {
   "cell_type": "code",
   "execution_count": null,
   "metadata": {},
   "outputs": [],
   "source": [
    "u_init.shape"
   ]
  },
  {
   "cell_type": "code",
   "execution_count": null,
   "metadata": {
    "colab": {
     "base_uri": "https://localhost:8080/",
     "height": 487
    },
    "executionInfo": {
     "elapsed": 493,
     "status": "ok",
     "timestamp": 1687122995860,
     "user": {
      "displayName": "CSCCM IITD",
      "userId": "18000198353382878931"
     },
     "user_tz": 240
    },
    "id": "A89HmQfR3i9t",
    "outputId": "4e93d870-0620-4abb-d5bd-1359ad9b79a9"
   },
   "outputs": [],
   "source": [
    "fig1 = plt.figure(figsize=(12,4), dpi=100)\n",
    "plt.subplots_adjust(wspace=0.25)\n",
    "for i in range(8):\n",
    "    plt.subplot(2,4,i+1)\n",
    "    plt.imshow(u_init[i].cpu(),interpolation='gaussian',cmap='jet')\n",
    "    plt.colorbar()"
   ]
  },
  {
   "cell_type": "code",
   "execution_count": null,
   "metadata": {},
   "outputs": [],
   "source": [
    "u_init_batch = torch.tensor_split(u_init, num_samples//batch_size, dim=0)\n"
   ]
  },
  {
   "cell_type": "code",
   "execution_count": null,
   "metadata": {},
   "outputs": [],
   "source": [
    "fig2 = plt.figure(figsize=(12,4), dpi=100)\n",
    "plt.subplots_adjust(wspace=0.25)\n",
    "for i in range(8):\n",
    "    plt.subplot(2,4,i+1)\n",
    "    plt.imshow(u_init_batch[0][i].cpu(),interpolation='gaussian',cmap='jet')\n",
    "    plt.colorbar()"
   ]
  },
  {
   "cell_type": "code",
   "execution_count": null,
   "metadata": {
    "colab": {
     "base_uri": "https://localhost:8080/"
    },
    "executionInfo": {
     "elapsed": 420,
     "status": "ok",
     "timestamp": 1687122966907,
     "user": {
      "displayName": "CSCCM IITD",
      "userId": "18000198353382878931"
     },
     "user_tz": 240
    },
    "id": "uwiFOqpRwsYN",
    "outputId": "c1040c02-37e2-4566-c7bb-afd7b63815fd"
   },
   "outputs": [],
   "source": [
    "# Define the laplacian in Fourier domain\n",
    "\n",
    "kx = 2*torch.pi*torch.fft.fftfreq(x.shape[0],d=dx).to(device)\n",
    "ky = 2*torch.pi*torch.fft.rfftfreq(y.shape[0],d=dy).to(device)\n",
    "kxx,kyy = torch.meshgrid(kx,ky)\n",
    "kxx = kxx.reshape(1,nx,-1)\n",
    "kyy = kyy.reshape(1,ny,-1)\n",
    "lapl = -epsilon*(kxx**2+kyy**2)"
   ]
  },
  {
   "cell_type": "code",
   "execution_count": null,
   "metadata": {
    "executionInfo": {
     "elapsed": 3,
     "status": "ok",
     "timestamp": 1687122966907,
     "user": {
      "displayName": "CSCCM IITD",
      "userId": "18000198353382878931"
     },
     "user_tz": 240
    },
    "id": "3aOH5a1X5N_E"
   },
   "outputs": [],
   "source": [
    "# Define the Allen-Cahn solver\n",
    "\n",
    "def ac2d_solver(u,laplace,dt):\n",
    "  uhat = torch.fft.rfft2(u)\n",
    "  laplacian = laplace*uhat\n",
    "  u = u + dt*(torch.fft.irfft2(laplacian,s=(u.size(-2), u.size(-1))) + u - u**3)\n",
    "  return u"
   ]
  },
  {
   "cell_type": "code",
   "execution_count": null,
   "metadata": {},
   "outputs": [],
   "source": [
    "num_samples//batch_size"
   ]
  },
  {
   "cell_type": "code",
   "execution_count": null,
   "metadata": {
    "executionInfo": {
     "elapsed": 28486,
     "status": "ok",
     "timestamp": 1687122995390,
     "user": {
      "displayName": "CSCCM IITD",
      "userId": "18000198353382878931"
     },
     "user_tz": 240
    },
    "id": "xLHX9QCNGF6h",
    "scrolled": true
   },
   "outputs": [],
   "source": [
    "u_store = []\n",
    "for batch in range(num_samples//batch_size):\n",
    "    t1 = default_timer()\n",
    "    \n",
    "    u = u_init_batch[batch].to(device)\n",
    "    u_batch = torch.zeros(batch_size,nstep+1,nx,ny)\n",
    "    for i in range(nstep):\n",
    "      u = ac2d_solver(u,lapl,dt)\n",
    "      u_batch[:,i+1,:,:] = u.cpu()\n",
    "        \n",
    "    u_store.append( u_batch )\n",
    "    t2 = default_timer()\n",
    "\n",
    "    if batch % 25 == 0:\n",
    "        print('Batch-{}, Time-{:0.4f}'.format(batch, t2-t1))\n",
    "\n",
    "u_store = torch.cat(u_store)"
   ]
  },
  {
   "cell_type": "code",
   "execution_count": null,
   "metadata": {
    "executionInfo": {
     "elapsed": 20,
     "status": "ok",
     "timestamp": 1687122995860,
     "user": {
      "displayName": "CSCCM IITD",
      "userId": "18000198353382878931"
     },
     "user_tz": 240
    },
    "id": "37jXSV0C7KV6"
   },
   "outputs": [],
   "source": [
    "# Subsample the time steps\n",
    "\n",
    "subsample_factor = 5\n",
    "u_largedt = u_store[:,::subsample_factor,:,:]\n",
    "t_largedt = t[::subsample_factor]\n",
    "dt_large = t_largedt[1] - t_largedt[0]"
   ]
  },
  {
   "cell_type": "code",
   "execution_count": null,
   "metadata": {},
   "outputs": [],
   "source": [
    "fig3 = plt.figure(figsize=(12,1), dpi=100)\n",
    "plt.subplots_adjust(wspace=0.35)\n",
    "sample = 0\n",
    "index = 0\n",
    "for i in range(u_largedt.shape[1]):\n",
    "    if i % 10 == 0:\n",
    "        plt.subplot(1,6,index+1)\n",
    "        plt.imshow(u_largedt[sample, i, :, :].cpu(), interpolation='gaussian',cmap='jet')\n",
    "        plt.colorbar()\n",
    "        index += 1"
   ]
  },
  {
   "cell_type": "code",
   "execution_count": null,
   "metadata": {},
   "outputs": [],
   "source": [
    "u_largedt.shape"
   ]
  },
  {
   "cell_type": "code",
   "execution_count": null,
   "metadata": {
    "executionInfo": {
     "elapsed": 19,
     "status": "ok",
     "timestamp": 1687122995861,
     "user": {
      "displayName": "CSCCM IITD",
      "userId": "18000198353382878931"
     },
     "user_tz": 240
    },
    "id": "Ef3jWt0YvqHW"
   },
   "outputs": [],
   "source": [
    "# Subsample the spatial dimension\n",
    "r = 2\n",
    "\n",
    "u_low = u_largedt[:,:,::r,::r]\n",
    "x_low = torch.tensor(x[::r])\n",
    "y_low = torch.tensor(y[::r])"
   ]
  },
  {
   "cell_type": "code",
   "execution_count": null,
   "metadata": {},
   "outputs": [],
   "source": [
    "u_low.shape"
   ]
  },
  {
   "cell_type": "code",
   "execution_count": null,
   "metadata": {
    "executionInfo": {
     "elapsed": 19,
     "status": "ok",
     "timestamp": 1687122995861,
     "user": {
      "displayName": "CSCCM IITD",
      "userId": "18000198353382878931"
     },
     "user_tz": 240
    },
    "id": "ozzF1ZnCv4qG"
   },
   "outputs": [],
   "source": [
    "# Define the Laplacian in Fourier domain for low-fidelity u(x,y)\n",
    "device = 'cpu'\n",
    "\n",
    "kxl = 2*torch.pi*torch.fft.fftfreq(x_low.shape[0], d=x_low[1]-x_low[0]).to(device)\n",
    "kyl = 2*torch.pi*torch.fft.rfftfreq(y_low.shape[0], d=y_low[1]-y_low[0]).to(device)\n",
    "kxxl,kyyl = torch.meshgrid(kxl,kyl)\n",
    "kxxl = kxxl.reshape(1,x_low.shape[0],-1)\n",
    "kyyl = kyyl.reshape(1,y_low.shape[0],-1)\n",
    "lapl_low = -epsilon*(kxxl**2 + kyyl**2)"
   ]
  },
  {
   "cell_type": "code",
   "execution_count": null,
   "metadata": {},
   "outputs": [],
   "source": [
    "u_low[:,:-1,:,:].reshape(-1,x_low.shape[0],y_low.shape[0]).shape"
   ]
  },
  {
   "cell_type": "code",
   "execution_count": null,
   "metadata": {
    "executionInfo": {
     "elapsed": 3726,
     "status": "ok",
     "timestamp": 1687122999569,
     "user": {
      "displayName": "CSCCM IITD",
      "userId": "18000198353382878931"
     },
     "user_tz": 240
    },
    "id": "7qlab-GE6vsW"
   },
   "outputs": [],
   "source": [
    "u_low_in = u_low[:,:-1,:,:].reshape(-1,x_low.shape[0],y_low.shape[0]).to(device)\n",
    "t1 = default_timer()\n",
    "u_low_out = ac2d_solver(u_low_in,lapl_low,dt_large)\n",
    "t2 = default_timer()\n",
    "u_low_out = u_low_out.reshape(-1,t_largedt.shape[0]-1,x_low.shape[0],y_low.shape[0]).cpu()\n",
    "u_low_upscale = F.interpolate(u_low_out,size=(65,65),mode='bicubic',align_corners=True)\n",
    "\n",
    "print('Total_time-{}'.format(t2-t1))"
   ]
  },
  {
   "cell_type": "code",
   "execution_count": null,
   "metadata": {
    "colab": {
     "base_uri": "https://localhost:8080/"
    },
    "executionInfo": {
     "elapsed": 5,
     "status": "ok",
     "timestamp": 1687123067043,
     "user": {
      "displayName": "CSCCM IITD",
      "userId": "18000198353382878931"
     },
     "user_tz": 240
    },
    "id": "Swey2jE8Xoph",
    "outputId": "12560c71-d2ec-498b-817f-4b9f855e8294"
   },
   "outputs": [],
   "source": [
    "u_low_upscale.shape"
   ]
  },
  {
   "cell_type": "code",
   "execution_count": null,
   "metadata": {
    "colab": {
     "base_uri": "https://localhost:8080/",
     "height": 449
    },
    "executionInfo": {
     "elapsed": 566,
     "status": "ok",
     "timestamp": 1687123000130,
     "user": {
      "displayName": "CSCCM IITD",
      "userId": "18000198353382878931"
     },
     "user_tz": 240
    },
    "id": "ujDaZR1i-Z4z",
    "outputId": "5e2796bd-97ca-4e59-d657-57da53e51bb5"
   },
   "outputs": [],
   "source": [
    "fig4 = plt.figure(figsize=(6,2), dpi=100)\n",
    "plt.subplots_adjust(wspace=0.25)\n",
    "sample = 100\n",
    "\n",
    "plt.subplot(1,2,1)\n",
    "plt.imshow(u_low_upscale[sample,-1,:,:], interpolation='gaussian', cmap='jet', vmin=-1, vmax=1)\n",
    "plt.colorbar()\n",
    "\n",
    "plt.subplot(1,2,2)\n",
    "plt.imshow(u_largedt[sample,-1,:,:], interpolation='gaussian', cmap='jet', vmin=-1, vmax=1)\n",
    "plt.colorbar()"
   ]
  },
  {
   "cell_type": "code",
   "execution_count": null,
   "metadata": {
    "colab": {
     "base_uri": "https://localhost:8080/"
    },
    "executionInfo": {
     "elapsed": 958,
     "status": "ok",
     "timestamp": 1687123001084,
     "user": {
      "displayName": "CSCCM IITD",
      "userId": "18000198353382878931"
     },
     "user_tz": 240
    },
    "id": "-9Zd9Xge_UV_",
    "outputId": "60831ab7-ab25-435b-f067-409ccd961b17"
   },
   "outputs": [],
   "source": [
    "print('Error-{}'.format(torch.mean((u_largedt[:,1:,:,:]-u_low_upscale)**2)) )"
   ]
  },
  {
   "cell_type": "code",
   "execution_count": null,
   "metadata": {
    "executionInfo": {
     "elapsed": 6,
     "status": "ok",
     "timestamp": 1687123001085,
     "user": {
      "displayName": "CSCCM IITD",
      "userId": "18000198353382878931"
     },
     "user_tz": 240
    },
    "id": "k7JBUJvYHn5S"
   },
   "outputs": [],
   "source": [
    "datadict = {'uhr':u_largedt.cpu().numpy(),\n",
    "           'ulr_nextstep':u_low_upscale.cpu().numpy(),\n",
    "           'time':t_largedt,\n",
    "           'x':x,\n",
    "           'y':y,\n",
    "           'dtlarge':dt_large,\n",
    "           'epsilon':epsilon}"
   ]
  },
  {
   "cell_type": "code",
   "execution_count": null,
   "metadata": {
    "executionInfo": {
     "elapsed": 65033,
     "status": "ok",
     "timestamp": 1687123066114,
     "user": {
      "displayName": "CSCCM IITD",
      "userId": "18000198353382878931"
     },
     "user_tz": 240
    },
    "id": "X99unKE0HfnS"
   },
   "outputs": [],
   "source": [
    "sio.savemat('data/ac2dlowhighres_1.mat',datadict)"
   ]
  },
  {
   "cell_type": "code",
   "execution_count": null,
   "metadata": {},
   "outputs": [],
   "source": []
  }
 ],
 "metadata": {
  "accelerator": "GPU",
  "colab": {
   "authorship_tag": "ABX9TyMFJUuEMFN80THHYVaetLKy",
   "gpuClass": "premium",
   "machine_shape": "hm",
   "mount_file_id": "1kDQjHUwGflObDDRS_UiI6meedPTswUWf",
   "provenance": []
  },
  "gpuClass": "premium",
  "kernelspec": {
   "display_name": "Python 3 (ipykernel)",
   "language": "python",
   "name": "python3"
  },
  "language_info": {
   "codemirror_mode": {
    "name": "ipython",
    "version": 3
   },
   "file_extension": ".py",
   "mimetype": "text/x-python",
   "name": "python",
   "nbconvert_exporter": "python",
   "pygments_lexer": "ipython3",
   "version": "3.11.7"
  }
 },
 "nbformat": 4,
 "nbformat_minor": 4
}
