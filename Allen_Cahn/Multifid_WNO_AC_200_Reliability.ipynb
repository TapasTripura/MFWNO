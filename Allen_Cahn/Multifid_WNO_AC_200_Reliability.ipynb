{
 "cells": [
  {
   "cell_type": "markdown",
   "metadata": {},
   "source": [
    "# It performs Reliability analysis of MF Allen-Cahn equation using MFWNO (2D time-dependent reliability analysis)\n",
    "### HF data size = 200, with 50 times step = 10000"
   ]
  },
  {
   "cell_type": "code",
   "execution_count": null,
   "metadata": {
    "id": "ce-T3Tu5zyE4"
   },
   "outputs": [],
   "source": [
    "import numpy as np\n",
    "import torch\n",
    "import torch.nn as nn\n",
    "import torch.nn.functional as F\n",
    "from torch.nn.parameter import Parameter\n",
    "import seaborn as sns\n",
    "from pandas import DataFrame as pdf\n",
    "import matplotlib.pyplot as plt\n",
    "from utils import *\n",
    "\n",
    "from timeit import default_timer\n",
    "from pytorch_wavelets import DWT, IDWT # (or import DWT, IDWT)\n",
    "from pytorch_wavelets import DTCWTForward, DTCWTInverse"
   ]
  },
  {
   "cell_type": "code",
   "execution_count": null,
   "metadata": {
    "id": "8JbWtxniSerT"
   },
   "outputs": [],
   "source": [
    "torch.manual_seed(0)\n",
    "np.random.seed(0)"
   ]
  },
  {
   "cell_type": "markdown",
   "metadata": {
    "id": "cbC_I56c-bb3"
   },
   "source": [
    "# WNO"
   ]
  },
  {
   "cell_type": "code",
   "execution_count": null,
   "metadata": {
    "id": "R08jMzYL-kLX"
   },
   "outputs": [],
   "source": [
    "class WaveConv2dCwt(nn.Module):\n",
    "    def __init__(self, in_channels, out_channels, level, size, wavelet1, wavelet2):\n",
    "        super(WaveConv2dCwt, self).__init__()\n",
    "\n",
    "        \"\"\"\n",
    "        2D Wavelet layer. It does DWT, linear transform, and Inverse dWT. \n",
    "        !! It is computationally expensive than the discrete \"WaveConv2d\" !!\n",
    "        \"\"\"\n",
    "\n",
    "        self.in_channels = in_channels\n",
    "        self.out_channels = out_channels\n",
    "        self.level = level\n",
    "        self.wavelet_level1 = wavelet1\n",
    "        self.wavelet_level2 = wavelet2        \n",
    "        dummy_data = torch.randn( 1,1,*size ) \n",
    "        dwt_ = DTCWTForward(J=self.level, biort=self.wavelet_level1,\n",
    "                            qshift=self.wavelet_level2)\n",
    "        mode_data, mode_coef = dwt_(dummy_data)\n",
    "        self.modes1 = mode_data.shape[-2]\n",
    "        self.modes2 = mode_data.shape[-1]\n",
    "        self.modes21 = mode_coef[-1].shape[-3]\n",
    "        self.modes22 = mode_coef[-1].shape[-2]\n",
    "        \n",
    "        # Parameter initilization\n",
    "        self.scale = (1 / (in_channels * out_channels))\n",
    "        self.weights0 = nn.Parameter(self.scale * torch.rand(in_channels, out_channels, self.modes1, self.modes2))\n",
    "        self.weights15r = nn.Parameter(self.scale * torch.rand(in_channels, out_channels, self.modes21, self.modes22))\n",
    "        self.weights15c = nn.Parameter(self.scale * torch.rand(in_channels, out_channels, self.modes21, self.modes22))\n",
    "        self.weights45r = nn.Parameter(self.scale * torch.rand(in_channels, out_channels, self.modes21, self.modes22))\n",
    "        self.weights45c = nn.Parameter(self.scale * torch.rand(in_channels, out_channels, self.modes21, self.modes22))\n",
    "        self.weights75r = nn.Parameter(self.scale * torch.rand(in_channels, out_channels, self.modes21, self.modes22))\n",
    "        self.weights75c = nn.Parameter(self.scale * torch.rand(in_channels, out_channels, self.modes21, self.modes22))\n",
    "        self.weights105r = nn.Parameter(self.scale * torch.rand(in_channels, out_channels, self.modes21, self.modes22))\n",
    "        self.weights105c = nn.Parameter(self.scale * torch.rand(in_channels, out_channels, self.modes21, self.modes22))\n",
    "        self.weights135r = nn.Parameter(self.scale * torch.rand(in_channels, out_channels, self.modes21, self.modes22))\n",
    "        self.weights135c = nn.Parameter(self.scale * torch.rand(in_channels, out_channels, self.modes21, self.modes22))\n",
    "        self.weights165r = nn.Parameter(self.scale * torch.rand(in_channels, out_channels, self.modes21, self.modes22))\n",
    "        self.weights165c = nn.Parameter(self.scale * torch.rand(in_channels, out_channels, self.modes21, self.modes22))\n",
    "\n",
    "    # Convolution\n",
    "    def mul2d(self, input, weights):\n",
    "        # (batch, in_channel, x,y ), (in_channel, out_channel, x,y) -> (batch, out_channel, x,y)\n",
    "        return torch.einsum(\"bixy,ioxy->boxy\", input, weights)\n",
    "\n",
    "    def forward(self, x):\n",
    "        \"\"\"\n",
    "        Input parameters: \n",
    "        -----------------\n",
    "        x : tensor, shape-[Batch * Channel * x * y]\n",
    "        Output parameters: \n",
    "        ------------------\n",
    "        x : tensor, shape-[Batch * Channel * x * y]\n",
    "        \"\"\"        \n",
    "        # Compute dual tree continuous Wavelet coefficients \n",
    "        cwt = DTCWTForward(J=self.level, biort=self.wavelet_level1, qshift=self.wavelet_level2).to(x.device)\n",
    "        x_ft, x_coeff = cwt(x)\n",
    "        \n",
    "        out_ft = torch.zeros_like(x_ft, device= x.device)\n",
    "        out_coeff = [torch.zeros_like(coeffs, device= x.device) for coeffs in x_coeff]\n",
    "        \n",
    "        # Multiply the final approximate Wavelet modes\n",
    "        out_ft = self.mul2d(x_ft[:, :, :self.modes1, :self.modes2], self.weights0)\n",
    "        # Multiply the final detailed wavelet coefficients        \n",
    "        out_coeff[-1][:,:,0,:,:,0] = self.mul2d(x_coeff[-1][:,:,0,:,:,0].clone(), self.weights15r)\n",
    "        out_coeff[-1][:,:,0,:,:,1] = self.mul2d(x_coeff[-1][:,:,0,:,:,1].clone(), self.weights15c)\n",
    "        out_coeff[-1][:,:,1,:,:,0] = self.mul2d(x_coeff[-1][:,:,1,:,:,0].clone(), self.weights45r)\n",
    "        out_coeff[-1][:,:,1,:,:,1] = self.mul2d(x_coeff[-1][:,:,1,:,:,1].clone(), self.weights45c)\n",
    "        out_coeff[-1][:,:,2,:,:,0] = self.mul2d(x_coeff[-1][:,:,2,:,:,0].clone(), self.weights75r)\n",
    "        out_coeff[-1][:,:,2,:,:,1] = self.mul2d(x_coeff[-1][:,:,2,:,:,1].clone(), self.weights75c)\n",
    "        out_coeff[-1][:,:,3,:,:,0] = self.mul2d(x_coeff[-1][:,:,3,:,:,0].clone(), self.weights105r)\n",
    "        out_coeff[-1][:,:,3,:,:,1] = self.mul2d(x_coeff[-1][:,:,3,:,:,1].clone(), self.weights105c)\n",
    "        out_coeff[-1][:,:,4,:,:,0] = self.mul2d(x_coeff[-1][:,:,4,:,:,0].clone(), self.weights135r)\n",
    "        out_coeff[-1][:,:,4,:,:,1] = self.mul2d(x_coeff[-1][:,:,4,:,:,1].clone(), self.weights135c)\n",
    "        out_coeff[-1][:,:,5,:,:,0] = self.mul2d(x_coeff[-1][:,:,5,:,:,0].clone(), self.weights165r)\n",
    "        out_coeff[-1][:,:,5,:,:,1] = self.mul2d(x_coeff[-1][:,:,5,:,:,1].clone(), self.weights165c)\n",
    "        \n",
    "        # Return to physical space        \n",
    "        icwt = DTCWTInverse(biort=self.wavelet_level1, qshift=self.wavelet_level2).to(x.device)\n",
    "        x = icwt((out_ft, out_coeff))\n",
    "        return x\n"
   ]
  },
  {
   "cell_type": "code",
   "execution_count": null,
   "metadata": {
    "id": "zpeJTDt3-kyO"
   },
   "outputs": [],
   "source": [
    "class WNO2d(nn.Module):\n",
    "    def __init__(self, width, level, size, wavelet, in_channel, grid_range):\n",
    "        super(WNO2d, self).__init__()\n",
    "\n",
    "        \"\"\"\n",
    "        The WNO network. It contains 4 layers of the Wavelet integral layer.\n",
    "        1. Lift the input using v(x) = self.fc0 .\n",
    "        2. 4 layers of the integral operators v(+1) = g(K(.) + W)(v).\n",
    "            W is defined by self.w_; K is defined by self.conv_.\n",
    "        3. Project the output of last layer using self.fc1 and self.fc2.\n",
    "        \n",
    "        input: the solution of the coefficient function and locations (a(x, y), x, y)\n",
    "        input shape: (batchsize, x=s, y=s, c=3)\n",
    "        output: the solution \n",
    "        output shape: (batchsize, x=s, y=s, c=1)\n",
    "        \"\"\"\n",
    "\n",
    "        self.level = level\n",
    "        self.width = width\n",
    "        self.size = size\n",
    "        self.wavelet1 = wavelet[0]\n",
    "        self.wavelet2 = wavelet[1]\n",
    "        self.in_channel = in_channel\n",
    "        self.grid_range = grid_range \n",
    "        self.padding = 1\n",
    "        \n",
    "        self.fc0 = nn.Linear(self.in_channel, self.width) # input channel is 3: (a(x, y), x, y)\n",
    "\n",
    "        self.conv0 = WaveConv2dCwt(self.width, self.width, self.level, self.size,\n",
    "                                            self.wavelet1, self.wavelet2)\n",
    "        self.conv1 = WaveConv2dCwt(self.width, self.width, self.level, self.size,\n",
    "                                            self.wavelet1, self.wavelet2)\n",
    "        self.conv2 = WaveConv2dCwt(self.width, self.width, self.level, self.size,\n",
    "                                            self.wavelet1, self.wavelet2)\n",
    "        self.w0 = nn.Conv2d(self.width, self.width, 1)\n",
    "        self.w1 = nn.Conv2d(self.width, self.width, 1)\n",
    "        self.w2 = nn.Conv2d(self.width, self.width, 1)\n",
    "\n",
    "        self.fc1 = nn.Linear(self.width, 128)\n",
    "        self.fc2 = nn.Linear(128, 1)\n",
    "\n",
    "    def forward(self, x):\n",
    "        grid = self.get_grid(x.shape, x.device)\n",
    "        x = torch.cat((x, grid), dim=-1)\n",
    "\n",
    "        x = self.fc0(x)\n",
    "        x = x.permute(0, 3, 1, 2)\n",
    "        if self.padding != 0:\n",
    "            x = F.pad(x, [0,self.padding, 0,self.padding]) \n",
    "        \n",
    "        # pdb.set_trace()\n",
    "        x1 = self.conv0(x)\n",
    "        x2 = self.w0(x)\n",
    "        x = x1 + x2\n",
    "        x = F.gelu(x)\n",
    "\n",
    "        x1 = self.conv1(x)\n",
    "        x2 = self.w1(x)\n",
    "        x = x1 + x2\n",
    "        x = F.gelu(x)\n",
    "\n",
    "        x1 = self.conv2(x)\n",
    "        x2 = self.w2(x)\n",
    "        x = x1 + x2\n",
    "\n",
    "        if self.padding != 0:\n",
    "            x = x[..., :-self.padding, :-self.padding]\n",
    "        x = x.permute(0, 2, 3, 1)\n",
    "        x = self.fc1(x)\n",
    "        x = F.gelu(x)\n",
    "        x = self.fc2(x)\n",
    "        return x\n",
    "    \n",
    "    def get_grid(self, shape, device):\n",
    "        # The grid of the solution\n",
    "        batchsize, size_x, size_y = shape[0], shape[1], shape[2]\n",
    "        gridx = torch.tensor(np.linspace(0, self.grid_range[0], size_x), dtype=torch.float)\n",
    "        gridx = gridx.reshape(1, size_x, 1, 1).repeat([batchsize, 1, size_y, 1])\n",
    "        gridy = torch.tensor(np.linspace(0, self.grid_range[1], size_y), dtype=torch.float)\n",
    "        gridy = gridy.reshape(1, 1, size_y, 1).repeat([batchsize, size_x, 1, 1])\n",
    "        return torch.cat((gridx, gridy), dim=-1).to(device)"
   ]
  },
  {
   "cell_type": "markdown",
   "metadata": {
    "id": "PYbWdZMv-wLM"
   },
   "source": [
    "# Training and Data"
   ]
  },
  {
   "cell_type": "code",
   "execution_count": null,
   "metadata": {
    "id": "gPYxG-gG-1Sm"
   },
   "outputs": [],
   "source": [
    "ntrain = 4000\n",
    "ntest = 1000\n",
    "epochs = 105\n",
    "lst = 4000\n",
    "batch_size = 250\n",
    "side = 65\n",
    "\n",
    "n_total = ntrain * 50\n",
    "learning_rate = 0.001\n",
    "\n",
    "step_size = 20\n",
    "gamma = 0.5\n",
    "\n",
    "wavelet = ['near_sym_a', 'qshift_a']  # wavelet basis function\n",
    "level = 2        # lavel of wavelet decomposition\n",
    "width = 32       # uplifting dimension\n",
    "s = side\n",
    "grid_range = [1, 1]\n",
    "in_channel = 4\n"
   ]
  },
  {
   "cell_type": "code",
   "execution_count": null,
   "metadata": {
    "id": "MVQq4kzcRcd3"
   },
   "outputs": [],
   "source": [
    "path = 'data/ac2dlowhighres_1.mat'\n",
    "reader = MatReader(path)\n",
    "u_low = np.array(reader.read_field('ulr_nextstep'))\n",
    "u_high = np.array(reader.read_field('uhr'))"
   ]
  },
  {
   "cell_type": "code",
   "execution_count": null,
   "metadata": {},
   "outputs": [],
   "source": [
    "print(u_low.shape, u_high.shape)"
   ]
  },
  {
   "cell_type": "code",
   "execution_count": null,
   "metadata": {},
   "outputs": [],
   "source": [
    "x_or_h = u_high[:,:-1,:,:].reshape(-1,s,s,1)\n",
    "y_or_h = u_high[:,1:,:,:].reshape(-1,s,s)\n",
    "y_or_l = u_low.reshape(-1,s,s,1)\n",
    "\n",
    "print(x_or_h.shape, y_or_h.shape, y_or_l.shape)\n",
    "\n",
    "del u_low, u_high"
   ]
  },
  {
   "cell_type": "code",
   "execution_count": null,
   "metadata": {
    "id": "4onNBYRynjIa"
   },
   "outputs": [],
   "source": [
    "# Create the input and output (residual) dataset\n",
    "\n",
    "x_mf = np.concatenate((x_or_h,y_or_l),axis=-1)\n",
    "y_mf = y_or_h - y_or_l.reshape((n_total,s,s))\n",
    "\n",
    "x_mf = torch.tensor( x_mf, dtype=torch.float ) \n",
    "y_mf = torch.tensor( y_mf, dtype=torch.float ) "
   ]
  },
  {
   "cell_type": "code",
   "execution_count": null,
   "metadata": {
    "id": "Rhzgcb4IRZaw"
   },
   "outputs": [],
   "source": [
    "# Define the dataloaders\n",
    "\n",
    "test_loader_mf = torch.utils.data.DataLoader(torch.utils.data.TensorDataset(x_mf, y_mf),\n",
    "                                              batch_size=batch_size, shuffle=False)"
   ]
  },
  {
   "cell_type": "markdown",
   "metadata": {
    "id": "s-31oJvWVHO-"
   },
   "source": [
    "# MF Model"
   ]
  },
  {
   "cell_type": "code",
   "execution_count": null,
   "metadata": {
    "colab": {
     "base_uri": "https://localhost:8080/"
    },
    "executionInfo": {
     "elapsed": 2,
     "status": "ok",
     "timestamp": 1680492744027,
     "user": {
      "displayName": "CSCCM IITD",
      "userId": "18000198353382878931"
     },
     "user_tz": 240
    },
    "id": "siHHykHz-2ND",
    "outputId": "fe4e405e-1358-46cd-fa14-945050b4d853"
   },
   "outputs": [],
   "source": [
    "# %%\n",
    "\"\"\" The MD-WNO model definition \"\"\"\n",
    "model_mf = torch.load('model/MF_WNO_AC2D_10000samples')\n",
    "print(count_params(model_mf))\n",
    "\n",
    "myloss = LpLoss(size_average=False)\n"
   ]
  },
  {
   "cell_type": "code",
   "execution_count": null,
   "metadata": {
    "id": "pCujdZ_PT4Vl",
    "scrolled": true
   },
   "outputs": [],
   "source": [
    "# Prediction:\n",
    "pred_mf = [] \n",
    "\n",
    "with torch.no_grad():\n",
    "    index = 0\n",
    "    for x, y in test_loader_mf:\n",
    "        x, y = x.to(device), y.to(device)\n",
    "        \n",
    "        t1 = default_timer()\n",
    "        out = model_mf(x).reshape(x.shape[0], s, s)\n",
    "        t2 = default_timer()\n",
    "        test_l2 = myloss(out.view(x.shape[0], -1), y.view(x.shape[0], -1)).item()\n",
    "        \n",
    "        test_l2 /= x.shape[0]\n",
    "        if index % 25 == 0:\n",
    "            print('Batch-{}, Time-{:0.4f}, Test-L2-{:0.4f}'.format(index, t2-t1, test_l2))\n",
    "        pred_mf.append(out.cpu())\n",
    "        index += 1\n",
    "\n",
    "pred_mf = torch.cat(( pred_mf ), dim=0 )"
   ]
  },
  {
   "cell_type": "code",
   "execution_count": null,
   "metadata": {
    "id": "F-ELXZMPT7K_"
   },
   "outputs": [],
   "source": [
    "# Add the residual operator to LF-dataset \n",
    "\n",
    "real_mf = y_mf + x_mf[..., 1]\n",
    "output_mf = pred_mf + x_mf[..., 1]\n",
    "\n",
    "real_mf = real_mf.reshape(ntrain, 50, s, s)\n",
    "output_mf = output_mf.reshape(ntrain, 50, s, s)\n"
   ]
  },
  {
   "cell_type": "code",
   "execution_count": null,
   "metadata": {},
   "outputs": [],
   "source": [
    "print(real_mf.shape, output_mf.shape)"
   ]
  },
  {
   "cell_type": "code",
   "execution_count": null,
   "metadata": {
    "id": "wu0WJf6wT8lu"
   },
   "outputs": [],
   "source": [
    "mse_pred = F.mse_loss(output_mf, real_mf).item()\n",
    "mse_residual = F.mse_loss(y_mf, pred_mf)\n",
    "\n",
    "print('MSE-Predicted solution-{:0.4f}, MSE-Residual-{:0.4f}'\n",
    "      .format(mse_pred, mse_residual))\n"
   ]
  },
  {
   "cell_type": "code",
   "execution_count": null,
   "metadata": {},
   "outputs": [],
   "source": [
    "# Compute error statistics\n",
    "\n",
    "error = (real_mf - output_mf)**2\n",
    "mse_mean = torch.mean(error)\n",
    "mse_std = torch.std(error)\n",
    "\n",
    "print('MSE_mean-{}, MSE-std-{}'.format(mse_mean, mse_std))"
   ]
  },
  {
   "cell_type": "code",
   "execution_count": null,
   "metadata": {},
   "outputs": [],
   "source": [
    "fig10, axs = plt.subplots(nrows=3, ncols=5, figsize=(16, 6), facecolor='w', edgecolor='k')\n",
    "fig10.subplots_adjust(hspace=0.35, wspace=0.2)\n",
    "\n",
    "sample = 1000\n",
    "index = 0 \n",
    "for i in range(50):\n",
    "    if i % 10 == 0:\n",
    "        im = axs[0, index].imshow(real_mf[sample, i, :, :], cmap='jet', vmin=-1, vmax=1)\n",
    "        plt.colorbar(im, ax=axs[0, index])\n",
    "        im = axs[1, index].imshow(output_mf[sample, i, :, :], cmap='jet', vmin=-1, vmax=1)\n",
    "        plt.colorbar(im, ax=axs[1, index])\n",
    "        im = axs[2, index].imshow(torch.abs(real_mf[sample, i, :, :] - output_mf[sample, i, :, :]),\n",
    "                                    cmap='jet')\n",
    "        plt.colorbar(im, ax=axs[2, index])\n",
    "        index += 1\n",
    "        "
   ]
  },
  {
   "cell_type": "code",
   "execution_count": null,
   "metadata": {},
   "outputs": [],
   "source": []
  },
  {
   "cell_type": "markdown",
   "metadata": {
    "id": "3ElUfPiIXy8s"
   },
   "source": [
    "# High Fidelity"
   ]
  },
  {
   "cell_type": "code",
   "execution_count": null,
   "metadata": {
    "id": "RHcYiiunVyvk"
   },
   "outputs": [],
   "source": [
    "class WaveConv2d(nn.Module):\n",
    "    def __init__(self, in_channels, out_channels, level, size, wavelet):\n",
    "        super(WaveConv2d, self).__init__()\n",
    "\n",
    "        \"\"\"\n",
    "        2D Wavelet layer. It does DWT, linear transform, and Inverse dWT. \n",
    "        \"\"\"\n",
    "\n",
    "        self.in_channels = in_channels\n",
    "        self.out_channels = out_channels\n",
    "        self.level = level\n",
    "        self.wavelet = wavelet       \n",
    "        dummy_data = torch.randn( 1,1,*size )        \n",
    "        dwt_ = DWT(J=self.level, mode='symmetric', wave=self.wavelet)\n",
    "        mode_data, mode_coef = dwt_(dummy_data)\n",
    "        self.modes1 = mode_data.shape[-2]\n",
    "        self.modes2 = mode_data.shape[-1]\n",
    "        \n",
    "        # Parameter initilization\n",
    "        self.scale = (1 / (in_channels * out_channels))\n",
    "        self.weights1 = nn.Parameter(self.scale * torch.rand(in_channels, out_channels, self.modes1, self.modes2))\n",
    "        self.weights2 = nn.Parameter(self.scale * torch.rand(in_channels, out_channels, self.modes1, self.modes2))\n",
    "        self.weights3 = nn.Parameter(self.scale * torch.rand(in_channels, out_channels, self.modes1, self.modes2))\n",
    "        self.weights4 = nn.Parameter(self.scale * torch.rand(in_channels, out_channels, self.modes1, self.modes2))\n",
    "\n",
    "    # Convolution\n",
    "    def mul2d(self, input, weights):\n",
    "        # (batch, in_channel, x,y ), (in_channel, out_channel, x,y) -> (batch, out_channel, x,y)\n",
    "        return torch.einsum(\"bixy,ioxy->boxy\", input, weights)\n",
    "\n",
    "    def forward(self, x):\n",
    "        \"\"\"\n",
    "        Input parameters: \n",
    "        -----------------\n",
    "        x : tensor, shape-[Batch * Channel * x * y]\n",
    "        Output parameters: \n",
    "        ------------------\n",
    "        x : tensor, shape-[Batch * Channel * x * y]\n",
    "        \"\"\"\n",
    "        # Compute single tree Discrete Wavelet coefficients using some wavelet\n",
    "        dwt = DWT(J=self.level, mode='symmetric', wave=self.wavelet).to(x.device)\n",
    "        x_ft, x_coeff = dwt(x)\n",
    "\n",
    "        # Multiply the final approximate Wavelet modes\n",
    "        out_ft = self.mul2d(x_ft, self.weights1)\n",
    "        # Multiply the final detailed wavelet coefficients\n",
    "        x_coeff[-1][:,:,0,:,:] = self.mul2d(x_coeff[-1][:,:,0,:,:].clone(), self.weights2)\n",
    "        x_coeff[-1][:,:,1,:,:] = self.mul2d(x_coeff[-1][:,:,1,:,:].clone(), self.weights3)\n",
    "        x_coeff[-1][:,:,2,:,:] = self.mul2d(x_coeff[-1][:,:,2,:,:].clone(), self.weights4)\n",
    "        \n",
    "        # Return to physical space        \n",
    "        idwt = IDWT(mode='symmetric', wave=self.wavelet).to(x.device)\n",
    "        x = idwt((out_ft, x_coeff))\n",
    "        return x"
   ]
  },
  {
   "cell_type": "code",
   "execution_count": null,
   "metadata": {},
   "outputs": [],
   "source": [
    "class WNO2d(nn.Module):\n",
    "    def __init__(self, width, level, size, wavelet, in_channel, grid_range):\n",
    "        super(WNO2d, self).__init__()\n",
    "\n",
    "        self.level = level\n",
    "        self.width = width\n",
    "        self.size = size\n",
    "        self.wavelet = wavelet\n",
    "        self.in_channel = in_channel\n",
    "        self.grid_range = grid_range \n",
    "        self.padding = 1\n",
    "        \n",
    "        self.fc0 = nn.Linear(self.in_channel, self.width) # input channel is 3: (a(x, y), x, y)\n",
    "\n",
    "        self.conv0 = WaveConv2d(self.width, self.width, self.level, self.size, self.wavelet)\n",
    "        self.conv1 = WaveConv2d(self.width, self.width, self.level, self.size, self.wavelet)\n",
    "        self.conv2 = WaveConv2d(self.width, self.width, self.level, self.size, self.wavelet)\n",
    "        self.w0 = nn.Conv2d(self.width, self.width, 1)\n",
    "        self.w1 = nn.Conv2d(self.width, self.width, 1)\n",
    "        self.w2 = nn.Conv2d(self.width, self.width, 1)\n",
    "\n",
    "        self.fc1 = nn.Linear(self.width, 128)\n",
    "        self.fc2 = nn.Linear(128, 1)\n",
    "\n",
    "    def forward(self, x):\n",
    "        grid = self.get_grid(x.shape, x.device)\n",
    "        x = torch.cat((x, grid), dim=-1)\n",
    "\n",
    "        x = self.fc0(x)\n",
    "        x = x.permute(0, 3, 1, 2)\n",
    "        if self.padding != 0:\n",
    "            x = F.pad(x, [0,self.padding, 0,self.padding]) \n",
    "        \n",
    "        # pdb.set_trace()\n",
    "        x1 = self.conv0(x)\n",
    "        x2 = self.w0(x)\n",
    "        x = x1 + x2\n",
    "        x = F.gelu(x)\n",
    "\n",
    "        x1 = self.conv1(x)\n",
    "        x2 = self.w1(x)\n",
    "        x = x1 + x2\n",
    "        x = F.gelu(x)\n",
    "\n",
    "        x1 = self.conv2(x)\n",
    "        x2 = self.w2(x)\n",
    "        x = x1 + x2\n",
    "\n",
    "        if self.padding != 0:\n",
    "            x = x[..., :-self.padding, :-self.padding]\n",
    "        x = x.permute(0, 2, 3, 1)\n",
    "        x = self.fc1(x)\n",
    "        x = F.gelu(x)\n",
    "        x = self.fc2(x)\n",
    "        return x\n",
    "    \n",
    "    def get_grid(self, shape, device):\n",
    "        # The grid of the solution\n",
    "        batchsize, size_x, size_y = shape[0], shape[1], shape[2]\n",
    "        gridx = torch.tensor(np.linspace(0, self.grid_range[0], size_x), dtype=torch.float)\n",
    "        gridx = gridx.reshape(1, size_x, 1, 1).repeat([batchsize, 1, size_y, 1])\n",
    "        gridy = torch.tensor(np.linspace(0, self.grid_range[1], size_y), dtype=torch.float)\n",
    "        gridy = gridy.reshape(1, 1, size_y, 1).repeat([batchsize, size_x, 1, 1])\n",
    "        return torch.cat((gridx, gridy), dim=-1).to(device)\n",
    "    "
   ]
  },
  {
   "cell_type": "code",
   "execution_count": null,
   "metadata": {},
   "outputs": [],
   "source": [
    "wavelet = 'db4'  # wavelet basis function\n",
    "level = 2        # lavel of wavelet decomposition\n",
    "width = 32       # uplifting dimension\n",
    "s = side\n",
    "grid_range = [1, 1]\n",
    "in_channel = 3"
   ]
  },
  {
   "cell_type": "code",
   "execution_count": null,
   "metadata": {},
   "outputs": [],
   "source": [
    "print(x_or_h.shape, y_or_h.shape)"
   ]
  },
  {
   "cell_type": "code",
   "execution_count": null,
   "metadata": {
    "colab": {
     "base_uri": "https://localhost:8080/"
    },
    "executionInfo": {
     "elapsed": 2,
     "status": "ok",
     "timestamp": 1680493159060,
     "user": {
      "displayName": "CSCCM IITD",
      "userId": "18000198353382878931"
     },
     "user_tz": 240
    },
    "id": "IT3OsJelW1S7",
    "outputId": "48fdf8da-302a-40d3-a2fd-9c4d7fb4b696"
   },
   "outputs": [],
   "source": [
    "model = torch.load('model/HF_WNO_AC2D_10000samples')\n",
    "print(count_params(model))\n",
    "\n",
    "myloss = LpLoss(size_average=False)\n"
   ]
  },
  {
   "cell_type": "code",
   "execution_count": null,
   "metadata": {
    "id": "hI83wtdTTUbV",
    "scrolled": true
   },
   "outputs": [],
   "source": [
    "# Predict on HF data using HF-WNO\n",
    "pred_hf = [] \n",
    "with torch.no_grad():\n",
    "    index = 0\n",
    "    for x, y in test_loader_mf:\n",
    "        x, y = x.to(device), y.to(device)\n",
    "        t1 = default_timer()\n",
    "        out = model(x[..., 0:1]).reshape(x.shape[0], s, s)\n",
    "        t2 = default_timer()\n",
    "\n",
    "        test_l2 = myloss(out.view(x.shape[0], -1), y.view(x.shape[0], -1)).item()\n",
    "        \n",
    "        test_l2 /= x.shape[0]\n",
    "        if index % 25 == 0:\n",
    "            print('Batch-{}, Time-{:0.4f}, Test-L2-{:0.4f}'.format(index, t2-t1, test_l2))\n",
    "        \n",
    "        pred_hf.append(out.cpu())\n",
    "        index += 1\n",
    "\n",
    "pred_hf = torch.cat(( pred_hf ), dim=0 )\n",
    "\n",
    "# print('Mean mse_hf-{}'.format(F.mse_loss(y_hf, pred_hf).item()))"
   ]
  },
  {
   "cell_type": "code",
   "execution_count": null,
   "metadata": {},
   "outputs": [],
   "source": [
    "y_mf.shape"
   ]
  },
  {
   "cell_type": "code",
   "execution_count": null,
   "metadata": {},
   "outputs": [],
   "source": [
    "# Get the time shape\n",
    "\n",
    "real_hf = (y_mf +  x_mf[:,:,:,0]).reshape(ntrain, 50, s, s)\n",
    "output_hf = pred_hf.reshape(ntrain, 50, s, s)"
   ]
  },
  {
   "cell_type": "code",
   "execution_count": null,
   "metadata": {},
   "outputs": [],
   "source": [
    "print('Mean mse_hf-{}'.format(F.mse_loss(real_hf, output_hf).item()))"
   ]
  },
  {
   "cell_type": "code",
   "execution_count": null,
   "metadata": {},
   "outputs": [],
   "source": [
    "# Compute error statistics\n",
    "\n",
    "error = (real_hf - output_hf)**2\n",
    "mse_mean = torch.mean(error)\n",
    "mse_std = torch.std(error)\n",
    "\n",
    "print('MSE_mean-{}, MSE-std-{}'.format(mse_mean, mse_std))"
   ]
  },
  {
   "cell_type": "code",
   "execution_count": null,
   "metadata": {
    "colab": {
     "base_uri": "https://localhost:8080/",
     "height": 314
    },
    "executionInfo": {
     "elapsed": 570,
     "status": "ok",
     "timestamp": 1680493504605,
     "user": {
      "displayName": "CSCCM IITD",
      "userId": "18000198353382878931"
     },
     "user_tz": 240
    },
    "id": "whU4jHaxT4UH",
    "outputId": "91947d56-1b36-433b-c7ee-fcf2e568727a"
   },
   "outputs": [],
   "source": [
    "fig5, axs = plt.subplots(nrows=3, ncols=5, figsize=(16, 6), facecolor='w', edgecolor='k')\n",
    "fig5.subplots_adjust(hspace=0.35, wspace=0.2)\n",
    "\n",
    "fig5.suptitle(f'Predictions MFWNO AC2d Size', fontsize=16)\n",
    "sample = 1000\n",
    "index = 0 \n",
    "for i in range(50):\n",
    "    if i % 10 == 0:\n",
    "        im = axs[0, index].imshow(real_hf[sample, i, :, :], cmap='jet', vmin=-1, vmax=1)\n",
    "        plt.colorbar(im, ax=axs[0, index])\n",
    "        im = axs[1, index].imshow(output_hf[sample, i, :, :], cmap='jet', vmin=-1, vmax=1)\n",
    "        plt.colorbar(im, ax=axs[1, index])\n",
    "        im = axs[2, index].imshow(torch.abs(real_hf[sample, i, :, :] - output_hf[sample, i, :, :]),\n",
    "                                    cmap='jet')\n",
    "        plt.colorbar(im, ax=axs[2, index])\n",
    "        index += 1\n",
    "        "
   ]
  },
  {
   "cell_type": "code",
   "execution_count": null,
   "metadata": {},
   "outputs": [],
   "source": [
    "output_mf.shape"
   ]
  },
  {
   "cell_type": "code",
   "execution_count": null,
   "metadata": {},
   "outputs": [],
   "source": [
    "# First crossing estimate\n",
    "T = 50    \n",
    "eh = 1.01\n",
    "eh_mcs = np.zeros((ntrain, T))\n",
    "eh_wno_mf = np.zeros((ntrain, T))\n",
    "eh_wno_hf = np.zeros((ntrain, T))\n",
    "\n",
    "for i in range(ntrain):\n",
    "    for j in range(1,T):   # Neglecting the initial condition\n",
    "        if torch.sum( torch.abs(real_mf[i, j, :, :]) > eh ) > eh: \n",
    "            eh_mcs[i,j] = 1\n",
    "        else: \n",
    "            eh_mcs[i,j] = 0\n",
    "        \n",
    "for i in range(ntrain): \n",
    "    for j in range(1,T):   # Neglecting the initial condition\n",
    "        if torch.sum( torch.abs(output_mf[i, j, :, :]) > eh ) > eh: \n",
    "            eh_wno_mf[i,j] = 1\n",
    "        else: \n",
    "            eh_wno_mf[i,j] = 0\n",
    "            \n",
    "for i in range(ntrain): \n",
    "    for j in range(1,T):   # Neglecting the initial condition\n",
    "        if torch.sum( torch.abs(output_hf[i, j, :, :]) > eh ) > eh: \n",
    "            eh_wno_hf[i,j] = 1\n",
    "        else: \n",
    "            eh_wno_hf[i,j] = 0\n",
    "            "
   ]
  },
  {
   "cell_type": "code",
   "execution_count": null,
   "metadata": {},
   "outputs": [],
   "source": [
    "np.where(eh_mcs[i] > 0)"
   ]
  },
  {
   "cell_type": "code",
   "execution_count": null,
   "metadata": {},
   "outputs": [],
   "source": [
    "count_mcs = np.zeros(ntrain)\n",
    "count_wno_mf = np.zeros(ntrain)\n",
    "count_wno_hf = np.zeros(ntrain)\n",
    "time_mcs = np.zeros(ntrain)\n",
    "time_wno_mf = np.zeros(ntrain)\n",
    "time_wno_hf = np.zeros(ntrain)\n",
    "\n",
    "for i in range(ntrain):\n",
    "    if len(np.where(eh_mcs[i] > 0)[0]) == 0:\n",
    "        time_mcs[i] = T\n",
    "        count_mcs[i] = 0\n",
    "    else:\n",
    "        time_mcs[i] = np.where(eh_mcs[i] > 0)[0][0]\n",
    "        count_mcs[i] = 1\n",
    "\n",
    "for i in range(ntrain):\n",
    "    if len(np.where(eh_wno_mf[i] > 0)[0]) == 0:\n",
    "        time_wno_mf[i] = T\n",
    "        count_wno_mf[i] = 0 \n",
    "    else:\n",
    "        time_wno_mf[i] = np.where(eh_wno_mf[i] > 0)[0][0]\n",
    "        count_wno_mf[i] = 1 \n",
    "        \n",
    "for i in range(ntrain):\n",
    "    if len(np.where(eh_wno_hf[i] > 0)[0]) == 0:\n",
    "        time_wno_hf[i] = T\n",
    "        count_wno_hf[i] = 0 \n",
    "    else:\n",
    "        time_wno_hf[i] = np.where(eh_wno_hf[i] > 0)[0][0]\n",
    "        count_wno_hf[i] = 1 \n",
    "\n",
    "pf_mcs = len(np.where(count_mcs!=0)[0])/ntrain\n",
    "pf_wno_mf = len(np.where(count_wno_mf!=0)[0])/ntrain\n",
    "pf_wno_hf = len(np.where(count_wno_hf!=0)[0])/ntrain\n",
    "\n",
    "print('Failure samples, MCS-{}, WNO-MF-{}, WNO-HF-{}'.format(count_mcs, count_wno_mf, count_wno_hf))\n",
    "print('Prob. of failure, MCS-{}, WNO-MF-{}, WNO-HF-{}'.format(pf_mcs, pf_wno_mf, pf_wno_hf))\n"
   ]
  },
  {
   "cell_type": "code",
   "execution_count": null,
   "metadata": {
    "colab": {
     "base_uri": "https://localhost:8080/",
     "height": 810
    },
    "executionInfo": {
     "elapsed": 9337,
     "status": "ok",
     "timestamp": 1680496232322,
     "user": {
      "displayName": "CSCCM IITD",
      "userId": "18000198353382878931"
     },
     "user_tz": 240
    },
    "id": "HU6bi2-OU2zv",
    "outputId": "662c2668-34f7-440b-e98c-50c6164de9e9"
   },
   "outputs": [],
   "source": [
    "labels = ['Failure Probability']*ntrain \n",
    "df = pdf(data={'Methods':labels, 'MCS':time_mcs, 'MFWNO':time_wno_mf, 'HFWNO':time_wno_hf})\n",
    "\n",
    "plt.rcParams['font.family'] = 'Times New Roman'\n",
    "plt.rcParams['font.size'] = 26\n",
    "\n",
    "fig2, ax = plt.subplots(nrows=1, ncols=1, figsize=(12,8), dpi=600)\n",
    "sns.kdeplot(data=df, x=\"MCS\", fill=True, common_norm=False, color='cyan', alpha=0.25,\n",
    "            linewidth=1, multiple=\"layer\", bw_method=0.5, bw_adjust=1.5,\n",
    "            label='MCS')\n",
    "sns.kdeplot(data=df, x=\"MFWNO\", fill=False, color='red', linestyle='-.',\n",
    "            linewidth=4, multiple=\"layer\", bw_method=0.41, bw_adjust=2.0,\n",
    "            label='MF-WNO')\n",
    "sns.kdeplot(data=df, x=\"HFWNO\", fill=False, color='green', linestyle='--',\n",
    "            linewidth=4, multiple=\"layer\", bw_method=0.41, bw_adjust=2.0,\n",
    "            label='HF-WNO')\n",
    "ax.set_xlabel('First crossing time (s)')\n",
    "ax.set_ylabel('PDF')\n",
    "ax.set_xlim([-60, 120])\n",
    "plt.legend(labelspacing=0.15)\n",
    "plt.grid(True, alpha=0.35)\n",
    "\n",
    "# fig2.savefig('pf_AC2d.pdf', format='pdf', dpi=600, bbox_inches='tight')\n"
   ]
  },
  {
   "cell_type": "code",
   "execution_count": null,
   "metadata": {},
   "outputs": [],
   "source": [
    "# Save the data:\n",
    "scipy.io.savemat('data/results_MFWNO_AC_10000samples.mat', mdict={'time_mcs':time_mcs,\n",
    "                                                    'time_wno_mf':time_wno_mf,\n",
    "                                                    'time_wno_hf':time_wno_hf,\n",
    "                                                    'count_mcs':count_mcs,\n",
    "                                                    'count_wno_mf':count_wno_mf,\n",
    "                                                    'count_wno_hf':count_wno_hf})\n"
   ]
  },
  {
   "cell_type": "code",
   "execution_count": null,
   "metadata": {},
   "outputs": [],
   "source": [
    "scipy.io.savemat('data/MFWNO_Allen_Cahn_n200.mat', mdict={'real_mf':real_mf.cpu().numpy(), \n",
    "                                                        'output_hf':output_hf.cpu().numpy(),\n",
    "                                                        'output_mf':output_mf.cpu().numpy()})\n"
   ]
  },
  {
   "cell_type": "code",
   "execution_count": null,
   "metadata": {},
   "outputs": [],
   "source": [
    "real_mf.shape"
   ]
  },
  {
   "cell_type": "code",
   "execution_count": null,
   "metadata": {},
   "outputs": [],
   "source": [
    "plt.rcParams[\"font.family\"] = \"Serif\"\n",
    "plt.rcParams['font.size'] = 10\n",
    "\n",
    "fig6, ax = plt.subplots(nrows=5, ncols=6, figsize=(14, 8))\n",
    "plt.subplots_adjust(hspace=0.30, wspace=0.7)\n",
    "\n",
    "sample = 1000\n",
    "index = 1\n",
    "\n",
    "im = ax[0,0].imshow(real_mf[sample,0,:,:], extent=[0,1,0,1], interpolation='Gaussian',\n",
    "                                vmin=-1, vmax=1, cmap='jet')\n",
    "ax[0,0].set_title('Step-0')\n",
    "ax[0,0].set_ylabel('IC-{}'.format(sample), color='r', fontsize=12)\n",
    "plt.colorbar(im, ax=ax[0,0], orientation=\"vertical\", fraction=0.046, pad=0.05)\n",
    "ax[1,0].set_ylabel('HFWNO', labelpad=20, color='g', fontsize=12); \n",
    "ax[1,0].set(frame_on=False); ax[1,0].get_xaxis().set_ticks([]); ax[1,0].get_yaxis().set_ticks([])\n",
    "ax[2,0].set_ylabel('Error-HFWNO', labelpad=20, color='g', fontsize=12); \n",
    "ax[2,0].set(frame_on=False); ax[2,0].get_xaxis().set_ticks([]); ax[2,0].get_yaxis().set_ticks([])\n",
    "ax[3,0].set_ylabel('MFWNO', labelpad=20, color='b', fontsize=12); \n",
    "ax[3,0].set(frame_on=False); ax[3,0].get_xaxis().set_ticks([]); ax[3,0].get_yaxis().set_ticks([])\n",
    "ax[4,0].set_ylabel('Error-MFWNO', labelpad=20, color='b', fontsize=12); \n",
    "ax[4,0].set(frame_on=False); ax[4,0].get_xaxis().set_ticks([]); ax[4,0].get_yaxis().set_ticks([])\n",
    "            \n",
    "for i in range(50):\n",
    "    if i % 9 == 0 and i != 0:\n",
    "        im = ax[0,index].imshow(real_mf[sample,i,:,:], extent=[0,1,0,1], interpolation='Gaussian',\n",
    "                                vmin=-1, vmax=1, cmap='jet')\n",
    "        ax[0,index].set_title('Step-{}'.format(i+1));\n",
    "        plt.colorbar(im, ax=ax[0,index], orientation=\"vertical\", fraction=0.046, pad=0.05)\n",
    "\n",
    "        im = ax[1,index].imshow(output_hf[sample,i,:,:], extent=[0,1,0,1], interpolation='Gaussian',\n",
    "                                vmin=-1, vmax=1, cmap='jet')\n",
    "        plt.colorbar(im, ax=ax[1,index], orientation=\"vertical\", fraction=0.046, pad=0.05)\n",
    "\n",
    "        im = ax[2,index].imshow(np.abs(real_mf[sample,i,:,:] - output_hf[sample,i,:,:]), extent=[0,1,0,1],\n",
    "                                interpolation='Gaussian', vmin=0, vmax=0.05, cmap='jet')\n",
    "        plt.colorbar(im, ax=ax[2,index], orientation=\"vertical\", fraction=0.046, pad=0.05)\n",
    "\n",
    "        im = ax[3,index].imshow(output_mf[sample,i,:,:], extent=[0,1,0,1], interpolation='Gaussian',\n",
    "                                vmin=-1, vmax=1, cmap='jet')\n",
    "        plt.colorbar(im, ax=ax[3,index], orientation=\"vertical\", fraction=0.046, pad=0.05)\n",
    "\n",
    "        im = ax[4,index].imshow(np.abs(real_mf[sample,i,:,:] - output_mf[sample,i,:,:]), extent=[0,1,0,1],\n",
    "                                interpolation='Gaussian', vmin=0, vmax=0.05, cmap='jet')\n",
    "        plt.colorbar(im, ax=ax[4,index], orientation=\"vertical\", fraction=0.046, pad=0.05)\n",
    "        index += 1\n",
    "\n",
    "# fig6.savefig('Prediction_AC.pdf', format='pdf', dpi=100, bbox_inches='tight')  \n"
   ]
  },
  {
   "cell_type": "code",
   "execution_count": null,
   "metadata": {},
   "outputs": [],
   "source": []
  }
 ],
 "metadata": {
  "accelerator": "GPU",
  "colab": {
   "authorship_tag": "ABX9TyOjZCU0Za7/TgYeQCK7zD4/",
   "machine_shape": "hm",
   "provenance": [
    {
     "file_id": "1tX2GWAJczeMcQh_sQxxRE7l2iqTVgQiI",
     "timestamp": 1657707119891
    },
    {
     "file_id": "1dZDsY9GN11KWInJ5P2lGu5cjpube9Pyk",
     "timestamp": 1657558949607
    },
    {
     "file_id": "1Ms71XMkjtfE4Dk8XWfNwqcdRJpeWvC2Q",
     "timestamp": 1656413318405
    },
    {
     "file_id": "1fXGQRqGH0Sjj6hvnVQWF5aFAR7Kzbncs",
     "timestamp": 1656412090942
    },
    {
     "file_id": "1OPIb4ygLODwEKnHrahQ__DiDVyCq6543",
     "timestamp": 1656351883644
    }
   ]
  },
  "gpuClass": "premium",
  "kernelspec": {
   "display_name": "Python 3 (ipykernel)",
   "language": "python",
   "name": "python3"
  },
  "language_info": {
   "codemirror_mode": {
    "name": "ipython",
    "version": 3
   },
   "file_extension": ".py",
   "mimetype": "text/x-python",
   "name": "python",
   "nbconvert_exporter": "python",
   "pygments_lexer": "ipython3",
   "version": "3.11.7"
  }
 },
 "nbformat": 4,
 "nbformat_minor": 4
}
