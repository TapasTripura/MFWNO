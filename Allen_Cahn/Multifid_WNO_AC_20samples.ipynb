{
 "cells": [
  {
   "cell_type": "markdown",
   "metadata": {},
   "source": [
    "# It trains MF-WNO for 2D time dependent Allen Cahn equation\n",
    "### HF data size = 20 samples, with 50 time steps 1000 points"
   ]
  },
  {
   "cell_type": "code",
   "execution_count": null,
   "metadata": {
    "id": "ce-T3Tu5zyE4"
   },
   "outputs": [],
   "source": [
    "import numpy as np\n",
    "import torch\n",
    "import torch.nn as nn\n",
    "import torch.nn.functional as F\n",
    "from torch.nn.parameter import Parameter\n",
    "torch.cuda.empty_cache()\n",
    "import matplotlib.pyplot as plt\n",
    "from utils import *\n",
    "\n",
    "from timeit import default_timer\n",
    "from pytorch_wavelets import DWT, IDWT # (or import DWT, IDWT)\n",
    "from pytorch_wavelets import DTCWTForward, DTCWTInverse"
   ]
  },
  {
   "cell_type": "code",
   "execution_count": null,
   "metadata": {
    "id": "8JbWtxniSerT"
   },
   "outputs": [],
   "source": [
    "torch.manual_seed(0)\n",
    "np.random.seed(0)"
   ]
  },
  {
   "cell_type": "markdown",
   "metadata": {
    "id": "cbC_I56c-bb3"
   },
   "source": [
    "# WNO"
   ]
  },
  {
   "cell_type": "code",
   "execution_count": null,
   "metadata": {
    "id": "R08jMzYL-kLX"
   },
   "outputs": [],
   "source": [
    "class WaveConv2dCwt(nn.Module):\n",
    "    def __init__(self, in_channels, out_channels, level, size, wavelet1, wavelet2):\n",
    "        super(WaveConv2dCwt, self).__init__()\n",
    "\n",
    "        \"\"\"\n",
    "        2D Wavelet layer. It does DWT, linear transform, and Inverse dWT. \n",
    "        !! It is computationally expensive than the discrete \"WaveConv2d\" !!\n",
    "        \"\"\"\n",
    "\n",
    "        self.in_channels = in_channels\n",
    "        self.out_channels = out_channels\n",
    "        self.level = level\n",
    "        self.wavelet_level1 = wavelet1\n",
    "        self.wavelet_level2 = wavelet2        \n",
    "        dummy_data = torch.randn( 1,1,*size ) \n",
    "        dwt_ = DTCWTForward(J=self.level, biort=self.wavelet_level1,\n",
    "                            qshift=self.wavelet_level2)\n",
    "        mode_data, mode_coef = dwt_(dummy_data)\n",
    "        self.modes1 = mode_data.shape[-2]\n",
    "        self.modes2 = mode_data.shape[-1]\n",
    "        self.modes21 = mode_coef[-1].shape[-3]\n",
    "        self.modes22 = mode_coef[-1].shape[-2]\n",
    "        \n",
    "        # Parameter initilization\n",
    "        self.scale = (1 / (in_channels * out_channels))\n",
    "        self.weights0 = nn.Parameter(self.scale * torch.rand(in_channels, out_channels, self.modes1, self.modes2))\n",
    "        self.weights15r = nn.Parameter(self.scale * torch.rand(in_channels, out_channels, self.modes21, self.modes22))\n",
    "        self.weights15c = nn.Parameter(self.scale * torch.rand(in_channels, out_channels, self.modes21, self.modes22))\n",
    "        self.weights45r = nn.Parameter(self.scale * torch.rand(in_channels, out_channels, self.modes21, self.modes22))\n",
    "        self.weights45c = nn.Parameter(self.scale * torch.rand(in_channels, out_channels, self.modes21, self.modes22))\n",
    "        self.weights75r = nn.Parameter(self.scale * torch.rand(in_channels, out_channels, self.modes21, self.modes22))\n",
    "        self.weights75c = nn.Parameter(self.scale * torch.rand(in_channels, out_channels, self.modes21, self.modes22))\n",
    "        self.weights105r = nn.Parameter(self.scale * torch.rand(in_channels, out_channels, self.modes21, self.modes22))\n",
    "        self.weights105c = nn.Parameter(self.scale * torch.rand(in_channels, out_channels, self.modes21, self.modes22))\n",
    "        self.weights135r = nn.Parameter(self.scale * torch.rand(in_channels, out_channels, self.modes21, self.modes22))\n",
    "        self.weights135c = nn.Parameter(self.scale * torch.rand(in_channels, out_channels, self.modes21, self.modes22))\n",
    "        self.weights165r = nn.Parameter(self.scale * torch.rand(in_channels, out_channels, self.modes21, self.modes22))\n",
    "        self.weights165c = nn.Parameter(self.scale * torch.rand(in_channels, out_channels, self.modes21, self.modes22))\n",
    "\n",
    "    # Convolution\n",
    "    def mul2d(self, input, weights):\n",
    "        # (batch, in_channel, x,y ), (in_channel, out_channel, x,y) -> (batch, out_channel, x,y)\n",
    "        return torch.einsum(\"bixy,ioxy->boxy\", input, weights)\n",
    "\n",
    "    def forward(self, x):\n",
    "        \"\"\"\n",
    "        Input parameters: \n",
    "        -----------------\n",
    "        x : tensor, shape-[Batch * Channel * x * y]\n",
    "        Output parameters: \n",
    "        ------------------\n",
    "        x : tensor, shape-[Batch * Channel * x * y]\n",
    "        \"\"\"        \n",
    "        # Compute dual tree continuous Wavelet coefficients \n",
    "        cwt = DTCWTForward(J=self.level, biort=self.wavelet_level1, qshift=self.wavelet_level2).to(x.device)\n",
    "        x_ft, x_coeff = cwt(x)\n",
    "        \n",
    "        out_ft = torch.zeros_like(x_ft, device= x.device)\n",
    "        out_coeff = [torch.zeros_like(coeffs, device= x.device) for coeffs in x_coeff]\n",
    "        \n",
    "        # Multiply the final approximate Wavelet modes\n",
    "        out_ft = self.mul2d(x_ft[:, :, :self.modes1, :self.modes2], self.weights0)\n",
    "        # Multiply the final detailed wavelet coefficients        \n",
    "        out_coeff[-1][:,:,0,:,:,0] = self.mul2d(x_coeff[-1][:,:,0,:,:,0].clone(), self.weights15r)\n",
    "        out_coeff[-1][:,:,0,:,:,1] = self.mul2d(x_coeff[-1][:,:,0,:,:,1].clone(), self.weights15c)\n",
    "        out_coeff[-1][:,:,1,:,:,0] = self.mul2d(x_coeff[-1][:,:,1,:,:,0].clone(), self.weights45r)\n",
    "        out_coeff[-1][:,:,1,:,:,1] = self.mul2d(x_coeff[-1][:,:,1,:,:,1].clone(), self.weights45c)\n",
    "        out_coeff[-1][:,:,2,:,:,0] = self.mul2d(x_coeff[-1][:,:,2,:,:,0].clone(), self.weights75r)\n",
    "        out_coeff[-1][:,:,2,:,:,1] = self.mul2d(x_coeff[-1][:,:,2,:,:,1].clone(), self.weights75c)\n",
    "        out_coeff[-1][:,:,3,:,:,0] = self.mul2d(x_coeff[-1][:,:,3,:,:,0].clone(), self.weights105r)\n",
    "        out_coeff[-1][:,:,3,:,:,1] = self.mul2d(x_coeff[-1][:,:,3,:,:,1].clone(), self.weights105c)\n",
    "        out_coeff[-1][:,:,4,:,:,0] = self.mul2d(x_coeff[-1][:,:,4,:,:,0].clone(), self.weights135r)\n",
    "        out_coeff[-1][:,:,4,:,:,1] = self.mul2d(x_coeff[-1][:,:,4,:,:,1].clone(), self.weights135c)\n",
    "        out_coeff[-1][:,:,5,:,:,0] = self.mul2d(x_coeff[-1][:,:,5,:,:,0].clone(), self.weights165r)\n",
    "        out_coeff[-1][:,:,5,:,:,1] = self.mul2d(x_coeff[-1][:,:,5,:,:,1].clone(), self.weights165c)\n",
    "        \n",
    "        # Return to physical space        \n",
    "        icwt = DTCWTInverse(biort=self.wavelet_level1, qshift=self.wavelet_level2).to(x.device)\n",
    "        x = icwt((out_ft, out_coeff))\n",
    "        return x\n"
   ]
  },
  {
   "cell_type": "code",
   "execution_count": null,
   "metadata": {
    "id": "zpeJTDt3-kyO"
   },
   "outputs": [],
   "source": [
    "class WNO2d(nn.Module):\n",
    "    def __init__(self, width, level, size, wavelet, in_channel, grid_range):\n",
    "        super(WNO2d, self).__init__()\n",
    "\n",
    "        \"\"\"\n",
    "        The WNO network. It contains 4 layers of the Wavelet integral layer.\n",
    "        1. Lift the input using v(x) = self.fc0 .\n",
    "        2. 4 layers of the integral operators v(+1) = g(K(.) + W)(v).\n",
    "            W is defined by self.w_; K is defined by self.conv_.\n",
    "        3. Project the output of last layer using self.fc1 and self.fc2.\n",
    "        \n",
    "        input: the solution of the coefficient function and locations (a(x, y), x, y)\n",
    "        input shape: (batchsize, x=s, y=s, c=3)\n",
    "        output: the solution \n",
    "        output shape: (batchsize, x=s, y=s, c=1)\n",
    "        \"\"\"\n",
    "\n",
    "        self.level = level\n",
    "        self.width = width\n",
    "        self.size = size\n",
    "        self.wavelet1 = wavelet[0]\n",
    "        self.wavelet2 = wavelet[1]\n",
    "        self.in_channel = in_channel\n",
    "        self.grid_range = grid_range \n",
    "        self.padding = 1\n",
    "        \n",
    "        self.fc0 = nn.Linear(self.in_channel, self.width) # input channel is 3: (a(x, y), x, y)\n",
    "\n",
    "        self.conv0 = WaveConv2dCwt(self.width, self.width, self.level, self.size,\n",
    "                                            self.wavelet1, self.wavelet2)\n",
    "        self.conv1 = WaveConv2dCwt(self.width, self.width, self.level, self.size,\n",
    "                                            self.wavelet1, self.wavelet2)\n",
    "        self.conv2 = WaveConv2dCwt(self.width, self.width, self.level, self.size,\n",
    "                                            self.wavelet1, self.wavelet2)\n",
    "        self.w0 = nn.Conv2d(self.width, self.width, 1)\n",
    "        self.w1 = nn.Conv2d(self.width, self.width, 1)\n",
    "        self.w2 = nn.Conv2d(self.width, self.width, 1)\n",
    "\n",
    "        self.fc1 = nn.Linear(self.width, 128)\n",
    "        self.fc2 = nn.Linear(128, 1)\n",
    "\n",
    "    def forward(self, x):\n",
    "        grid = self.get_grid(x.shape, x.device)\n",
    "        x = torch.cat((x, grid), dim=-1)\n",
    "\n",
    "        x = self.fc0(x)\n",
    "        x = x.permute(0, 3, 1, 2)\n",
    "        if self.padding != 0:\n",
    "            x = F.pad(x, [0,self.padding, 0,self.padding]) \n",
    "        \n",
    "        # pdb.set_trace()\n",
    "        x1 = self.conv0(x)\n",
    "        x2 = self.w0(x)\n",
    "        x = x1 + x2\n",
    "        x = F.gelu(x)\n",
    "\n",
    "        x1 = self.conv1(x)\n",
    "        x2 = self.w1(x)\n",
    "        x = x1 + x2\n",
    "        x = F.gelu(x)\n",
    "\n",
    "        x1 = self.conv2(x)\n",
    "        x2 = self.w2(x)\n",
    "        x = x1 + x2\n",
    "\n",
    "        if self.padding != 0:\n",
    "            x = x[..., :-self.padding, :-self.padding]\n",
    "        x = x.permute(0, 2, 3, 1)\n",
    "        x = self.fc1(x)\n",
    "        x = F.gelu(x)\n",
    "        x = self.fc2(x)\n",
    "        return x\n",
    "    \n",
    "    def get_grid(self, shape, device):\n",
    "        # The grid of the solution\n",
    "        batchsize, size_x, size_y = shape[0], shape[1], shape[2]\n",
    "        gridx = torch.tensor(np.linspace(0, self.grid_range[0], size_x), dtype=torch.float)\n",
    "        gridx = gridx.reshape(1, size_x, 1, 1).repeat([batchsize, 1, size_y, 1])\n",
    "        gridy = torch.tensor(np.linspace(0, self.grid_range[1], size_y), dtype=torch.float)\n",
    "        gridy = gridy.reshape(1, 1, size_y, 1).repeat([batchsize, size_x, 1, 1])\n",
    "        return torch.cat((gridx, gridy), dim=-1).to(device)"
   ]
  },
  {
   "cell_type": "markdown",
   "metadata": {
    "id": "PYbWdZMv-wLM"
   },
   "source": [
    "# Training and Data"
   ]
  },
  {
   "cell_type": "code",
   "execution_count": null,
   "metadata": {
    "id": "gPYxG-gG-1Sm"
   },
   "outputs": [],
   "source": [
    "ntrain = 1000\n",
    "ntest = 1000\n",
    "ntotal = ntrain + ntest\n",
    "epochs = 250\n",
    "lst = 3000\n",
    "batch_size = 100\n",
    "side = 65\n",
    "\n",
    "n_total = ntrain + ntest\n",
    "learning_rate = 0.001\n",
    "\n",
    "step_size = 40\n",
    "gamma = 0.5\n",
    "\n",
    "wavelet = ['near_sym_a', 'qshift_a']  # wavelet basis function\n",
    "level = 2        # lavel of wavelet decomposition\n",
    "width = 32       # uplifting dimension\n",
    "s = side\n",
    "grid_range = [1, 1]\n",
    "in_channel = 4\n"
   ]
  },
  {
   "cell_type": "code",
   "execution_count": null,
   "metadata": {
    "id": "MVQq4kzcRcd3"
   },
   "outputs": [],
   "source": [
    "path = 'data/ac2dlowhighres_1.mat'\n",
    "reader = MatReader(path)\n",
    "u_low = np.array(reader.read_field('ulr_nextstep')[:(ntotal//50)])\n",
    "u_high = np.array(reader.read_field('uhr')[:(ntotal//50)])"
   ]
  },
  {
   "cell_type": "code",
   "execution_count": null,
   "metadata": {},
   "outputs": [],
   "source": [
    "print(u_low.shape, u_high.shape)"
   ]
  },
  {
   "cell_type": "code",
   "execution_count": null,
   "metadata": {
    "id": "ssqgRORpmAi9"
   },
   "outputs": [],
   "source": [
    "x_or_h = u_high[:,:-1,:,:].reshape(-1,s,s,1)\n",
    "y_or_h = u_high[:,1:,:,:].reshape(-1,s,s)\n",
    "y_or_l = u_low.reshape(-1,s,s,1)\n",
    "\n",
    "print(x_or_h.shape, y_or_h.shape, y_or_l.shape)"
   ]
  },
  {
   "cell_type": "code",
   "execution_count": null,
   "metadata": {
    "id": "4onNBYRynjIa"
   },
   "outputs": [],
   "source": [
    "# Create the input and output (residual) dataset\n",
    "\n",
    "x_mf = np.concatenate((x_or_h,y_or_l),axis=-1)\n",
    "y_mf = y_or_h - y_or_l.reshape((n_total,s,s))\n",
    "\n",
    "x_mf = torch.tensor( x_mf, dtype=torch.float ) \n",
    "y_mf = torch.tensor( y_mf, dtype=torch.float ) "
   ]
  },
  {
   "cell_type": "code",
   "execution_count": null,
   "metadata": {},
   "outputs": [],
   "source": [
    "generator = torch.Generator().manual_seed(453)\n",
    "dataset = torch.utils.data.random_split(torch.utils.data.TensorDataset(x_mf, y_mf),\n",
    "                                    [ntrain, ntest], generator=generator)\n",
    "train_data, test_data = dataset[0], dataset[1]\n"
   ]
  },
  {
   "cell_type": "code",
   "execution_count": null,
   "metadata": {
    "id": "j0rQJiB1S0Hb"
   },
   "outputs": [],
   "source": [
    "# Split the training and testing datasets\n",
    "\n",
    "x_train_mf, y_train_mf = train_data[:][0], train_data[:][1]\n",
    "x_test_mf, y_test_mf = test_data[:][0], test_data[:][1]"
   ]
  },
  {
   "cell_type": "code",
   "execution_count": null,
   "metadata": {},
   "outputs": [],
   "source": [
    "y_train_mf.shape"
   ]
  },
  {
   "cell_type": "code",
   "execution_count": null,
   "metadata": {
    "id": "Rhzgcb4IRZaw"
   },
   "outputs": [],
   "source": [
    "# Define the dataloaders\n",
    "\n",
    "train_loader_mf = torch.utils.data.DataLoader(torch.utils.data.TensorDataset(x_train_mf, y_train_mf),\n",
    "                                           batch_size=batch_size, shuffle=True)\n",
    "test_loader_mf = torch.utils.data.DataLoader(torch.utils.data.TensorDataset(x_test_mf, y_test_mf),\n",
    "                                              batch_size=batch_size, shuffle=False)"
   ]
  },
  {
   "cell_type": "code",
   "execution_count": null,
   "metadata": {
    "colab": {
     "base_uri": "https://localhost:8080/"
    },
    "executionInfo": {
     "elapsed": 2,
     "status": "ok",
     "timestamp": 1680492744027,
     "user": {
      "displayName": "CSCCM IITD",
      "userId": "18000198353382878931"
     },
     "user_tz": 240
    },
    "id": "siHHykHz-2ND",
    "outputId": "fe4e405e-1358-46cd-fa14-945050b4d853"
   },
   "outputs": [],
   "source": [
    "# %%\n",
    "\"\"\" The MD-WNO model definition \"\"\"\n",
    "model_mf = WNO2d(width=width, level=level, size=[s,s], wavelet=wavelet,\n",
    "              in_channel=in_channel, grid_range=grid_range).to(device)\n",
    "print(count_params(model_mf))\n",
    "\n",
    "optimizer = torch.optim.Adam(model_mf.parameters(), lr=learning_rate, weight_decay=1e-6)\n",
    "scheduler = torch.optim.lr_scheduler.StepLR(optimizer, step_size=step_size, gamma=gamma)"
   ]
  },
  {
   "cell_type": "markdown",
   "metadata": {
    "id": "s-31oJvWVHO-"
   },
   "source": [
    "# MF Model"
   ]
  },
  {
   "cell_type": "code",
   "execution_count": null,
   "metadata": {
    "colab": {
     "base_uri": "https://localhost:8080/",
     "height": 1000
    },
    "executionInfo": {
     "elapsed": 336152,
     "status": "error",
     "timestamp": 1680493081409,
     "user": {
      "displayName": "CSCCM IITD",
      "userId": "18000198353382878931"
     },
     "user_tz": 240
    },
    "id": "RuP6QIZt-5Ag",
    "outputId": "3dbce736-a909-40df-a93f-693034023386",
    "scrolled": true
   },
   "outputs": [
    {
     "name": "stdout",
     "output_type": "stream",
     "text": [
      "Epoch-111, Time-10.3409, Train-MSE-0.0022, Train-L2-0.0778, Test-L2-0.0845\n",
      "Epoch-112, Time-10.3255, Train-MSE-0.0022, Train-L2-0.0777, Test-L2-0.0844\n",
      "Epoch-113, Time-10.3060, Train-MSE-0.0022, Train-L2-0.0776, Test-L2-0.0840\n",
      "Epoch-114, Time-10.3505, Train-MSE-0.0022, Train-L2-0.0775, Test-L2-0.0841\n",
      "Epoch-115, Time-10.3581, Train-MSE-0.0022, Train-L2-0.0772, Test-L2-0.0836\n",
      "Epoch-116, Time-10.3614, Train-MSE-0.0022, Train-L2-0.0770, Test-L2-0.0848\n",
      "Epoch-117, Time-10.3406, Train-MSE-0.0022, Train-L2-0.0770, Test-L2-0.0834\n",
      "Epoch-118, Time-10.3378, Train-MSE-0.0022, Train-L2-0.0767, Test-L2-0.0839\n",
      "Epoch-119, Time-10.3365, Train-MSE-0.0022, Train-L2-0.0766, Test-L2-0.0830\n",
      "Epoch-120, Time-10.2836, Train-MSE-0.0022, Train-L2-0.0757, Test-L2-0.0824\n",
      "Epoch-121, Time-10.3182, Train-MSE-0.0022, Train-L2-0.0754, Test-L2-0.0823\n",
      "Epoch-122, Time-10.3123, Train-MSE-0.0022, Train-L2-0.0753, Test-L2-0.0820\n",
      "Epoch-123, Time-10.2999, Train-MSE-0.0022, Train-L2-0.0751, Test-L2-0.0819\n",
      "Epoch-124, Time-10.3298, Train-MSE-0.0022, Train-L2-0.0750, Test-L2-0.0819\n",
      "Epoch-125, Time-10.3308, Train-MSE-0.0022, Train-L2-0.0750, Test-L2-0.0819\n",
      "Epoch-126, Time-10.2983, Train-MSE-0.0022, Train-L2-0.0749, Test-L2-0.0818\n",
      "Epoch-127, Time-10.2819, Train-MSE-0.0022, Train-L2-0.0747, Test-L2-0.0816\n",
      "Epoch-128, Time-10.2847, Train-MSE-0.0022, Train-L2-0.0746, Test-L2-0.0815\n",
      "Epoch-129, Time-10.2872, Train-MSE-0.0022, Train-L2-0.0746, Test-L2-0.0814\n",
      "Epoch-130, Time-10.2382, Train-MSE-0.0022, Train-L2-0.0745, Test-L2-0.0814\n",
      "Epoch-131, Time-10.2588, Train-MSE-0.0022, Train-L2-0.0744, Test-L2-0.0813\n",
      "Epoch-132, Time-10.3320, Train-MSE-0.0022, Train-L2-0.0743, Test-L2-0.0813\n",
      "Epoch-133, Time-10.3666, Train-MSE-0.0022, Train-L2-0.0743, Test-L2-0.0812\n",
      "Epoch-134, Time-10.4276, Train-MSE-0.0022, Train-L2-0.0742, Test-L2-0.0810\n",
      "Epoch-135, Time-10.4059, Train-MSE-0.0022, Train-L2-0.0741, Test-L2-0.0809\n",
      "Epoch-136, Time-10.4358, Train-MSE-0.0022, Train-L2-0.0740, Test-L2-0.0811\n",
      "Epoch-137, Time-10.4195, Train-MSE-0.0022, Train-L2-0.0740, Test-L2-0.0807\n",
      "Epoch-138, Time-10.3729, Train-MSE-0.0022, Train-L2-0.0738, Test-L2-0.0807\n",
      "Epoch-139, Time-10.3362, Train-MSE-0.0022, Train-L2-0.0737, Test-L2-0.0806\n",
      "Epoch-140, Time-10.3322, Train-MSE-0.0022, Train-L2-0.0735, Test-L2-0.0805\n",
      "Epoch-141, Time-10.3277, Train-MSE-0.0022, Train-L2-0.0735, Test-L2-0.0804\n",
      "Epoch-142, Time-10.3040, Train-MSE-0.0022, Train-L2-0.0734, Test-L2-0.0803\n",
      "Epoch-143, Time-10.2482, Train-MSE-0.0022, Train-L2-0.0733, Test-L2-0.0802\n",
      "Epoch-144, Time-10.2250, Train-MSE-0.0022, Train-L2-0.0733, Test-L2-0.0802\n",
      "Epoch-145, Time-10.2508, Train-MSE-0.0022, Train-L2-0.0731, Test-L2-0.0800\n",
      "Epoch-146, Time-10.2303, Train-MSE-0.0022, Train-L2-0.0730, Test-L2-0.0800\n",
      "Epoch-147, Time-10.2205, Train-MSE-0.0022, Train-L2-0.0730, Test-L2-0.0800\n",
      "Epoch-148, Time-10.1831, Train-MSE-0.0022, Train-L2-0.0729, Test-L2-0.0798\n",
      "Epoch-149, Time-10.1987, Train-MSE-0.0022, Train-L2-0.0728, Test-L2-0.0797\n",
      "Epoch-150, Time-10.2049, Train-MSE-0.0022, Train-L2-0.0727, Test-L2-0.0796\n",
      "Epoch-151, Time-10.1889, Train-MSE-0.0022, Train-L2-0.0726, Test-L2-0.0796\n",
      "Epoch-152, Time-10.2295, Train-MSE-0.0022, Train-L2-0.0726, Test-L2-0.0794\n",
      "Epoch-153, Time-10.2738, Train-MSE-0.0022, Train-L2-0.0724, Test-L2-0.0795\n",
      "Epoch-154, Time-10.3111, Train-MSE-0.0022, Train-L2-0.0724, Test-L2-0.0793\n",
      "Epoch-155, Time-10.3060, Train-MSE-0.0022, Train-L2-0.0723, Test-L2-0.0793\n",
      "Epoch-156, Time-10.3310, Train-MSE-0.0022, Train-L2-0.0722, Test-L2-0.0792\n",
      "Epoch-157, Time-10.3390, Train-MSE-0.0022, Train-L2-0.0721, Test-L2-0.0790\n",
      "Epoch-158, Time-10.3354, Train-MSE-0.0022, Train-L2-0.0720, Test-L2-0.0790\n",
      "Epoch-159, Time-10.3279, Train-MSE-0.0022, Train-L2-0.0720, Test-L2-0.0789\n",
      "Epoch-160, Time-10.3504, Train-MSE-0.0022, Train-L2-0.0716, Test-L2-0.0786\n",
      "Epoch-161, Time-10.3550, Train-MSE-0.0022, Train-L2-0.0715, Test-L2-0.0785\n",
      "Epoch-162, Time-10.3362, Train-MSE-0.0022, Train-L2-0.0714, Test-L2-0.0784\n",
      "Epoch-163, Time-10.3483, Train-MSE-0.0022, Train-L2-0.0714, Test-L2-0.0784\n",
      "Epoch-164, Time-10.3366, Train-MSE-0.0022, Train-L2-0.0713, Test-L2-0.0783\n",
      "Epoch-165, Time-10.3621, Train-MSE-0.0022, Train-L2-0.0712, Test-L2-0.0783\n",
      "Epoch-166, Time-10.3889, Train-MSE-0.0022, Train-L2-0.0712, Test-L2-0.0783\n",
      "Epoch-167, Time-10.4167, Train-MSE-0.0022, Train-L2-0.0712, Test-L2-0.0782\n",
      "Epoch-168, Time-10.4188, Train-MSE-0.0022, Train-L2-0.0711, Test-L2-0.0782\n",
      "Epoch-169, Time-10.4287, Train-MSE-0.0022, Train-L2-0.0711, Test-L2-0.0782\n",
      "Epoch-170, Time-10.3869, Train-MSE-0.0022, Train-L2-0.0710, Test-L2-0.0781\n",
      "Epoch-171, Time-10.4188, Train-MSE-0.0022, Train-L2-0.0710, Test-L2-0.0780\n",
      "Epoch-172, Time-10.3633, Train-MSE-0.0022, Train-L2-0.0709, Test-L2-0.0780\n",
      "Epoch-173, Time-10.3372, Train-MSE-0.0022, Train-L2-0.0709, Test-L2-0.0780\n",
      "Epoch-174, Time-10.3158, Train-MSE-0.0022, Train-L2-0.0709, Test-L2-0.0779\n",
      "Epoch-175, Time-10.3300, Train-MSE-0.0022, Train-L2-0.0708, Test-L2-0.0779\n",
      "Epoch-176, Time-10.3382, Train-MSE-0.0022, Train-L2-0.0708, Test-L2-0.0778\n",
      "Epoch-177, Time-10.3387, Train-MSE-0.0022, Train-L2-0.0707, Test-L2-0.0778\n",
      "Epoch-178, Time-10.3236, Train-MSE-0.0022, Train-L2-0.0707, Test-L2-0.0778\n",
      "Epoch-179, Time-10.3331, Train-MSE-0.0022, Train-L2-0.0707, Test-L2-0.0777\n",
      "Epoch-180, Time-10.3455, Train-MSE-0.0022, Train-L2-0.0706, Test-L2-0.0777\n",
      "Epoch-181, Time-10.4003, Train-MSE-0.0022, Train-L2-0.0705, Test-L2-0.0776\n",
      "Epoch-182, Time-10.4473, Train-MSE-0.0022, Train-L2-0.0705, Test-L2-0.0776\n",
      "Epoch-183, Time-10.4567, Train-MSE-0.0022, Train-L2-0.0705, Test-L2-0.0775\n",
      "Epoch-184, Time-10.4805, Train-MSE-0.0022, Train-L2-0.0704, Test-L2-0.0775\n",
      "Epoch-185, Time-10.4703, Train-MSE-0.0022, Train-L2-0.0704, Test-L2-0.0775\n",
      "Epoch-186, Time-10.4428, Train-MSE-0.0022, Train-L2-0.0703, Test-L2-0.0774\n",
      "Epoch-187, Time-10.4115, Train-MSE-0.0022, Train-L2-0.0703, Test-L2-0.0774\n",
      "Epoch-188, Time-10.4136, Train-MSE-0.0022, Train-L2-0.0703, Test-L2-0.0773\n",
      "Epoch-189, Time-10.3627, Train-MSE-0.0022, Train-L2-0.0702, Test-L2-0.0773\n",
      "Epoch-190, Time-10.3455, Train-MSE-0.0022, Train-L2-0.0702, Test-L2-0.0772\n",
      "Epoch-191, Time-10.2752, Train-MSE-0.0022, Train-L2-0.0701, Test-L2-0.0772\n",
      "Epoch-192, Time-10.3029, Train-MSE-0.0022, Train-L2-0.0701, Test-L2-0.0772\n",
      "Epoch-193, Time-10.2475, Train-MSE-0.0022, Train-L2-0.0700, Test-L2-0.0771\n",
      "Epoch-194, Time-10.2274, Train-MSE-0.0022, Train-L2-0.0700, Test-L2-0.0771\n",
      "Epoch-195, Time-10.2324, Train-MSE-0.0022, Train-L2-0.0700, Test-L2-0.0771\n",
      "Epoch-196, Time-10.2191, Train-MSE-0.0022, Train-L2-0.0699, Test-L2-0.0770\n",
      "Epoch-197, Time-10.2406, Train-MSE-0.0022, Train-L2-0.0699, Test-L2-0.0769\n",
      "Epoch-198, Time-10.2484, Train-MSE-0.0022, Train-L2-0.0698, Test-L2-0.0769\n",
      "Epoch-199, Time-10.2875, Train-MSE-0.0022, Train-L2-0.0698, Test-L2-0.0768\n",
      "Epoch-200, Time-10.2673, Train-MSE-0.0022, Train-L2-0.0696, Test-L2-0.0767\n",
      "Epoch-201, Time-10.3360, Train-MSE-0.0022, Train-L2-0.0695, Test-L2-0.0767\n",
      "Epoch-202, Time-10.3381, Train-MSE-0.0022, Train-L2-0.0695, Test-L2-0.0767\n",
      "Epoch-203, Time-10.3605, Train-MSE-0.0022, Train-L2-0.0695, Test-L2-0.0766\n",
      "Epoch-204, Time-10.3837, Train-MSE-0.0022, Train-L2-0.0694, Test-L2-0.0766\n",
      "Epoch-205, Time-10.3990, Train-MSE-0.0022, Train-L2-0.0695, Test-L2-0.0766\n",
      "Epoch-206, Time-10.4593, Train-MSE-0.0022, Train-L2-0.0694, Test-L2-0.0765\n",
      "Epoch-207, Time-10.4708, Train-MSE-0.0022, Train-L2-0.0694, Test-L2-0.0766\n",
      "Epoch-208, Time-10.5025, Train-MSE-0.0022, Train-L2-0.0694, Test-L2-0.0765\n",
      "Epoch-209, Time-10.4747, Train-MSE-0.0022, Train-L2-0.0694, Test-L2-0.0765\n",
      "Epoch-210, Time-10.4659, Train-MSE-0.0022, Train-L2-0.0693, Test-L2-0.0765\n",
      "Epoch-211, Time-10.4415, Train-MSE-0.0022, Train-L2-0.0693, Test-L2-0.0765\n",
      "Epoch-212, Time-10.4220, Train-MSE-0.0022, Train-L2-0.0693, Test-L2-0.0764\n",
      "Epoch-213, Time-10.4173, Train-MSE-0.0022, Train-L2-0.0693, Test-L2-0.0764\n",
      "Epoch-214, Time-10.3761, Train-MSE-0.0022, Train-L2-0.0692, Test-L2-0.0764\n",
      "Epoch-215, Time-10.3819, Train-MSE-0.0022, Train-L2-0.0692, Test-L2-0.0764\n",
      "Epoch-216, Time-10.3279, Train-MSE-0.0022, Train-L2-0.0692, Test-L2-0.0764\n",
      "Epoch-217, Time-10.2827, Train-MSE-0.0022, Train-L2-0.0692, Test-L2-0.0764\n",
      "Epoch-218, Time-10.3215, Train-MSE-0.0022, Train-L2-0.0692, Test-L2-0.0763\n",
      "Epoch-219, Time-10.3117, Train-MSE-0.0022, Train-L2-0.0691, Test-L2-0.0763\n",
      "Epoch-220, Time-10.3235, Train-MSE-0.0022, Train-L2-0.0691, Test-L2-0.0763\n"
     ]
    },
    {
     "name": "stdout",
     "output_type": "stream",
     "text": [
      "Epoch-221, Time-10.3758, Train-MSE-0.0022, Train-L2-0.0691, Test-L2-0.0763\n",
      "Epoch-222, Time-10.3756, Train-MSE-0.0022, Train-L2-0.0691, Test-L2-0.0762\n",
      "Epoch-223, Time-10.4011, Train-MSE-0.0022, Train-L2-0.0690, Test-L2-0.0762\n",
      "Epoch-224, Time-10.4006, Train-MSE-0.0022, Train-L2-0.0690, Test-L2-0.0762\n",
      "Epoch-225, Time-10.3939, Train-MSE-0.0022, Train-L2-0.0690, Test-L2-0.0762\n",
      "Epoch-226, Time-10.4035, Train-MSE-0.0022, Train-L2-0.0690, Test-L2-0.0762\n",
      "Epoch-227, Time-10.3591, Train-MSE-0.0022, Train-L2-0.0690, Test-L2-0.0762\n",
      "Epoch-228, Time-10.3892, Train-MSE-0.0022, Train-L2-0.0690, Test-L2-0.0761\n",
      "Epoch-229, Time-10.3848, Train-MSE-0.0022, Train-L2-0.0689, Test-L2-0.0761\n",
      "Epoch-230, Time-10.3771, Train-MSE-0.0022, Train-L2-0.0689, Test-L2-0.0760\n",
      "Epoch-231, Time-10.4102, Train-MSE-0.0022, Train-L2-0.0688, Test-L2-0.0760\n",
      "Epoch-232, Time-10.3891, Train-MSE-0.0022, Train-L2-0.0688, Test-L2-0.0760\n",
      "Epoch-233, Time-10.4259, Train-MSE-0.0022, Train-L2-0.0688, Test-L2-0.0760\n",
      "Epoch-234, Time-10.4129, Train-MSE-0.0022, Train-L2-0.0688, Test-L2-0.0760\n",
      "Epoch-235, Time-10.3636, Train-MSE-0.0022, Train-L2-0.0688, Test-L2-0.0759\n",
      "Epoch-236, Time-10.3538, Train-MSE-0.0022, Train-L2-0.0687, Test-L2-0.0759\n",
      "Epoch-237, Time-10.3370, Train-MSE-0.0022, Train-L2-0.0687, Test-L2-0.0759\n",
      "Epoch-238, Time-10.3537, Train-MSE-0.0022, Train-L2-0.0687, Test-L2-0.0759\n",
      "Epoch-239, Time-10.3063, Train-MSE-0.0022, Train-L2-0.0687, Test-L2-0.0759\n",
      "Epoch-240, Time-10.2903, Train-MSE-0.0022, Train-L2-0.0686, Test-L2-0.0758\n",
      "Epoch-241, Time-10.2653, Train-MSE-0.0022, Train-L2-0.0686, Test-L2-0.0758\n",
      "Epoch-242, Time-10.3020, Train-MSE-0.0022, Train-L2-0.0685, Test-L2-0.0758\n",
      "Epoch-243, Time-10.2987, Train-MSE-0.0022, Train-L2-0.0685, Test-L2-0.0757\n",
      "Epoch-244, Time-10.3039, Train-MSE-0.0022, Train-L2-0.0685, Test-L2-0.0757\n",
      "Epoch-245, Time-10.3244, Train-MSE-0.0022, Train-L2-0.0685, Test-L2-0.0757\n",
      "Epoch-246, Time-10.3336, Train-MSE-0.0022, Train-L2-0.0685, Test-L2-0.0757\n",
      "Epoch-247, Time-10.2841, Train-MSE-0.0022, Train-L2-0.0685, Test-L2-0.0757\n",
      "Epoch-248, Time-10.3116, Train-MSE-0.0022, Train-L2-0.0685, Test-L2-0.0757\n",
      "Epoch-249, Time-10.3528, Train-MSE-0.0022, Train-L2-0.0684, Test-L2-0.0757\n"
     ]
    }
   ],
   "source": [
    "# Train the MF-WNO model on MF-dataset\n",
    "\n",
    "myloss = LpLoss(size_average=False)\n",
    "for ep in range(epochs):\n",
    "    model_mf.train()\n",
    "    t1 = default_timer()\n",
    "    train_mse = 0\n",
    "    train_l2 = 0\n",
    "    for x, y in train_loader_mf:\n",
    "        x, y = x.to(device), y.to(device)\n",
    "\n",
    "        optimizer.zero_grad()\n",
    "        out = model_mf(x).reshape(x.shape[0], s, s)\n",
    "        \n",
    "        mse = F.mse_loss(out.view(x.shape[0], -1), y.view(x.shape[0], -1), reduction='mean')\n",
    "        loss = myloss(out.view(x.shape[0],-1), y.view(x.shape[0],-1))\n",
    "        loss.backward()\n",
    "        optimizer.step()\n",
    "        \n",
    "        train_mse += mse.item()\n",
    "        train_l2 += loss.item()\n",
    "    \n",
    "    scheduler.step()\n",
    "    model_mf.eval()\n",
    "    test_l2 = 0.0\n",
    "    with torch.no_grad():\n",
    "        for x, y in test_loader_mf:\n",
    "            x, y = x.to(device), y.to(device)\n",
    "\n",
    "            out = model_mf(x).reshape(x.shape[0], s, s)\n",
    "\n",
    "            test_l2 += myloss(out.view(x.shape[0], -1), y.view(x.shape[0], -1)).item()\n",
    "\n",
    "    train_mse /= len(train_loader_mf)\n",
    "    train_l2/= ntrain\n",
    "    test_l2 /= ntest\n",
    "    t2 = default_timer()\n",
    "    print('Epoch-{}, Time-{:0.4f}, Train-MSE-{:0.4f}, Train-L2-{:0.4f}, Test-L2-{:0.4f}'\n",
    "          .format(ep, t2-t1, train_mse, train_l2, test_l2))"
   ]
  },
  {
   "cell_type": "code",
   "execution_count": null,
   "metadata": {},
   "outputs": [],
   "source": [
    "# Save the MF-WNO model\n",
    "\n",
    "torch.save(model_mf, 'model/MF_WNO_AC2D_1000samples')"
   ]
  },
  {
   "cell_type": "code",
   "execution_count": null,
   "metadata": {
    "id": "pCujdZ_PT4Vl"
   },
   "outputs": [],
   "source": [
    "# Prediction:\n",
    "pred_mf = [] \n",
    "with torch.no_grad():\n",
    "    index = 0\n",
    "    for x, y in test_loader_mf:\n",
    "        x, y = x.to(device), y.to(device)\n",
    "\n",
    "        out = model_mf(x).reshape(x.shape[0], s, s)\n",
    "        test_l2 = myloss(out.view(x.shape[0], -1), y.view(x.shape[0], -1)).item()\n",
    "        test_l2 /= x.shape[0]\n",
    "        print('Batch-{}, Test-L2-{:0.4f}'.format(index, test_l2))\n",
    "        \n",
    "        pred_mf.append(out.cpu())\n",
    "        index += 1\n",
    "\n",
    "pred_mf = torch.cat(( pred_mf ), dim=0 )\n",
    "\n",
    "print('Mean mse_hf-{}'.format(F.mse_loss(y_test_mf, pred_mf).item()))"
   ]
  },
  {
   "cell_type": "code",
   "execution_count": null,
   "metadata": {
    "id": "F-ELXZMPT7K_"
   },
   "outputs": [],
   "source": [
    "# Add the residual operator to LF-dataset \n",
    "\n",
    "real_mf = y_test_mf + x_test_mf[..., 1]\n",
    "output_mf = pred_mf + x_test_mf[..., 1]\n",
    "\n",
    "real_mf_time = real_mf.reshape(20, 50, s, s)\n",
    "output_mf_time = output_mf.reshape(20, 50, s, s)\n"
   ]
  },
  {
   "cell_type": "code",
   "execution_count": null,
   "metadata": {},
   "outputs": [],
   "source": [
    "print(real_mf.shape, output_mf.shape)"
   ]
  },
  {
   "cell_type": "code",
   "execution_count": null,
   "metadata": {
    "id": "wu0WJf6wT8lu"
   },
   "outputs": [],
   "source": [
    "mse_pred = F.mse_loss(output_mf, real_mf).item()\n",
    "mse_LF = F.mse_loss(real_mf, x_test_mf[..., 1])\n",
    "mse_residual = F.mse_loss(y_test_mf, pred_mf)\n",
    "\n",
    "print('MSE-Predicted solution-{:0.4f}, MSE-LF Data-{:0.4f}, MSE-Residual-{:0.4f}'\n",
    "      .format(mse_pred, mse_LF, mse_residual))\n"
   ]
  },
  {
   "cell_type": "code",
   "execution_count": null,
   "metadata": {
    "colab": {
     "base_uri": "https://localhost:8080/",
     "height": 1000
    },
    "executionInfo": {
     "elapsed": 10524,
     "status": "ok",
     "timestamp": 1680493128514,
     "user": {
      "displayName": "CSCCM IITD",
      "userId": "18000198353382878931"
     },
     "user_tz": 240
    },
    "id": "T6UkMuPyUTPP",
    "outputId": "00f7dee6-7808-4e25-cca1-cb4281dfd879"
   },
   "outputs": [],
   "source": [
    "fig4, axs = plt.subplots(nrows=3, ncols=5, figsize=(16, 6), facecolor='w', edgecolor='k')\n",
    "fig4.subplots_adjust(hspace=0.35, wspace=0.2)\n",
    "\n",
    "fig4.suptitle(f'Predictions MFWNO AC2d Size', fontsize=16)\n",
    "sample = 0\n",
    "index = 0 \n",
    "for i in range(50):\n",
    "    if i % 10 == 0:\n",
    "        im = axs[0, index].imshow(real_mf_time[sample, i, :, :], cmap='jet', vmin=-1, vmax=1)\n",
    "        plt.colorbar(im, ax=axs[0, index])\n",
    "        im = axs[1, index].imshow(output_mf_time[sample, i, :, :], cmap='jet', vmin=-1, vmax=1)\n",
    "        plt.colorbar(im, ax=axs[1, index])\n",
    "        im = axs[2, index].imshow(torch.abs(real_mf_time[sample, i, :, :] - output_mf_time[sample, i, :, :]),\n",
    "                                    cmap='jet')\n",
    "        plt.colorbar(im, ax=axs[2, index])\n",
    "        index += 1\n",
    "        "
   ]
  },
  {
   "cell_type": "code",
   "execution_count": null,
   "metadata": {},
   "outputs": [],
   "source": []
  },
  {
   "cell_type": "markdown",
   "metadata": {
    "id": "3ElUfPiIXy8s"
   },
   "source": [
    "# High Fidelity"
   ]
  },
  {
   "cell_type": "code",
   "execution_count": null,
   "metadata": {
    "id": "RHcYiiunVyvk"
   },
   "outputs": [],
   "source": [
    "class WaveConv2d(nn.Module):\n",
    "    def __init__(self, in_channels, out_channels, level, size, wavelet):\n",
    "        super(WaveConv2d, self).__init__()\n",
    "\n",
    "        \"\"\"\n",
    "        2D Wavelet layer. It does DWT, linear transform, and Inverse dWT. \n",
    "        \"\"\"\n",
    "\n",
    "        self.in_channels = in_channels\n",
    "        self.out_channels = out_channels\n",
    "        self.level = level\n",
    "        self.wavelet = wavelet       \n",
    "        dummy_data = torch.randn( 1,1,*size )        \n",
    "        dwt_ = DWT(J=self.level, mode='symmetric', wave=self.wavelet)\n",
    "        mode_data, mode_coef = dwt_(dummy_data)\n",
    "        self.modes1 = mode_data.shape[-2]\n",
    "        self.modes2 = mode_data.shape[-1]\n",
    "        \n",
    "        # Parameter initilization\n",
    "        self.scale = (1 / (in_channels * out_channels))\n",
    "        self.weights1 = nn.Parameter(self.scale * torch.rand(in_channels, out_channels, self.modes1, self.modes2))\n",
    "        self.weights2 = nn.Parameter(self.scale * torch.rand(in_channels, out_channels, self.modes1, self.modes2))\n",
    "        self.weights3 = nn.Parameter(self.scale * torch.rand(in_channels, out_channels, self.modes1, self.modes2))\n",
    "        self.weights4 = nn.Parameter(self.scale * torch.rand(in_channels, out_channels, self.modes1, self.modes2))\n",
    "\n",
    "    # Convolution\n",
    "    def mul2d(self, input, weights):\n",
    "        # (batch, in_channel, x,y ), (in_channel, out_channel, x,y) -> (batch, out_channel, x,y)\n",
    "        return torch.einsum(\"bixy,ioxy->boxy\", input, weights)\n",
    "\n",
    "    def forward(self, x):\n",
    "        \"\"\"\n",
    "        Input parameters: \n",
    "        -----------------\n",
    "        x : tensor, shape-[Batch * Channel * x * y]\n",
    "        Output parameters: \n",
    "        ------------------\n",
    "        x : tensor, shape-[Batch * Channel * x * y]\n",
    "        \"\"\"\n",
    "        # Compute single tree Discrete Wavelet coefficients using some wavelet\n",
    "        dwt = DWT(J=self.level, mode='symmetric', wave=self.wavelet).to(x.device)\n",
    "        x_ft, x_coeff = dwt(x)\n",
    "\n",
    "        # Multiply the final approximate Wavelet modes\n",
    "        out_ft = self.mul2d(x_ft, self.weights1)\n",
    "        # Multiply the final detailed wavelet coefficients\n",
    "        x_coeff[-1][:,:,0,:,:] = self.mul2d(x_coeff[-1][:,:,0,:,:].clone(), self.weights2)\n",
    "        x_coeff[-1][:,:,1,:,:] = self.mul2d(x_coeff[-1][:,:,1,:,:].clone(), self.weights3)\n",
    "        x_coeff[-1][:,:,2,:,:] = self.mul2d(x_coeff[-1][:,:,2,:,:].clone(), self.weights4)\n",
    "        \n",
    "        # Return to physical space        \n",
    "        idwt = IDWT(mode='symmetric', wave=self.wavelet).to(x.device)\n",
    "        x = idwt((out_ft, x_coeff))\n",
    "        return x"
   ]
  },
  {
   "cell_type": "code",
   "execution_count": null,
   "metadata": {},
   "outputs": [],
   "source": [
    "class WNO2d(nn.Module):\n",
    "    def __init__(self, width, level, size, wavelet, in_channel, grid_range):\n",
    "        super(WNO2d, self).__init__()\n",
    "\n",
    "        self.level = level\n",
    "        self.width = width\n",
    "        self.size = size\n",
    "        self.wavelet = wavelet\n",
    "        self.in_channel = in_channel\n",
    "        self.grid_range = grid_range \n",
    "        self.padding = 1\n",
    "        \n",
    "        self.fc0 = nn.Linear(self.in_channel, self.width) # input channel is 3: (a(x, y), x, y)\n",
    "\n",
    "        self.conv0 = WaveConv2d(self.width, self.width, self.level, self.size, self.wavelet)\n",
    "        self.conv1 = WaveConv2d(self.width, self.width, self.level, self.size, self.wavelet)\n",
    "        self.conv2 = WaveConv2d(self.width, self.width, self.level, self.size, self.wavelet)\n",
    "        self.w0 = nn.Conv2d(self.width, self.width, 1)\n",
    "        self.w1 = nn.Conv2d(self.width, self.width, 1)\n",
    "        self.w2 = nn.Conv2d(self.width, self.width, 1)\n",
    "\n",
    "        self.fc1 = nn.Linear(self.width, 128)\n",
    "        self.fc2 = nn.Linear(128, 1)\n",
    "\n",
    "    def forward(self, x):\n",
    "        grid = self.get_grid(x.shape, x.device)\n",
    "        x = torch.cat((x, grid), dim=-1)\n",
    "\n",
    "        x = self.fc0(x)\n",
    "        x = x.permute(0, 3, 1, 2)\n",
    "        if self.padding != 0:\n",
    "            x = F.pad(x, [0,self.padding, 0,self.padding]) \n",
    "        \n",
    "        # pdb.set_trace()\n",
    "        x1 = self.conv0(x)\n",
    "        x2 = self.w0(x)\n",
    "        x = x1 + x2\n",
    "        x = F.gelu(x)\n",
    "\n",
    "        x1 = self.conv1(x)\n",
    "        x2 = self.w1(x)\n",
    "        x = x1 + x2\n",
    "        x = F.gelu(x)\n",
    "\n",
    "        x1 = self.conv2(x)\n",
    "        x2 = self.w2(x)\n",
    "        x = x1 + x2\n",
    "\n",
    "        if self.padding != 0:\n",
    "            x = x[..., :-self.padding, :-self.padding]\n",
    "        x = x.permute(0, 2, 3, 1)\n",
    "        x = self.fc1(x)\n",
    "        x = F.gelu(x)\n",
    "        x = self.fc2(x)\n",
    "        return x\n",
    "    \n",
    "    def get_grid(self, shape, device):\n",
    "        # The grid of the solution\n",
    "        batchsize, size_x, size_y = shape[0], shape[1], shape[2]\n",
    "        gridx = torch.tensor(np.linspace(0, self.grid_range[0], size_x), dtype=torch.float)\n",
    "        gridx = gridx.reshape(1, size_x, 1, 1).repeat([batchsize, 1, size_y, 1])\n",
    "        gridy = torch.tensor(np.linspace(0, self.grid_range[1], size_y), dtype=torch.float)\n",
    "        gridy = gridy.reshape(1, 1, size_y, 1).repeat([batchsize, size_x, 1, 1])\n",
    "        return torch.cat((gridx, gridy), dim=-1).to(device)\n",
    "    "
   ]
  },
  {
   "cell_type": "code",
   "execution_count": null,
   "metadata": {},
   "outputs": [],
   "source": [
    "wavelet = 'db4'  # wavelet basis function\n",
    "level = 2        # lavel of wavelet decomposition\n",
    "width = 32       # uplifting dimension\n",
    "s = side\n",
    "grid_range = [1, 1]\n",
    "in_channel = 3\n",
    "epochs = 105\n",
    "step_size = 20\n"
   ]
  },
  {
   "cell_type": "code",
   "execution_count": null,
   "metadata": {
    "id": "5L-g7RCfWJ6q"
   },
   "outputs": [],
   "source": [
    "# Create the input and output (residual) dataset\n",
    "x_hf = torch.tensor( x_or_h, dtype=torch.float ) \n",
    "y_hf = torch.tensor( y_or_h, dtype=torch.float ) \n",
    "    \n",
    "generator_hf = torch.Generator().manual_seed(453)\n",
    "dataset_hf = torch.utils.data.random_split(torch.utils.data.TensorDataset(x_hf, y_hf),\n",
    "                                    [ntrain, ntest], generator=generator)\n",
    "train_data_hf, test_data_hf = dataset_hf[0], dataset_hf[1]\n",
    "\n",
    "# Split the training and testing datasets\n",
    "x_train_hf, y_train_hf = train_data_hf[:][0], train_data_hf[:][1]\n",
    "x_test_hf, y_test_hf = test_data_hf[:][0], test_data_hf[:][1]\n",
    "\n",
    "# Define the dataloaders\n",
    "train_loader_hf = torch.utils.data.DataLoader(torch.utils.data.TensorDataset(x_train_hf, y_train_hf),\n",
    "                                             batch_size=batch_size, shuffle=True)\n",
    "test_loader_hf = torch.utils.data.DataLoader(torch.utils.data.TensorDataset(x_test_hf, y_test_hf),\n",
    "                                            batch_size=batch_size, shuffle=False)\n"
   ]
  },
  {
   "cell_type": "code",
   "execution_count": null,
   "metadata": {},
   "outputs": [],
   "source": [
    "y_train_hf.shape"
   ]
  },
  {
   "cell_type": "code",
   "execution_count": null,
   "metadata": {
    "colab": {
     "base_uri": "https://localhost:8080/"
    },
    "executionInfo": {
     "elapsed": 2,
     "status": "ok",
     "timestamp": 1680493159060,
     "user": {
      "displayName": "CSCCM IITD",
      "userId": "18000198353382878931"
     },
     "user_tz": 240
    },
    "id": "IT3OsJelW1S7",
    "outputId": "48fdf8da-302a-40d3-a2fd-9c4d7fb4b696"
   },
   "outputs": [],
   "source": [
    "model = WNO2d(width=width, level=level, size=[s,s], wavelet=wavelet,\n",
    "              in_channel=in_channel, grid_range=grid_range).to(device)\n",
    "print(count_params(model))\n",
    "\n",
    "optimizer = torch.optim.Adam(model.parameters(), lr=learning_rate, weight_decay=1e-6)\n",
    "scheduler = torch.optim.lr_scheduler.StepLR(optimizer, step_size=step_size, gamma=gamma)"
   ]
  },
  {
   "cell_type": "code",
   "execution_count": null,
   "metadata": {
    "colab": {
     "base_uri": "https://localhost:8080/"
    },
    "executionInfo": {
     "elapsed": 327910,
     "status": "ok",
     "timestamp": 1680493489523,
     "user": {
      "displayName": "CSCCM IITD",
      "userId": "18000198353382878931"
     },
     "user_tz": 240
    },
    "id": "tjg6qNVzW9Tb",
    "outputId": "449ca57a-432a-4aec-87c6-4f765373a68b",
    "scrolled": true
   },
   "outputs": [],
   "source": [
    "# Train the HF-WNO model\n",
    "\n",
    "myloss = LpLoss(size_average=False)\n",
    "for ep in range(epochs):\n",
    "    model.train()\n",
    "    t1 = default_timer()\n",
    "    train_mse = 0\n",
    "    train_l2 = 0\n",
    "    for x, y in train_loader_hf:\n",
    "        x, y = x.to(device), y.to(device)\n",
    "\n",
    "        optimizer.zero_grad()\n",
    "        out = model(x).reshape(batch_size, s, s)\n",
    "        \n",
    "        mse = F.mse_loss(out.view(batch_size, -1), y.view(batch_size, -1), reduction='mean')\n",
    "        loss = myloss(out.view(batch_size,-1), y.view(batch_size,-1))\n",
    "        loss.backward()\n",
    "        optimizer.step()\n",
    "        \n",
    "        train_mse += mse.item()\n",
    "        train_l2 += loss.item()\n",
    "    \n",
    "    scheduler.step()\n",
    "    model.eval()\n",
    "    test_l2 = 0.0\n",
    "    with torch.no_grad():\n",
    "        for x, y in test_loader_hf:\n",
    "            x, y = x.to(device), y.to(device)\n",
    "\n",
    "            out = model(x).reshape(batch_size, s, s)\n",
    "\n",
    "            test_l2 += myloss(out.view(batch_size,-1), y.view(batch_size,-1)).item()\n",
    "\n",
    "    train_mse /= len(train_loader_hf)\n",
    "    train_l2/= ntrain\n",
    "    test_l2 /= ntest\n",
    "    t2 = default_timer()\n",
    "    print('Epoch-{}, Time-{:0.4f}, Train-MSE-{:0.4f}, Train-L2-{:0.4f}, Test-L2-{:0.4f}'\n",
    "          .format(ep, t2-t1, train_mse, train_l2, test_l2))"
   ]
  },
  {
   "cell_type": "code",
   "execution_count": null,
   "metadata": {},
   "outputs": [],
   "source": [
    "# Save the HF-WNO model\n",
    "\n",
    "torch.save(model, 'model/HF_WNO_AC2D_1000samples')"
   ]
  },
  {
   "cell_type": "code",
   "execution_count": null,
   "metadata": {
    "id": "hI83wtdTTUbV"
   },
   "outputs": [],
   "source": [
    "# Predict on HF data using HF-WNO\n",
    "pred_hf = [] \n",
    "with torch.no_grad():\n",
    "    index = 0\n",
    "    for x, y in test_loader_hf:\n",
    "        x, y = x.to(device), y.to(device)\n",
    "\n",
    "        out = model(x).reshape(x.shape[0], s, s)\n",
    "        test_l2 = myloss(out.view(x.shape[0], -1), y.view(x.shape[0], -1)).item()\n",
    "        test_l2 /= x.shape[0]\n",
    "        print('Batch-{}, Test-L2-{:0.4f}'.format(index, test_l2))\n",
    "        \n",
    "        pred_hf.append(out.cpu())\n",
    "        index += 1\n",
    "\n",
    "pred_hf = torch.cat(( pred_hf ), dim=0 )\n",
    "\n",
    "print('Mean mse_hf-{}'.format(F.mse_loss(y_test_hf, pred_hf).item()))"
   ]
  },
  {
   "cell_type": "code",
   "execution_count": null,
   "metadata": {},
   "outputs": [],
   "source": [
    "pred_hf.shape"
   ]
  },
  {
   "cell_type": "code",
   "execution_count": null,
   "metadata": {},
   "outputs": [],
   "source": [
    "output_hf = pred_hf.reshape(20, 50, s, s)\n",
    "output_hf.shape"
   ]
  },
  {
   "cell_type": "code",
   "execution_count": null,
   "metadata": {},
   "outputs": [],
   "source": [
    "mse_pred_hf = F.mse_loss(pred_hf, y_test_hf).item()\n",
    "\n",
    "print('MSE-Predicted solution-{:0.4f}'.format(mse_pred_hf))\n"
   ]
  },
  {
   "cell_type": "code",
   "execution_count": null,
   "metadata": {
    "colab": {
     "base_uri": "https://localhost:8080/",
     "height": 314
    },
    "executionInfo": {
     "elapsed": 570,
     "status": "ok",
     "timestamp": 1680493504605,
     "user": {
      "displayName": "CSCCM IITD",
      "userId": "18000198353382878931"
     },
     "user_tz": 240
    },
    "id": "whU4jHaxT4UH",
    "outputId": "91947d56-1b36-433b-c7ee-fcf2e568727a"
   },
   "outputs": [],
   "source": [
    "fig5, axs = plt.subplots(nrows=3, ncols=5, figsize=(16, 6), facecolor='w', edgecolor='k')\n",
    "fig5.subplots_adjust(hspace=0.35, wspace=0.2)\n",
    "\n",
    "fig5.suptitle(f'Predictions MFWNO AC2d Size', fontsize=16)\n",
    "index = 0 \n",
    "for i in range(50):\n",
    "    if i % 10 == 0:\n",
    "        im = axs[0, index].imshow(y_test_hf[i, :, :], cmap='jet', vmin=-1, vmax=1)\n",
    "        plt.colorbar(im, ax=axs[0, index])\n",
    "        im = axs[1, index].imshow(pred_hf[i, :, :], cmap='jet', vmin=-1, vmax=1)\n",
    "        plt.colorbar(im, ax=axs[1, index])\n",
    "        im = axs[2, index].imshow(torch.abs(y_test_hf[i, :, :] - pred_hf[i, :, :]),\n",
    "                                    cmap='jet')\n",
    "        plt.colorbar(im, ax=axs[2, index])\n",
    "        index += 1\n",
    "        "
   ]
  },
  {
   "cell_type": "code",
   "execution_count": null,
   "metadata": {
    "id": "4QQDQa_Ugjef"
   },
   "outputs": [],
   "source": [
    "# Define rollout function for time-dependent prediction\n",
    "\n",
    "def rollout(model, vel_in, steps, device='cpu'):\n",
    "    with torch.no_grad():\n",
    "        vel = vel_in.to(device)\n",
    "        velocities = [vel.cpu().numpy()]\n",
    "        for _ in range(steps):\n",
    "            vel = model(vel) \n",
    "            velocities.append(vel.cpu().numpy())\n",
    "            \n",
    "    return np.concatenate(velocities,axis=-1)"
   ]
  },
  {
   "cell_type": "code",
   "execution_count": null,
   "metadata": {
    "id": "aOjrbBj0hARq"
   },
   "outputs": [],
   "source": [
    "# Load initial conditions and rollout the HF-time predictions\n",
    "\n",
    "u_pred = reader.read_field('uhr')[:100]\n",
    "u_init = torch.unsqueeze(u_pred[:,0,:,:],axis=-1)\n",
    "\n",
    "x = reader.read_field('x')\n",
    "y = reader.read_field('y')\n",
    "x_low = x.reshape(-1,)[::2]\n",
    "y_low = y.reshape(-1,)[::2]\n",
    "\n",
    "epsilon = reader.read_field('epsilon')\n",
    "time = reader.read_field('time')\n",
    "dt = float(reader.read_field('dtlarge'))\n",
    "\n",
    "nx = x_low.shape[0]\n",
    "ny = x_low.shape[0]\n",
    "dx= float(x_low[1]-x_low[0])\n",
    "dy = float(y_low[1]-y_low[0])\n",
    "\n",
    "trajectory_hf = rollout(model, u_init, 50, device='cuda')"
   ]
  },
  {
   "cell_type": "code",
   "execution_count": null,
   "metadata": {
    "colab": {
     "base_uri": "https://localhost:8080/"
    },
    "executionInfo": {
     "elapsed": 4,
     "status": "ok",
     "timestamp": 1680493545834,
     "user": {
      "displayName": "CSCCM IITD",
      "userId": "18000198353382878931"
     },
     "user_tz": 240
    },
    "id": "1Q5UsXDNOGEG",
    "outputId": "fbb27683-53f6-4710-e7e4-9cba63277bcc"
   },
   "outputs": [],
   "source": [
    "trajectory_hf.shape"
   ]
  },
  {
   "cell_type": "code",
   "execution_count": null,
   "metadata": {
    "id": "uwiFOqpRwsYN"
   },
   "outputs": [],
   "source": [
    "def laplacian(x,y,dx,dy,epsilon,nx,ny):\n",
    "  kx = 2*torch.pi*torch.fft.fftfreq(x.shape[0],d=dx).cuda()\n",
    "  ky = 2*torch.pi*torch.fft.rfftfreq(y.shape[0],d=dy).cuda()\n",
    "  kxx,kyy = torch.meshgrid(kx,ky, indexing='ij')\n",
    "  kxx = kxx.reshape(1,nx,-1)\n",
    "  kyy = kyy.reshape(1,ny,-1)\n",
    "  lapl = -epsilon*(kxx**2+kyy**2)\n",
    "  return lapl\n",
    "\n",
    "def ac2d_solver(u,laplace,dt):\n",
    "  uhat = torch.fft.rfft2(u)\n",
    "  laplacian = laplace*uhat\n",
    "  u = u + dt*(torch.fft.irfft2(laplacian,s=(u.size(-2), u.size(-1))) + u - u**3)\n",
    "  return u\n",
    "\n",
    "def rollout_mf(model,solver,lapl,dt,vel_in,steps,device='cuda'):\n",
    "  with torch.no_grad():\n",
    "        vel = vel_in.to(device)\n",
    "        velocities = [vel.cpu().numpy()]\n",
    "        for _ in range(steps):\n",
    "          vel_low = torch.squeeze(vel[:,::2,::2,:])\n",
    "          vel_lout = ac2d_solver(vel_low,lapl,dt)\n",
    "          vel_loutup = F.interpolate(torch.unsqueeze(vel_lout,dim=1), \n",
    "                                     size=(vel.shape[1],vel.shape[2]), \n",
    "                                     mode='bicubic',align_corners=True).permute(0,2,3,1).to(device)\n",
    "          del vel_low\n",
    "          del vel_lout\n",
    "          vel_min = torch.concat((vel,vel_loutup),dim=-1)\n",
    "          del vel_loutup\n",
    "          vel = model(vel_min) \n",
    "          vel = vel + vel_min[:,:,:,1:]\n",
    "          del vel_min\n",
    "          velocities.append(vel.cpu().numpy())\n",
    "        \n",
    "  return np.concatenate(velocities,axis=-1)"
   ]
  },
  {
   "cell_type": "code",
   "execution_count": null,
   "metadata": {
    "id": "__U4_tzSoGi0"
   },
   "outputs": [],
   "source": [
    "# Rollout the MF-time predictions\n",
    "\n",
    "lapl = laplacian(x_low,y_low,dx,dy,float(epsilon),nx,ny)\n",
    "trajectory_mf = rollout_mf(model_mf,ac2d_solver,lapl,dt,u_init,50,device='cuda')"
   ]
  },
  {
   "cell_type": "code",
   "execution_count": null,
   "metadata": {
    "colab": {
     "base_uri": "https://localhost:8080/",
     "height": 810
    },
    "executionInfo": {
     "elapsed": 9337,
     "status": "ok",
     "timestamp": 1680496232322,
     "user": {
      "displayName": "CSCCM IITD",
      "userId": "18000198353382878931"
     },
     "user_tz": 240
    },
    "id": "HU6bi2-OU2zv",
    "outputId": "662c2668-34f7-440b-e98c-50c6164de9e9"
   },
   "outputs": [],
   "source": [
    "plt.rcParams[\"font.family\"] = \"Serif\"\n",
    "plt.rcParams['font.size'] = 10\n",
    "\n",
    "fig6, ax = plt.subplots(nrows=5, ncols=6, figsize=(12, 10), dpi=300)\n",
    "# plt.subplots_adjust(hspace=0.25, wspace=0.3)\n",
    "\n",
    "sample = 0\n",
    "index = 0\n",
    "for i in range(50):\n",
    "    if i % 10 == 0:\n",
    "        im = ax[0,index].imshow(u_pred[sample,i,:,:], extent=[0,1,0,1], interpolation='Gaussian',\n",
    "                                vmin=-1, vmax=1, cmap='seismic')\n",
    "        plt.title('Ground Truth Time 5s');\n",
    "        plt.colorbar(im, ax=ax[0,index], orientation=\"horizontal\", fraction=0.04, pad=0.2)\n",
    "        im.set_clim(-1,1)\n",
    "        \n",
    "        im = ax[1,index].imshow(trajectory_hf[sample,:,:,i], extent=[0,1,0,1], interpolation='Gaussian',\n",
    "                                vmin=-1, vmax=1, cmap='seismic')\n",
    "        plt.title('HFSM-Time 5s');\n",
    "        plt.colorbar(im, ax=ax[1,index], orientation=\"horizontal\", fraction=0.04, pad=0.2)\n",
    "        \n",
    "        im = ax[2,index].imshow(np.abs(u_pred[sample,i,:,:] - trajectory_hf[sample,:,:,i]), extent=[0,1,0,1],\n",
    "                                interpolation='Gaussian', cmap='seismic')\n",
    "        plt.title('HFSM-Time 5s');\n",
    "        plt.colorbar(im, ax=ax[2,index], orientation=\"horizontal\", fraction=0.04, pad=0.2)\n",
    " \n",
    "        im = ax[3,index].imshow(trajectory_mf[sample,:,:,i], extent=[0,1,0,1], interpolation='Gaussian',\n",
    "                                vmin=-1, vmax=1, cmap='seismic')\n",
    "        plt.title('MFSM - Time 5s');\n",
    "        plt.colorbar(im, ax=ax[3,index], orientation=\"horizontal\", fraction=0.04, pad=0.2)\n",
    "        \n",
    "        im = ax[4,index].imshow(np.abs(u_pred[sample,i,:,:] - trajectory_mf[sample,:,:,i]), extent=[0,1,0,1],\n",
    "                                interpolation='Gaussian', cmap='seismic')\n",
    "        plt.title('MFSM - Time 5s');\n",
    "        plt.colorbar(im, ax=ax[4,index], orientation=\"horizontal\", fraction=0.04, pad=0.2)\n",
    "        index += 1\n",
    "        \n",
    "# figure1.savefig(f'predictions_allencahn_{ntrain_m}.png', format='png', dpi=300, bbox_inches='tight')  "
   ]
  },
  {
   "cell_type": "code",
   "execution_count": null,
   "metadata": {},
   "outputs": [],
   "source": []
  },
  {
   "cell_type": "code",
   "execution_count": null,
   "metadata": {},
   "outputs": [],
   "source": []
  }
 ],
 "metadata": {
  "accelerator": "GPU",
  "colab": {
   "authorship_tag": "ABX9TyOjZCU0Za7/TgYeQCK7zD4/",
   "machine_shape": "hm",
   "provenance": [
    {
     "file_id": "1tX2GWAJczeMcQh_sQxxRE7l2iqTVgQiI",
     "timestamp": 1657707119891
    },
    {
     "file_id": "1dZDsY9GN11KWInJ5P2lGu5cjpube9Pyk",
     "timestamp": 1657558949607
    },
    {
     "file_id": "1Ms71XMkjtfE4Dk8XWfNwqcdRJpeWvC2Q",
     "timestamp": 1656413318405
    },
    {
     "file_id": "1fXGQRqGH0Sjj6hvnVQWF5aFAR7Kzbncs",
     "timestamp": 1656412090942
    },
    {
     "file_id": "1OPIb4ygLODwEKnHrahQ__DiDVyCq6543",
     "timestamp": 1656351883644
    }
   ]
  },
  "gpuClass": "premium",
  "kernelspec": {
   "display_name": "Python 3 (ipykernel)",
   "language": "python",
   "name": "python3"
  },
  "language_info": {
   "codemirror_mode": {
    "name": "ipython",
    "version": 3
   },
   "file_extension": ".py",
   "mimetype": "text/x-python",
   "name": "python",
   "nbconvert_exporter": "python",
   "pygments_lexer": "ipython3",
   "version": "3.11.7"
  }
 },
 "nbformat": 4,
 "nbformat_minor": 4
}
