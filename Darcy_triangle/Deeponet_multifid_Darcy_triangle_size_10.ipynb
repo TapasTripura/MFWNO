{
 "cells": [
  {
   "cell_type": "markdown",
   "metadata": {},
   "source": [
    "# It trains MF-DeepONet and performs Reliability analysis of Darcy equation (2D time-independent reliability analysis)\n",
    "### HF data size = 10"
   ]
  },
  {
   "cell_type": "code",
   "execution_count": null,
   "metadata": {
    "executionInfo": {
     "elapsed": 3,
     "status": "ok",
     "timestamp": 1672630553811,
     "user": {
      "displayName": "CSCCM IITD",
      "userId": "18000198353382878931"
     },
     "user_tz": 300
    },
    "id": "ce-T3Tu5zyE4"
   },
   "outputs": [],
   "source": [
    "import numpy as np\n",
    "import torch\n",
    "import torch.nn as nn\n",
    "import torch.nn.functional as F\n",
    "from torch.nn.parameter import Parameter\n",
    "\n",
    "import matplotlib.pyplot as plt\n",
    "from utils import *\n",
    "\n",
    "from timeit import default_timer"
   ]
  },
  {
   "cell_type": "code",
   "execution_count": null,
   "metadata": {
    "executionInfo": {
     "elapsed": 3,
     "status": "ok",
     "timestamp": 1672630553812,
     "user": {
      "displayName": "CSCCM IITD",
      "userId": "18000198353382878931"
     },
     "user_tz": 300
    },
    "id": "8JbWtxniSerT"
   },
   "outputs": [],
   "source": [
    "torch.manual_seed(10)\n",
    "np.random.seed(10)"
   ]
  },
  {
   "cell_type": "markdown",
   "metadata": {
    "id": "7Ds09MG-EOKw"
   },
   "source": [
    "# **Deeponet**"
   ]
  },
  {
   "cell_type": "code",
   "execution_count": null,
   "metadata": {
    "executionInfo": {
     "elapsed": 6,
     "status": "ok",
     "timestamp": 1672630554771,
     "user": {
      "displayName": "CSCCM IITD",
      "userId": "18000198353382878931"
     },
     "user_tz": 300
    },
    "id": "p6rDXElhEQIq"
   },
   "outputs": [],
   "source": [
    "class Deeponet(nn.Module):\n",
    "    def __init__(self, branchnetdepth, trunknetdepth, width, insize, space_dim):\n",
    "        super(Deeponet, self).__init__()\n",
    "\n",
    "        inp_dim = insize\n",
    "        s_dim = space_dim\n",
    "        tlayers = []\n",
    "        blayers = [] \n",
    "        for i in range(branchnetdepth):\n",
    "            blayers.append(nn.Linear(inp_dim,width)) \n",
    "            blayers.append(nn.ReLU(inplace=True))\n",
    "            inp_dim = width\n",
    "        for i in range(trunknetdepth):\n",
    "            tlayers.append(nn.Linear(s_dim,width)) \n",
    "            tlayers.append(nn.ReLU(inplace=True))\n",
    "            s_dim = width\n",
    "        \n",
    "        self.branchnet = nn.Sequential(*blayers)\n",
    "        self.trunknet = nn.Sequential(*tlayers)\n",
    "        self.bias = nn.Linear(1,1)\n",
    "  \n",
    "    def hadprodsum(self, branch, trunk):\n",
    "        return torch.einsum(\"ij,ij->i\", branch, trunk)\n",
    "\n",
    "    def forward(self, xb,xt):\n",
    "        #pdb.set_trace()\n",
    "        x1 = self.branchnet(xb)\n",
    "        x2 = self.trunknet(xt)\n",
    "        x  = self.hadprodsum(x1,x2)\n",
    "        x = x.view(-1,1)\n",
    "        x  = self.bias(x)      \n",
    "        return x"
   ]
  },
  {
   "cell_type": "markdown",
   "metadata": {
    "id": "FKe4bEBlRd6K"
   },
   "source": [
    "# Multifidelity"
   ]
  },
  {
   "cell_type": "code",
   "execution_count": null,
   "metadata": {
    "executionInfo": {
     "elapsed": 5,
     "status": "ok",
     "timestamp": 1672630572540,
     "user": {
      "displayName": "CSCCM IITD",
      "userId": "18000198353382878931"
     },
     "user_tz": 300
    },
    "id": "EZbcADk9-msh"
   },
   "outputs": [],
   "source": [
    "#  configurations\n",
    "\n",
    "ntrain_m = 10\n",
    "ntest_m = 40\n",
    "nreliability = 2000\n",
    "last_m = 600\n",
    "n_total = ntrain_m + ntest_m\n",
    "\n",
    "epochs = 250\n",
    "batch_size = 1000\n",
    "learning_rate = 0.001\n",
    "r = 2\n",
    "s = 51\n"
   ]
  },
  {
   "cell_type": "code",
   "execution_count": null,
   "metadata": {},
   "outputs": [],
   "source": [
    "# %%\n",
    "\"\"\" Read data \"\"\"\n",
    "PATH = 'data/Darcy_Triangular_FNO_multifid_hmax018_hmin016.mat'\n",
    "reader = MatReader(PATH)\n",
    "\n",
    "x_train = np.array(reader.read_field('boundCoeff')[:,::r,::r][:,:s,:s])\n",
    "y_train = np.array(reader.read_field('sol')[:,::r,::r][:,:s,:s])\n",
    "y_train_l = np.array(reader.read_field('lressol')[:,::r,::r][:,:s,:s])\n",
    "x_or_h = x_train[last_m-n_total:last_m].reshape((n_total,s,s,1))\n",
    "y_or_h = y_train[last_m-n_total:last_m]\n",
    "y_or_l = y_train_l[last_m-n_total:last_m].reshape((n_total,s,s,1))\n",
    "x_coord = np.array(reader.read_field('coord_x'))[0][::r,::r][:s,:s]\n",
    "y_coord = np.array(reader.read_field('coord_y'))[0][::r,::r][:s,:s]\n"
   ]
  },
  {
   "cell_type": "code",
   "execution_count": null,
   "metadata": {
    "executionInfo": {
     "elapsed": 7,
     "status": "ok",
     "timestamp": 1672630582260,
     "user": {
      "displayName": "CSCCM IITD",
      "userId": "18000198353382878931"
     },
     "user_tz": 300
    },
    "id": "OjlB87Mbdsk8"
   },
   "outputs": [],
   "source": [
    "coords = np.stack((x_coord.flatten(),\n",
    "                   y_coord.flatten()), axis=-1)\n",
    "\n",
    "print(coords.shape)"
   ]
  },
  {
   "cell_type": "code",
   "execution_count": null,
   "metadata": {},
   "outputs": [],
   "source": [
    "x_mf = np.concatenate((x_or_h, y_or_l),axis=-1)\n",
    "y_mf = y_or_h - y_or_l.reshape((n_total,s,s))\n"
   ]
  },
  {
   "cell_type": "code",
   "execution_count": null,
   "metadata": {},
   "outputs": [],
   "source": [
    "print(x_mf.shape, y_mf.shape)"
   ]
  },
  {
   "cell_type": "code",
   "execution_count": null,
   "metadata": {
    "executionInfo": {
     "elapsed": 5982,
     "status": "ok",
     "timestamp": 1672630588238,
     "user": {
      "displayName": "CSCCM IITD",
      "userId": "18000198353382878931"
     },
     "user_tz": 300
    },
    "id": "qW4O4wil7eGh"
   },
   "outputs": [],
   "source": [
    "# Split the training and testing datasets\n",
    "\n",
    "x_train_mf, y_train_mf = x_mf[:ntrain_m, ...], y_mf[:ntrain_m, ...]\n",
    "x_test_mf, y_test_mf = x_mf[-ntest_m:, ...], y_mf[-ntest_m:, ...]\n"
   ]
  },
  {
   "cell_type": "code",
   "execution_count": null,
   "metadata": {
    "executionInfo": {
     "elapsed": 6,
     "status": "ok",
     "timestamp": 1672630588239,
     "user": {
      "displayName": "CSCCM IITD",
      "userId": "18000198353382878931"
     },
     "user_tz": 300
    },
    "id": "V_emHRvQI4Kx"
   },
   "outputs": [],
   "source": [
    "print(x_train_mf.shape, y_train_mf.shape, x_test_mf.shape, y_test_mf.shape)\n"
   ]
  },
  {
   "cell_type": "code",
   "execution_count": null,
   "metadata": {
    "executionInfo": {
     "elapsed": 956,
     "status": "ok",
     "timestamp": 1672630589354,
     "user": {
      "displayName": "CSCCM IITD",
      "userId": "18000198353382878931"
     },
     "user_tz": 300
    },
    "id": "e_TFYjiw-nrb"
   },
   "outputs": [],
   "source": [
    "# Read data:\n",
    "\n",
    "xb_train_mf  = np.repeat(x_train_mf.astype(np.float32).reshape((ntrain_m,-1)), coords.shape[0],axis=0)\n",
    "xt_train_mf =  np.tile(coords.astype(np.float32), (ntrain_m,1))\n",
    "y_train_mf  =  y_train_mf.astype(np.float32).reshape(-1,1)\n",
    "\n",
    "xb_test_mf  = np.repeat(x_test_mf.astype(np.float32).reshape((ntest_m,-1)), coords.shape[0],axis=0)\n",
    "xt_test_mf =  np.tile(coords.astype(np.float32), (ntest_m,1))\n",
    "y_test_mf  =  y_test_mf.astype(np.float32).reshape(-1,1)\n",
    "\n",
    "print(xb_train_mf.shape, xt_train_mf.shape, y_train_mf.shape)\n",
    "print(xb_test_mf.shape, xt_test_mf.shape, y_test_mf.shape)\n",
    "\n",
    "xb_train_mf = torch.from_numpy(xb_train_mf)\n",
    "xt_train_mf = torch.from_numpy(xt_train_mf)\n",
    "xb_test_mf = torch.from_numpy(xb_test_mf)\n",
    "xt_test_mf = torch.from_numpy(xt_test_mf)\n",
    "y_train_mf = torch.from_numpy(y_train_mf)\n",
    "y_test_mf = torch.from_numpy(y_test_mf)\n",
    "\n",
    "train_loader_mf = torch.utils.data.DataLoader(torch.utils.data.TensorDataset(xb_train_mf, xt_train_mf, y_train_mf),\n",
    "                                              batch_size=batch_size, shuffle=True)\n",
    "test_loader_mf = torch.utils.data.DataLoader(torch.utils.data.TensorDataset(xb_test_mf, xt_test_mf, y_test_mf),\n",
    "                                             batch_size=batch_size, shuffle=False)\n"
   ]
  },
  {
   "cell_type": "code",
   "execution_count": null,
   "metadata": {},
   "outputs": [],
   "source": [
    "y_train_mf.shape"
   ]
  },
  {
   "cell_type": "code",
   "execution_count": null,
   "metadata": {},
   "outputs": [],
   "source": [
    "xb_test_mf.shape"
   ]
  },
  {
   "cell_type": "code",
   "execution_count": null,
   "metadata": {
    "colab": {
     "base_uri": "https://localhost:8080/"
    },
    "executionInfo": {
     "elapsed": 8,
     "status": "ok",
     "timestamp": 1672630589354,
     "user": {
      "displayName": "CSCCM IITD",
      "userId": "18000198353382878931"
     },
     "user_tz": 300
    },
    "id": "3eomwdLl-t-f",
    "outputId": "077e4c41-88ad-46bb-b099-fa6db51d0019"
   },
   "outputs": [],
   "source": [
    "# model\n",
    "bdepth = 3\n",
    "tdepth = 3\n",
    "width = 20\n",
    "\n",
    "inputsizeb = xb_train_mf.shape[-1]\n",
    "spdim = xt_train_mf.shape[-1]\n",
    "\n",
    "model = Deeponet(bdepth, tdepth, width, inputsizeb, spdim).cuda()\n",
    "print(count_params(model))\n",
    "\n",
    "optimizer = torch.optim.Adam(model.parameters(), lr=learning_rate)\n"
   ]
  },
  {
   "cell_type": "code",
   "execution_count": null,
   "metadata": {
    "colab": {
     "base_uri": "https://localhost:8080/"
    },
    "executionInfo": {
     "elapsed": 2226711,
     "status": "ok",
     "timestamp": 1672632816061,
     "user": {
      "displayName": "CSCCM IITD",
      "userId": "18000198353382878931"
     },
     "user_tz": 300
    },
    "id": "Q5KPrqWE6O1x",
    "outputId": "baca82c1-54f8-4d1a-f77c-7fa5a74b7d97",
    "scrolled": true
   },
   "outputs": [],
   "source": [
    "for ep in range(epochs):\n",
    "    model.train()\n",
    "    t1 = default_timer()\n",
    "    train_mse = 0\n",
    "    train_l2 = 0\n",
    "    for xb,xt, y in train_loader_mf:\n",
    "        xb,xt, y = xb.cuda(), xt.cuda(), y.cuda()\n",
    "        \n",
    "        optimizer.zero_grad()\n",
    "        out = model(xb, xt)\n",
    "\n",
    "        mse = F.mse_loss(out.view(out.shape[0], -1), y.view(out.shape[0], -1), reduction='mean')\n",
    "        mse.backward() # use the l2 relative loss\n",
    "\n",
    "        optimizer.step()\n",
    "        train_mse += mse.item()\n",
    "\n",
    "    model.eval()\n",
    "    test_mse = 0\n",
    "    with torch.no_grad():\n",
    "        for xb,xt, y in test_loader_mf:\n",
    "            xb,xt, y = xb.cuda(), xt.cuda(), y.cuda()\n",
    "\n",
    "            out = model(xb, xt)\n",
    "            tmse = F.mse_loss(out.view(out.shape[0], -1), y.view(out.shape[0], -1), reduction='mean')\n",
    "            test_mse += tmse.item()\n",
    "\n",
    "    train_mse /= len(train_loader_mf)\n",
    "    test_mse /= len(test_loader_mf)\n",
    "    t2 = default_timer()\n",
    "    print(f'epoch {ep}, time_taken: {t2-t1}, train_mse: {train_mse},test_mse: {test_mse}')\n"
   ]
  },
  {
   "cell_type": "code",
   "execution_count": null,
   "metadata": {},
   "outputs": [],
   "source": [
    "# Save the MF-DeepONet model\n",
    "\n",
    "torch.save(model, 'model/deeponet_darcy_10')"
   ]
  },
  {
   "cell_type": "code",
   "execution_count": null,
   "metadata": {
    "scrolled": true
   },
   "outputs": [],
   "source": [
    "batch = 100\n",
    "data_range = np.arange(0,nreliability,batch)\n",
    "\n",
    "pred_mf = []\n",
    "actual = []\n",
    "x_test_mf_ = []\n",
    "for i in range(len(data_range)):\n",
    "    # print(data_range[i], data_range[i]+100)\n",
    "\n",
    "    x_or_h_rel = x_train[data_range[i]:data_range[i]+batch, ...].reshape((batch,s,s,1))\n",
    "    y_or_h_rel = y_train[data_range[i]:data_range[i]+batch, ...]\n",
    "    y_or_l_rel = y_train_l[data_range[i]:data_range[i]+batch, ...].reshape((batch,s,s,1))\n",
    "\n",
    "    x_mf_rel = np.concatenate((x_or_h_rel, y_or_l_rel),axis=-1)\n",
    "    y_mf_rel = y_or_h_rel - y_or_l_rel.reshape((batch,s,s))\n",
    "    \n",
    "    # Prepare dataset for reliability:\n",
    "    x_test_mf_rel, y_test_mf_rel = x_mf_rel[:batch, ...], y_mf_rel[:batch, ...]\n",
    "    \n",
    "    xb_test_mf_rel  = np.repeat(x_test_mf_rel.astype(np.float32).reshape((batch,-1)), coords.shape[0], axis=0)\n",
    "    xt_test_mf_rel =  np.tile(coords.astype(np.float32), (batch,1))\n",
    "    y_test_mf_rel  =  y_test_mf_rel.astype(np.float32).reshape(-1,1)\n",
    "    \n",
    "    xb_test_mf_rel = torch.from_numpy(xb_test_mf_rel)\n",
    "    xt_test_mf_rel = torch.from_numpy(xt_test_mf_rel)\n",
    "    y_test_mf_rel = torch.from_numpy(y_test_mf_rel)\n",
    "    \n",
    "    test_loader_mf_rel = torch.utils.data.DataLoader(torch.utils.data.TensorDataset(xb_test_mf_rel, xt_test_mf_rel, y_test_mf_rel),\n",
    "                                                     batch_size=5000, shuffle=False)\n",
    "\n",
    "    with torch.no_grad():\n",
    "        index = 0\n",
    "        for xb, xt, y in test_loader_mf_rel:\n",
    "            xb, xt, y = xb.cuda(), xt.cuda(), y.cuda()\n",
    "    \n",
    "            out = model(xb, xt)\n",
    "            tmse = F.mse_loss(out.view(out.shape[0], -1), y.view(out.shape[0], -1), reduction='mean')\n",
    "            test_mse += tmse.item()\n",
    "    \n",
    "            pred_mf.append( out.cpu() )\n",
    "            actual.append( y.cpu() )\n",
    "            input\n",
    "            print(\"Data-Range-{}, Batch-{}, Test-loss-{:0.6f}\".format( data_range[i], index, tmse ))\n",
    "            index += 1\n",
    "\n",
    "    x_test_mf_.append(x_test_mf_rel)\n",
    "\n",
    "x_test_mf_ = np.vstack(( x_test_mf_ ))\n",
    "actual = torch.cat(( actual ))\n",
    "pred_mf = torch.cat(( pred_mf ))\n",
    "print('Mean mse_mf-{}'.format(F.mse_loss(actual, pred_mf).item()))\n",
    "    "
   ]
  },
  {
   "cell_type": "code",
   "execution_count": null,
   "metadata": {},
   "outputs": [],
   "source": [
    "pred_mf = pred_mf.reshape(nreliability, s, s)\n",
    "actual = actual.reshape(nreliability, s, s)\n",
    "\n",
    "print(pred_mf.shape, actual.shape)"
   ]
  },
  {
   "cell_type": "code",
   "execution_count": null,
   "metadata": {},
   "outputs": [],
   "source": [
    "out_actual = pred_mf + torch.from_numpy(x_test_mf_[:,:,:,1]) \n",
    "real_actual = actual + torch.from_numpy(x_test_mf_[:,:,:,1]) \n"
   ]
  },
  {
   "cell_type": "code",
   "execution_count": null,
   "metadata": {},
   "outputs": [],
   "source": [
    "mse_pred = F.mse_loss(out_actual, real_actual).item()\n",
    "\n",
    "print('MSE-Predicted solution-{:0.6f}'.format(mse_pred))\n"
   ]
  },
  {
   "cell_type": "code",
   "execution_count": null,
   "metadata": {},
   "outputs": [],
   "source": [
    "# Compute error statistics\n",
    "\n",
    "error = (real_actual - out_actual)**2\n",
    "mse_mean = torch.mean(error)\n",
    "mse_std = torch.std(error)\n",
    "\n",
    "print('MSE_mean-{}, MSE-std-{}'.format(mse_mean, mse_std))\n"
   ]
  },
  {
   "cell_type": "code",
   "execution_count": null,
   "metadata": {
    "executionInfo": {
     "elapsed": 6,
     "status": "ok",
     "timestamp": 1672632818996,
     "user": {
      "displayName": "CSCCM IITD",
      "userId": "18000198353382878931"
     },
     "user_tz": 300
    },
    "id": "g6zdSWkXJHFa"
   },
   "outputs": [],
   "source": [
    "fig1, axs = plt.subplots(nrows=3, ncols=5, figsize=(16, 6), facecolor='w', edgecolor='k')\n",
    "fig1.subplots_adjust(hspace=0.35, wspace=0.2)\n",
    "\n",
    "fig1.suptitle(f'Predictions MFWNO AC2d Size', fontsize=16)\n",
    "index = 0 \n",
    "for sample in range(nreliability):\n",
    "    if sample % 400 == 0:\n",
    "        im = axs[0, index].imshow(real_actual[sample, :, :], cmap='nipy_spectral', origin='lower' )\n",
    "        plt.colorbar(im, ax=axs[0, index])\n",
    "        im = axs[1, index].imshow(out_actual[sample, :, :], cmap='nipy_spectral', origin='lower' )\n",
    "        plt.colorbar(im, ax=axs[1, index])\n",
    "        im = axs[2, index].imshow(torch.abs(real_actual[sample, :, :] - out_actual[sample, :, :]),\n",
    "                                    cmap='jet', origin='lower')\n",
    "        plt.colorbar(im, ax=axs[2, index])\n",
    "        index += 1\n",
    "        "
   ]
  },
  {
   "cell_type": "markdown",
   "metadata": {
    "executionInfo": {
     "elapsed": 137,
     "status": "ok",
     "timestamp": 1672632819129,
     "user": {
      "displayName": "CSCCM IITD",
      "userId": "18000198353382878931"
     },
     "user_tz": 300
    },
    "id": "0qi6U_VmLCKp"
   },
   "source": [
    "# First passage failure"
   ]
  },
  {
   "cell_type": "code",
   "execution_count": null,
   "metadata": {
    "colab": {
     "base_uri": "https://localhost:8080/"
    },
    "executionInfo": {
     "elapsed": 7,
     "status": "ok",
     "timestamp": 1672632819129,
     "user": {
      "displayName": "CSCCM IITD",
      "userId": "18000198353382878931"
     },
     "user_tz": 300
    },
    "id": "qINq5LPwLE20",
    "outputId": "44d98d1c-7392-41a0-d6ab-c0f51fc38a6e"
   },
   "outputs": [],
   "source": [
    "# %%\n",
    "eh = 2.2\n",
    "eh_deeponet_mf = np.zeros(nreliability)\n",
    "\n",
    "for i in range(nreliability):\n",
    "    if len( np.where( out_actual[i, ...] > eh )[0] ) == 0:\n",
    "        eh_deeponet_mf[i] = 0\n",
    "    else:\n",
    "        eh_deeponet_mf[i] = 1\n",
    "        \n",
    "pf_deeponet_mf = len(np.where(eh_deeponet_mf!=0)[0])/nreliability\n",
    "print('Prob. of failure, MFDeepONet-{}'.format(pf_deeponet_mf))\n"
   ]
  },
  {
   "cell_type": "code",
   "execution_count": null,
   "metadata": {},
   "outputs": [],
   "source": [
    "scipy.io.savemat('data/deeponet_darcy_n10.mat', mdict={'out_actual':out_actual.cpu().numpy(), \n",
    "                                                        'real_actual':real_actual.cpu().numpy(),\n",
    "                                                        'x_coord':x_coord,\n",
    "                                                        'y_coord':y_coord})\n"
   ]
  },
  {
   "cell_type": "code",
   "execution_count": null,
   "metadata": {},
   "outputs": [],
   "source": []
  }
 ],
 "metadata": {
  "accelerator": "GPU",
  "colab": {
   "authorship_tag": "ABX9TyONmei70ItZKsDC53UuqtBg",
   "provenance": [
    {
     "file_id": "18BN_TBOoMD_hWtRlAPJDa0eY-eCR05M5",
     "timestamp": 1672630449716
    },
    {
     "file_id": "1c_qvKyo6divIQiCgeDVdd6dB4KXJa4Rs",
     "timestamp": 1672627362097
    },
    {
     "file_id": "132b_E8bfokbJny5Xq9y-L9MoHRfZfu-J",
     "timestamp": 1672375808475
    },
    {
     "file_id": "1vdTJHNBQTe6cDa3znA2eK71i_o8rXg0m",
     "timestamp": 1672096142193
    },
    {
     "file_id": "1WmHRKITBoAIBvl_l46TQivFgEWBk8qbA",
     "timestamp": 1657553878903
    },
    {
     "file_id": "1c-ie-KRb-kGVgNiH1Ag-8WlV89iaMnAj",
     "timestamp": 1657551263885
    },
    {
     "file_id": "1zAzFWiQi2z4sAgFp0Fv7mYa0YowoFitv",
     "timestamp": 1657351594397
    },
    {
     "file_id": "1vodjDJ5vqUi0eylKTSABVpp7TinS4Zwx",
     "timestamp": 1657218736049
    },
    {
     "file_id": "1LgrC1t3iuy23p-b05fQh-ddyrsI0_lAv",
     "timestamp": 1657178812760
    },
    {
     "file_id": "1eSUGqtpAaymHy5y9I5bSv58S2X5G-MdX",
     "timestamp": 1657134232337
    }
   ]
  },
  "gpuClass": "standard",
  "kernelspec": {
   "display_name": "Python 3 (ipykernel)",
   "language": "python",
   "name": "python3"
  },
  "language_info": {
   "codemirror_mode": {
    "name": "ipython",
    "version": 3
   },
   "file_extension": ".py",
   "mimetype": "text/x-python",
   "name": "python",
   "nbconvert_exporter": "python",
   "pygments_lexer": "ipython3",
   "version": "3.11.7"
  }
 },
 "nbformat": 4,
 "nbformat_minor": 4
}
