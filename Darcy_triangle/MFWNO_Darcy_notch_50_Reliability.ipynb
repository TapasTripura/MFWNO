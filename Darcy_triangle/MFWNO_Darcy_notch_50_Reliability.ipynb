{
 "cells": [
  {
   "cell_type": "markdown",
   "metadata": {},
   "source": [
    "# It performs Reliability analysis of MF Darcy equation using MFWNO (2D time-independent reliability analysis)\n",
    "### HF data size = 50"
   ]
  },
  {
   "cell_type": "code",
   "execution_count": null,
   "metadata": {
    "id": "ce-T3Tu5zyE4"
   },
   "outputs": [],
   "source": [
    "import numpy as np\n",
    "import torch\n",
    "import torch.nn as nn\n",
    "import torch.nn.functional as F\n",
    "from torch.nn.parameter import Parameter\n",
    "torch.cuda.empty_cache()\n",
    "import matplotlib.pyplot as plt\n",
    "from utils import *\n",
    "\n",
    "from timeit import default_timer\n",
    "from pytorch_wavelets import DWT, IDWT # (or import DWT, IDWT)\n",
    "from pytorch_wavelets import DTCWTForward, DTCWTInverse"
   ]
  },
  {
   "cell_type": "code",
   "execution_count": null,
   "metadata": {
    "id": "8JbWtxniSerT"
   },
   "outputs": [],
   "source": [
    "torch.manual_seed(0)\n",
    "np.random.seed(0)"
   ]
  },
  {
   "cell_type": "markdown",
   "metadata": {
    "id": "cbC_I56c-bb3"
   },
   "source": [
    "# WNO"
   ]
  },
  {
   "cell_type": "code",
   "execution_count": null,
   "metadata": {
    "id": "R08jMzYL-kLX"
   },
   "outputs": [],
   "source": [
    "class WaveConv2dCwt(nn.Module):\n",
    "    def __init__(self, in_channels, out_channels, level, size, wavelet1, wavelet2):\n",
    "        super(WaveConv2dCwt, self).__init__()\n",
    "\n",
    "        \"\"\"\n",
    "        2D Wavelet layer. It does DWT, linear transform, and Inverse dWT. \n",
    "        !! It is computationally expensive than the discrete \"WaveConv2d\" !!\n",
    "        \"\"\"\n",
    "\n",
    "        self.in_channels = in_channels\n",
    "        self.out_channels = out_channels\n",
    "        self.level = level\n",
    "        self.wavelet_level1 = wavelet1\n",
    "        self.wavelet_level2 = wavelet2        \n",
    "        dummy_data = torch.randn( 1,1,*size ) \n",
    "        dwt_ = DTCWTForward(J=self.level, biort=self.wavelet_level1,\n",
    "                            qshift=self.wavelet_level2)\n",
    "        mode_data, mode_coef = dwt_(dummy_data)\n",
    "        self.modes1 = mode_data.shape[-2]\n",
    "        self.modes2 = mode_data.shape[-1]\n",
    "        self.modes21 = mode_coef[-1].shape[-3]\n",
    "        self.modes22 = mode_coef[-1].shape[-2]\n",
    "        \n",
    "        # Parameter initilization\n",
    "        self.scale = (1 / (in_channels * out_channels))\n",
    "        self.weights0 = nn.Parameter(self.scale * torch.rand(in_channels, out_channels, self.modes1, self.modes2))\n",
    "        self.weights15r = nn.Parameter(self.scale * torch.rand(in_channels, out_channels, self.modes21, self.modes22))\n",
    "        self.weights15c = nn.Parameter(self.scale * torch.rand(in_channels, out_channels, self.modes21, self.modes22))\n",
    "        self.weights45r = nn.Parameter(self.scale * torch.rand(in_channels, out_channels, self.modes21, self.modes22))\n",
    "        self.weights45c = nn.Parameter(self.scale * torch.rand(in_channels, out_channels, self.modes21, self.modes22))\n",
    "        self.weights75r = nn.Parameter(self.scale * torch.rand(in_channels, out_channels, self.modes21, self.modes22))\n",
    "        self.weights75c = nn.Parameter(self.scale * torch.rand(in_channels, out_channels, self.modes21, self.modes22))\n",
    "        self.weights105r = nn.Parameter(self.scale * torch.rand(in_channels, out_channels, self.modes21, self.modes22))\n",
    "        self.weights105c = nn.Parameter(self.scale * torch.rand(in_channels, out_channels, self.modes21, self.modes22))\n",
    "        self.weights135r = nn.Parameter(self.scale * torch.rand(in_channels, out_channels, self.modes21, self.modes22))\n",
    "        self.weights135c = nn.Parameter(self.scale * torch.rand(in_channels, out_channels, self.modes21, self.modes22))\n",
    "        self.weights165r = nn.Parameter(self.scale * torch.rand(in_channels, out_channels, self.modes21, self.modes22))\n",
    "        self.weights165c = nn.Parameter(self.scale * torch.rand(in_channels, out_channels, self.modes21, self.modes22))\n",
    "\n",
    "    # Convolution\n",
    "    def mul2d(self, input, weights):\n",
    "        # (batch, in_channel, x,y ), (in_channel, out_channel, x,y) -> (batch, out_channel, x,y)\n",
    "        return torch.einsum(\"bixy,ioxy->boxy\", input, weights)\n",
    "\n",
    "    def forward(self, x):\n",
    "        \"\"\"\n",
    "        Input parameters: \n",
    "        -----------------\n",
    "        x : tensor, shape-[Batch * Channel * x * y]\n",
    "        Output parameters: \n",
    "        ------------------\n",
    "        x : tensor, shape-[Batch * Channel * x * y]\n",
    "        \"\"\"        \n",
    "        # Compute dual tree continuous Wavelet coefficients \n",
    "        cwt = DTCWTForward(J=self.level, biort=self.wavelet_level1, qshift=self.wavelet_level2).to(x.device)\n",
    "        x_ft, x_coeff = cwt(x)\n",
    "        \n",
    "        out_ft = torch.zeros_like(x_ft, device= x.device)\n",
    "        out_coeff = [torch.zeros_like(coeffs, device= x.device) for coeffs in x_coeff]\n",
    "        \n",
    "        # Multiply the final approximate Wavelet modes\n",
    "        out_ft = self.mul2d(x_ft[:, :, :self.modes1, :self.modes2], self.weights0)\n",
    "        # Multiply the final detailed wavelet coefficients        \n",
    "        out_coeff[-1][:,:,0,:,:,0] = self.mul2d(x_coeff[-1][:,:,0,:,:,0].clone(), self.weights15r)\n",
    "        out_coeff[-1][:,:,0,:,:,1] = self.mul2d(x_coeff[-1][:,:,0,:,:,1].clone(), self.weights15c)\n",
    "        out_coeff[-1][:,:,1,:,:,0] = self.mul2d(x_coeff[-1][:,:,1,:,:,0].clone(), self.weights45r)\n",
    "        out_coeff[-1][:,:,1,:,:,1] = self.mul2d(x_coeff[-1][:,:,1,:,:,1].clone(), self.weights45c)\n",
    "        out_coeff[-1][:,:,2,:,:,0] = self.mul2d(x_coeff[-1][:,:,2,:,:,0].clone(), self.weights75r)\n",
    "        out_coeff[-1][:,:,2,:,:,1] = self.mul2d(x_coeff[-1][:,:,2,:,:,1].clone(), self.weights75c)\n",
    "        out_coeff[-1][:,:,3,:,:,0] = self.mul2d(x_coeff[-1][:,:,3,:,:,0].clone(), self.weights105r)\n",
    "        out_coeff[-1][:,:,3,:,:,1] = self.mul2d(x_coeff[-1][:,:,3,:,:,1].clone(), self.weights105c)\n",
    "        out_coeff[-1][:,:,4,:,:,0] = self.mul2d(x_coeff[-1][:,:,4,:,:,0].clone(), self.weights135r)\n",
    "        out_coeff[-1][:,:,4,:,:,1] = self.mul2d(x_coeff[-1][:,:,4,:,:,1].clone(), self.weights135c)\n",
    "        out_coeff[-1][:,:,5,:,:,0] = self.mul2d(x_coeff[-1][:,:,5,:,:,0].clone(), self.weights165r)\n",
    "        out_coeff[-1][:,:,5,:,:,1] = self.mul2d(x_coeff[-1][:,:,5,:,:,1].clone(), self.weights165c)\n",
    "        \n",
    "        # Return to physical space        \n",
    "        icwt = DTCWTInverse(biort=self.wavelet_level1, qshift=self.wavelet_level2).to(x.device)\n",
    "        x = icwt((out_ft, out_coeff))\n",
    "        return x\n"
   ]
  },
  {
   "cell_type": "code",
   "execution_count": null,
   "metadata": {
    "id": "B32s7iltRJ6w"
   },
   "outputs": [],
   "source": [
    "class WNO2d_mf(nn.Module):\n",
    "    def __init__(self, width, level, size, wavelet, in_channel, grid_range):\n",
    "        super(WNO2d_mf, self).__init__()\n",
    "\n",
    "        \"\"\"\n",
    "        The WNO network. It contains 4 layers of the Wavelet integral layer.\n",
    "        1. Lift the input using v(x) = self.fc0 .\n",
    "        2. 4 layers of the integral operators v(+1) = g(K(.) + W)(v).\n",
    "            W is defined by self.w_; K is defined by self.conv_.\n",
    "        3. Project the output of last layer using self.fc1 and self.fc2.\n",
    "        \n",
    "        input: the solution of the coefficient function and locations (a(x, y), x, y)\n",
    "        input shape: (batchsize, x=s, y=s, c=3)\n",
    "        output: the solution \n",
    "        output shape: (batchsize, x=s, y=s, c=1)\n",
    "        \"\"\"\n",
    "\n",
    "        self.level = level\n",
    "        self.width = width\n",
    "        self.size = size\n",
    "        self.wavelet1 = wavelet[0]\n",
    "        self.wavelet2 = wavelet[1]\n",
    "        self.in_channel = in_channel\n",
    "        self.grid_range = grid_range \n",
    "        self.padding = 1\n",
    "        \n",
    "        self.fc0 = nn.Linear(self.in_channel, self.width) # input channel is 3: (a(x, y), x, y)\n",
    "\n",
    "        self.conv0 = WaveConv2dCwt(self.width, self.width, self.level, self.size, self.wavelet1, self.wavelet2)\n",
    "        self.conv1 = WaveConv2dCwt(self.width, self.width, self.level, self.size, self.wavelet1, self.wavelet2)\n",
    "        self.conv2 = WaveConv2dCwt(self.width, self.width, self.level, self.size, self.wavelet1, self.wavelet2)\n",
    "        self.conv3 = WaveConv2dCwt(self.width, self.width, self.level, self.size, self.wavelet1, self.wavelet2)\n",
    "        self.w0 = nn.Conv2d(self.width, self.width, 1)\n",
    "        self.w1 = nn.Conv2d(self.width, self.width, 1)\n",
    "        self.w2 = nn.Conv2d(self.width, self.width, 1)\n",
    "        self.w3 = nn.Conv2d(self.width, self.width, 1)\n",
    "\n",
    "        self.fc1 = nn.Linear(self.width, 128)\n",
    "        self.fc2 = nn.Linear(128, 1)\n",
    "\n",
    "    def forward(self, x):\n",
    "        grid = self.get_grid(x.shape, x.device)\n",
    "        x = torch.cat((x, grid), dim=-1)\n",
    "\n",
    "        x = self.fc0(x)\n",
    "        x = x.permute(0, 3, 1, 2)\n",
    "        x = F.pad(x, [0,self.padding, 0,self.padding]) # do padding, if required\n",
    "\n",
    "        x1 = self.conv0(x)\n",
    "        x2 = self.w0(x)\n",
    "        x = x1 + x2\n",
    "        x = F.gelu(x)\n",
    "\n",
    "        x1 = self.conv1(x)\n",
    "        x2 = self.w1(x)\n",
    "        x = x1 + x2\n",
    "        x = F.gelu(x)\n",
    "\n",
    "        x1 = self.conv2(x)\n",
    "        x2 = self.w2(x)\n",
    "        x = x1 + x2\n",
    "        x = F.gelu(x)\n",
    "\n",
    "        x1 = self.conv3(x)\n",
    "        x2 = self.w3(x)\n",
    "        x = x1 + x2\n",
    "\n",
    "        x = x[..., :-self.padding, :-self.padding] # remove padding, when required\n",
    "        x = x.permute(0, 2, 3, 1)\n",
    "        x = self.fc1(x)\n",
    "        x = F.gelu(x)\n",
    "        x = self.fc2(x)\n",
    "        return x\n",
    "    \n",
    "    def get_grid(self, shape, device):\n",
    "        # The grid of the solution\n",
    "        batchsize, size_x, size_y = shape[0], shape[1], shape[2]\n",
    "        gridx = torch.tensor(np.linspace(0, self.grid_range[0], size_x), dtype=torch.float)\n",
    "        gridx = gridx.reshape(1, size_x, 1, 1).repeat([batchsize, 1, size_y, 1])\n",
    "        gridy = torch.tensor(np.linspace(0, self.grid_range[1], size_y), dtype=torch.float)\n",
    "        gridy = gridy.reshape(1, 1, size_y, 1).repeat([batchsize, size_x, 1, 1])\n",
    "        return torch.cat((gridx, gridy), dim=-1).to(device)"
   ]
  },
  {
   "cell_type": "markdown",
   "metadata": {
    "id": "PYbWdZMv-wLM"
   },
   "source": [
    "# Training and Data"
   ]
  },
  {
   "cell_type": "code",
   "execution_count": null,
   "metadata": {
    "id": "If-6jdj6RuEr"
   },
   "outputs": [],
   "source": [
    "ntrain = 50\n",
    "ntest = 40\n",
    "nreliability = 2000\n",
    "epochs = 500\n",
    "last_m = 600\n",
    "batch_size = 5\n",
    "\n",
    "n_total = ntrain + ntest\n",
    "learning_rate = 0.001\n",
    "\n",
    "step_size = 50\n",
    "gamma = 0.75\n",
    "\n",
    "wavelet = ['near_sym_a', 'qshift_a']  # wavelet basis function\n",
    "level = 2        # lavel of wavelet decomposition\n",
    "width = 64       # uplifting dimension\n",
    "grid_range = [1, 1]\n",
    "in_channel = 4\n",
    "\n",
    "r = 2\n",
    "h = int(((101 - 1)/r) + 1)\n",
    "s = h\n"
   ]
  },
  {
   "cell_type": "code",
   "execution_count": null,
   "metadata": {
    "id": "MVQq4kzcRcd3"
   },
   "outputs": [],
   "source": [
    "# %%\n",
    "\"\"\" Read data \"\"\"\n",
    "PATH = 'data/Darcy_Triangular_FNO_multifid_hmax018_hmin016.mat'\n",
    "reader = MatReader(PATH)\n",
    "\n",
    "x_train = np.array(reader.read_field('boundCoeff')[:,::r,::r][:,:s,:s])\n",
    "y_train = np.array(reader.read_field('sol')[:,::r,::r][:,:s,:s])\n",
    "y_train_l = np.array(reader.read_field('lressol')[:,::r,::r][:,:s,:s])\n",
    "x_or_h = x_train[last_m-n_total:last_m].reshape((n_total,s,s,1))\n",
    "y_or_h = y_train[last_m-n_total:last_m]\n",
    "y_or_l = y_train_l[last_m-n_total:last_m].reshape((n_total,s,s,1))\n",
    "\n",
    "x_train_rel = np.array(reader.read_field('boundCoeff')[:,::r,::r][:,:s,:s])\n",
    "y_train_rel = np.array(reader.read_field('sol')[:,::r,::r][:,:s,:s])\n",
    "y_train_l_rel = np.array(reader.read_field('lressol')[:,::r,::r][:,:s,:s])\n",
    "x_or_h_rel = x_train[:nreliability, ...].reshape((nreliability,s,s,1))\n",
    "y_or_h_rel = y_train[:nreliability, ...]\n",
    "y_or_l_rel = y_train_l[:nreliability, ...].reshape((nreliability,s,s,1))"
   ]
  },
  {
   "cell_type": "code",
   "execution_count": null,
   "metadata": {},
   "outputs": [],
   "source": [
    "print(y_or_l.shape, y_or_l_rel.shape)"
   ]
  },
  {
   "cell_type": "code",
   "execution_count": null,
   "metadata": {
    "id": "j0rQJiB1S0Hb"
   },
   "outputs": [],
   "source": [
    "x_mf = np.concatenate((x_or_h,y_or_l),axis=-1)\n",
    "y_mf = y_or_h - y_or_l.reshape((n_total,s,s))\n",
    "\n",
    "x_mf = torch.tensor( x_mf, dtype=torch.float ) \n",
    "y_mf = torch.tensor( y_mf, dtype=torch.float ) \n",
    "\n",
    "x_mf_rel = np.concatenate((x_or_h_rel,y_or_l_rel),axis=-1)\n",
    "y_mf_rel = y_or_h_rel - y_or_l_rel.reshape((nreliability,s,s))\n",
    "\n",
    "x_mf_rel = torch.tensor( x_mf_rel, dtype=torch.float ) \n",
    "y_mf_rel = torch.tensor( y_mf_rel, dtype=torch.float ) \n",
    "    \n",
    "generator = torch.Generator().manual_seed(453)\n",
    "dataset = torch.utils.data.random_split(torch.utils.data.TensorDataset(x_mf, y_mf),\n",
    "                                    [ntrain, ntest], generator=generator)\n",
    "train_dataset_mf, test_dataset_mf = dataset[0], dataset[1]\n"
   ]
  },
  {
   "cell_type": "code",
   "execution_count": null,
   "metadata": {},
   "outputs": [],
   "source": [
    "# Split the training and testing datasets\n",
    "\n",
    "x_train_mf, y_train_mf = train_dataset_mf[:][0], train_dataset_mf[:][1]\n",
    "x_test_mf, y_test_mf = test_dataset_mf[:][0], test_dataset_mf[:][1]"
   ]
  },
  {
   "cell_type": "code",
   "execution_count": null,
   "metadata": {},
   "outputs": [],
   "source": [
    "y_test_mf.shape"
   ]
  },
  {
   "cell_type": "code",
   "execution_count": null,
   "metadata": {
    "id": "Rhzgcb4IRZaw"
   },
   "outputs": [],
   "source": [
    "x_normalizer_mf = UnitGaussianNormalizer(x_train_mf)\n",
    "x_train_mf = x_normalizer_mf.encode(x_train_mf)\n",
    "x_test_mf = x_normalizer_mf.encode(x_test_mf)\n",
    "x_test_mf_rel = x_normalizer_mf.encode(x_mf_rel)\n",
    "\n",
    "y_normalizer = UnitGaussianNormalizer(y_train_mf)\n",
    "y_train_mf = y_normalizer.encode(y_train_mf)\n",
    "\n",
    "test_loader_mf = torch.utils.data.DataLoader(torch.utils.data.TensorDataset(x_test_mf, y_test_mf),\n",
    "                                             batch_size=batch_size, shuffle=False)\n",
    "test_loader_mf_rel = torch.utils.data.DataLoader(torch.utils.data.TensorDataset(x_test_mf_rel, y_mf_rel),\n",
    "                                             batch_size=batch_size, shuffle=False)\n"
   ]
  },
  {
   "cell_type": "markdown",
   "metadata": {
    "id": "s-31oJvWVHO-"
   },
   "source": [
    "# MF Model"
   ]
  },
  {
   "cell_type": "code",
   "execution_count": null,
   "metadata": {
    "colab": {
     "base_uri": "https://localhost:8080/"
    },
    "executionInfo": {
     "elapsed": 14,
     "status": "ok",
     "timestamp": 1657835406286,
     "user": {
      "displayName": "CSCCM IITD",
      "userId": "18000198353382878931"
     },
     "user_tz": -330
    },
    "id": "siHHykHz-2ND",
    "outputId": "d0e63ddb-019c-433a-87a6-a59e4a4de8e0"
   },
   "outputs": [],
   "source": [
    "# %%\n",
    "\"\"\" The MD-WNO model definition \"\"\"\n",
    "model_mf = torch.load('model/MF_WNO_Darcy2D_50', map_location=device)\n",
    "print(count_params(model_mf))\n",
    "\n",
    "myloss = LpLoss(size_average=False)\n",
    "y_normalizer.to(device)"
   ]
  },
  {
   "cell_type": "code",
   "execution_count": null,
   "metadata": {
    "id": "pCujdZ_PT4Vl"
   },
   "outputs": [],
   "source": [
    "# Prediction:\n",
    "pred_mf = [] \n",
    "with torch.no_grad():\n",
    "    index = 0\n",
    "    for x, y in test_loader_mf_rel:\n",
    "        x, y = x.to(device), y.to(device)\n",
    "        \n",
    "        t1 = default_timer()\n",
    "        out = model_mf(x).reshape(x.shape[0], s, s)\n",
    "        out = y_normalizer.decode(out)\n",
    "        t2 = default_timer()\n",
    "        test_l2 = myloss(out.view(x.shape[0], -1), y.view(x.shape[0], -1)).item()\n",
    "        \n",
    "        test_l2 /= x.shape[0]\n",
    "        if index % 25 == 0:\n",
    "            print('Batch-{}, Time-{}, Test-L2-{:0.4f}'.format(index, t2-t1, test_l2))\n",
    "        \n",
    "        pred_mf.append(out.cpu())\n",
    "        index += 1\n",
    "\n",
    "pred_mf = torch.cat(( pred_mf ), dim=0 )\n",
    "\n",
    "print('Mean mse_hf-{}'.format(F.mse_loss(y_mf_rel, pred_mf).item()))\n"
   ]
  },
  {
   "cell_type": "code",
   "execution_count": null,
   "metadata": {
    "id": "fYFr3qYG_Rge"
   },
   "outputs": [],
   "source": [
    "# Add the residual operator to LF-dataset \n",
    "input_mf = x_normalizer_mf.decode( x_test_mf_rel.cpu() ) \n",
    "\n",
    "real_mf = y_mf_rel + input_mf[..., 1]\n",
    "output_mf = pred_mf + input_mf[..., 1]\n"
   ]
  },
  {
   "cell_type": "code",
   "execution_count": null,
   "metadata": {},
   "outputs": [],
   "source": [
    "print(real_mf.shape, output_mf.shape)"
   ]
  },
  {
   "cell_type": "code",
   "execution_count": null,
   "metadata": {
    "id": "wu0WJf6wT8lu"
   },
   "outputs": [],
   "source": [
    "mse_pred = F.mse_loss(output_mf, real_mf).item()\n",
    "mse_LF = F.mse_loss(real_mf, x_test_mf_rel[..., 1])\n",
    "mse_residual = F.mse_loss(y_mf_rel, pred_mf)\n",
    "\n",
    "print('MSE-Predicted solution-{:0.4f}, MSE-LF Data-{:0.4f}, MSE-Residual-{:0.4f}'\n",
    "      .format(mse_pred, mse_LF, mse_residual))\n"
   ]
  },
  {
   "cell_type": "code",
   "execution_count": null,
   "metadata": {},
   "outputs": [],
   "source": [
    "# Compute error statistics\n",
    "\n",
    "error = (real_mf - output_mf)**2\n",
    "mse_mean = torch.mean(error)\n",
    "mse_std = torch.std(error)\n",
    "\n",
    "print('MSE_mean-{}, MSE-std-{}'.format(mse_mean, mse_std))\n"
   ]
  },
  {
   "cell_type": "code",
   "execution_count": null,
   "metadata": {
    "colab": {
     "base_uri": "https://localhost:8080/",
     "height": 1000
    },
    "executionInfo": {
     "elapsed": 6310,
     "status": "ok",
     "timestamp": 1657835802701,
     "user": {
      "displayName": "CSCCM IITD",
      "userId": "18000198353382878931"
     },
     "user_tz": -330
    },
    "id": "T6UkMuPyUTPP",
    "outputId": "b7cbb499-c02a-4be7-8c23-b8d19f64ba05"
   },
   "outputs": [],
   "source": [
    "fig1, axs = plt.subplots(nrows=3, ncols=5, figsize=(16, 6), facecolor='w', edgecolor='k')\n",
    "fig1.subplots_adjust(hspace=0.35, wspace=0.2)\n",
    "\n",
    "fig1.suptitle(f'Predictions MFWNO AC2d Size', fontsize=16)\n",
    "index = 0 \n",
    "for sample in range(ntest):\n",
    "    if sample % 9 == 0:\n",
    "        im = axs[0, index].imshow(real_mf[sample, :, :], cmap='nipy_spectral', origin='lower' )\n",
    "        plt.colorbar(im, ax=axs[0, index])\n",
    "        im = axs[1, index].imshow(output_mf[sample, :, :], cmap='nipy_spectral', origin='lower' )\n",
    "        plt.colorbar(im, ax=axs[1, index])\n",
    "        im = axs[2, index].imshow(torch.abs(real_mf[sample, :, :] - output_mf[sample, :, :]),\n",
    "                                    cmap='jet', origin='lower')\n",
    "        plt.colorbar(im, ax=axs[2, index])\n",
    "        index += 1\n",
    "        "
   ]
  },
  {
   "cell_type": "code",
   "execution_count": null,
   "metadata": {},
   "outputs": [],
   "source": []
  },
  {
   "cell_type": "markdown",
   "metadata": {
    "id": "3ElUfPiIXy8s"
   },
   "source": [
    "# High Fidelity"
   ]
  },
  {
   "cell_type": "code",
   "execution_count": null,
   "metadata": {},
   "outputs": [],
   "source": [
    "class WaveConv2d(nn.Module):\n",
    "    def __init__(self, in_channels, out_channels, level, size, wavelet):\n",
    "        super(WaveConv2d, self).__init__()\n",
    "\n",
    "        \"\"\"\n",
    "        2D Wavelet layer. It does DWT, linear transform, and Inverse dWT. \n",
    "        \"\"\"\n",
    "\n",
    "        self.in_channels = in_channels\n",
    "        self.out_channels = out_channels\n",
    "        self.level = level\n",
    "        self.wavelet = wavelet       \n",
    "        dummy_data = torch.randn( 1,1,*size )        \n",
    "        dwt_ = DWT(J=self.level, mode='symmetric', wave=self.wavelet)\n",
    "        mode_data, mode_coef = dwt_(dummy_data)\n",
    "        self.modes1 = mode_data.shape[-2]\n",
    "        self.modes2 = mode_data.shape[-1]\n",
    "        \n",
    "        # Parameter initilization\n",
    "        self.scale = (1 / (in_channels * out_channels))\n",
    "        self.weights1 = nn.Parameter(self.scale * torch.rand(in_channels, out_channels, self.modes1, self.modes2))\n",
    "        self.weights2 = nn.Parameter(self.scale * torch.rand(in_channels, out_channels, self.modes1, self.modes2))\n",
    "        self.weights3 = nn.Parameter(self.scale * torch.rand(in_channels, out_channels, self.modes1, self.modes2))\n",
    "        self.weights4 = nn.Parameter(self.scale * torch.rand(in_channels, out_channels, self.modes1, self.modes2))\n",
    "\n",
    "    # Convolution\n",
    "    def mul2d(self, input, weights):\n",
    "        # (batch, in_channel, x,y ), (in_channel, out_channel, x,y) -> (batch, out_channel, x,y)\n",
    "        return torch.einsum(\"bixy,ioxy->boxy\", input, weights)\n",
    "\n",
    "    def forward(self, x):\n",
    "        \"\"\"\n",
    "        Input parameters: \n",
    "        -----------------\n",
    "        x : tensor, shape-[Batch * Channel * x * y]\n",
    "        Output parameters: \n",
    "        ------------------\n",
    "        x : tensor, shape-[Batch * Channel * x * y]\n",
    "        \"\"\"\n",
    "        # Compute single tree Discrete Wavelet coefficients using some wavelet\n",
    "        dwt = DWT(J=self.level, mode='symmetric', wave=self.wavelet).to(x.device)\n",
    "        x_ft, x_coeff = dwt(x)\n",
    "\n",
    "        # Multiply the final approximate Wavelet modes\n",
    "        out_ft = self.mul2d(x_ft, self.weights1)\n",
    "        # Multiply the final detailed wavelet coefficients\n",
    "        x_coeff[-1][:,:,0,:,:] = self.mul2d(x_coeff[-1][:,:,0,:,:].clone(), self.weights2)\n",
    "        x_coeff[-1][:,:,1,:,:] = self.mul2d(x_coeff[-1][:,:,1,:,:].clone(), self.weights3)\n",
    "        x_coeff[-1][:,:,2,:,:] = self.mul2d(x_coeff[-1][:,:,2,:,:].clone(), self.weights4)\n",
    "        \n",
    "        # Return to physical space        \n",
    "        idwt = IDWT(mode='symmetric', wave=self.wavelet).to(x.device)\n",
    "        x = idwt((out_ft, x_coeff))\n",
    "        return x"
   ]
  },
  {
   "cell_type": "code",
   "execution_count": null,
   "metadata": {
    "id": "zpeJTDt3-kyO"
   },
   "outputs": [],
   "source": [
    "class WNO2d(nn.Module):\n",
    "    def __init__(self, width, level, size, wavelet, in_channel, grid_range):\n",
    "        super(WNO2d, self).__init__()\n",
    "\n",
    "        \"\"\"\n",
    "        The WNO network. It contains 4 layers of the Wavelet integral layer.\n",
    "        1. Lift the input using v(x) = self.fc0 .\n",
    "        2. 4 layers of the integral operators v(+1) = g(K(.) + W)(v).\n",
    "            W is defined by self.w_; K is defined by self.conv_.\n",
    "        3. Project the output of last layer using self.fc1 and self.fc2.\n",
    "        \n",
    "        input: the solution of the coefficient function and locations (a(x, y), x, y)\n",
    "        input shape: (batchsize, x=s, y=s, c=4)\n",
    "        output: the solution \n",
    "        output shape: (batchsize, x=s, y=s, c=1)\n",
    "        \"\"\"\n",
    "        \n",
    "        self.level = level\n",
    "        self.width = width\n",
    "        self.size = size\n",
    "        self.wavelet = wavelet\n",
    "        self.in_channel = in_channel\n",
    "        self.grid_range = grid_range \n",
    "        self.padding = 1\n",
    "        \n",
    "        self.fc0 = nn.Linear(self.in_channel, self.width) # input channel is 3: (a(x, y), x, y)\n",
    "\n",
    "        self.conv0 = WaveConv2d(self.width, self.width, self.level, self.size, self.wavelet)\n",
    "        self.conv1 = WaveConv2d(self.width, self.width, self.level, self.size, self.wavelet)\n",
    "        self.conv2 = WaveConv2d(self.width, self.width, self.level, self.size, self.wavelet)\n",
    "        self.conv3 = WaveConv2d(self.width, self.width, self.level, self.size, self.wavelet)\n",
    "        self.w0 = nn.Conv2d(self.width, self.width, 1)\n",
    "        self.w1 = nn.Conv2d(self.width, self.width, 1)\n",
    "        self.w2 = nn.Conv2d(self.width, self.width, 1)\n",
    "        self.w3 = nn.Conv2d(self.width, self.width, 1)\n",
    "\n",
    "        self.fc1 = nn.Linear(self.width, 128)\n",
    "        self.fc2 = nn.Linear(128, 1)\n",
    "\n",
    "    def forward(self, x):\n",
    "        grid = self.get_grid(x.shape, x.device)\n",
    "        x = torch.cat((x, grid), dim=-1)\n",
    "\n",
    "        x = self.fc0(x)\n",
    "        x = x.permute(0, 3, 1, 2)\n",
    "        x = F.pad(x, [0,self.padding, 0,self.padding]) # do padding, if required\n",
    "\n",
    "        x1 = self.conv0(x)\n",
    "        x2 = self.w0(x)\n",
    "        x = x1 + x2\n",
    "        x = F.gelu(x)\n",
    "\n",
    "        x1 = self.conv1(x)\n",
    "        x2 = self.w1(x)\n",
    "        x = x1 + x2\n",
    "        x = F.gelu(x)\n",
    "\n",
    "        x1 = self.conv2(x)\n",
    "        x2 = self.w2(x)\n",
    "        x = x1 + x2\n",
    "        x = F.gelu(x)\n",
    "\n",
    "        x1 = self.conv3(x)\n",
    "        x2 = self.w3(x)\n",
    "        x = x1 + x2\n",
    "\n",
    "        x = x[..., :-self.padding, :-self.padding] # remove padding, when required\n",
    "        x = x.permute(0, 2, 3, 1)\n",
    "        x = self.fc1(x)\n",
    "        x = F.gelu(x)\n",
    "        x = self.fc2(x)\n",
    "        return x\n",
    "    \n",
    "    def get_grid(self, shape, device):\n",
    "        # The grid of the solution\n",
    "        batchsize, size_x, size_y = shape[0], shape[1], shape[2]\n",
    "        gridx = torch.tensor(np.linspace(0, self.grid_range[0], size_x), dtype=torch.float)\n",
    "        gridx = gridx.reshape(1, size_x, 1, 1).repeat([batchsize, 1, size_y, 1])\n",
    "        gridy = torch.tensor(np.linspace(0, self.grid_range[1], size_y), dtype=torch.float)\n",
    "        gridy = gridy.reshape(1, 1, size_y, 1).repeat([batchsize, size_x, 1, 1])\n",
    "        return torch.cat((gridx, gridy), dim=-1).to(device)\n",
    "    "
   ]
  },
  {
   "cell_type": "code",
   "execution_count": null,
   "metadata": {
    "id": "RHcYiiunVyvk"
   },
   "outputs": [],
   "source": [
    "ntrain = ntrain\n",
    "ntest = ntest\n",
    "n_total = ntrain + ntest\n",
    "batch_size = batch_size\n",
    "learning_rate = 0.001\n",
    "\n",
    "wavelet = 'db6'  # wavelet basis function\n",
    "level = 2        # lavel of wavelet decomposition\n",
    "width = 64       # uplifting dimension\n",
    "grid_range = [1, 1]\n",
    "in_channel = 3\n",
    "\n",
    "epochs = 250\n",
    "step_size = 50\n",
    "gamma = 0.75\n",
    "\n",
    "r = 2\n",
    "h = int(((101 - 1)/r) + 1)\n",
    "s = h"
   ]
  },
  {
   "cell_type": "code",
   "execution_count": null,
   "metadata": {
    "id": "5L-g7RCfWJ6q"
   },
   "outputs": [],
   "source": [
    "# Create the input and output (residual) dataset\n",
    "x_hf = torch.tensor( x_or_h, dtype=torch.float ) \n",
    "y_hf = torch.tensor( y_or_h, dtype=torch.float ) \n",
    "\n",
    "x_hf_rel = torch.tensor( x_or_h_rel, dtype=torch.float ) \n",
    "y_hf_rel = torch.tensor( y_or_h_rel, dtype=torch.float ) \n",
    "    \n",
    "generator_hf = torch.Generator().manual_seed(453)\n",
    "dataset_hf = torch.utils.data.random_split(torch.utils.data.TensorDataset(x_hf, y_hf),\n",
    "                                    [ntrain, ntest], generator=generator)\n",
    "train_data_hf, test_data_hf = dataset_hf[0], dataset_hf[1]\n",
    "\n",
    "# Split the training and testing datasets\n",
    "x_train_hf, y_train_hf = train_data_hf[:][0], train_data_hf[:][1]\n",
    "x_test_hf, y_test_hf = test_data_hf[:][0], test_data_hf[:][1]\n",
    "\n",
    "x_normalizer_hf = UnitGaussianNormalizer(x_train_hf)\n",
    "x_train_hf = x_normalizer_hf.encode(x_train_hf)\n",
    "x_test_hf = x_normalizer_hf.encode(x_test_hf)\n",
    "x_test_hf_rel = x_normalizer_hf.encode(x_hf_rel)\n",
    "\n",
    "y_normalizer_hf = UnitGaussianNormalizer(y_train_hf)\n",
    "y_train_hf = y_normalizer_hf.encode(y_train_hf)\n",
    "\n",
    "# Define the dataloaders\n",
    "test_loader_hf = torch.utils.data.DataLoader(torch.utils.data.TensorDataset(x_test_hf, y_test_hf),\n",
    "                                            batch_size=batch_size, shuffle=False)\n",
    "test_loader_hf_rel = torch.utils.data.DataLoader(torch.utils.data.TensorDataset(x_test_hf_rel, y_hf_rel),\n",
    "                                            batch_size=batch_size, shuffle=False)\n"
   ]
  },
  {
   "cell_type": "code",
   "execution_count": null,
   "metadata": {
    "colab": {
     "base_uri": "https://localhost:8080/"
    },
    "executionInfo": {
     "elapsed": 24,
     "status": "ok",
     "timestamp": 1657835825198,
     "user": {
      "displayName": "CSCCM IITD",
      "userId": "18000198353382878931"
     },
     "user_tz": -330
    },
    "id": "IT3OsJelW1S7",
    "outputId": "9bc0e6c9-7dfe-4728-90c3-9755ec8255fc"
   },
   "outputs": [],
   "source": [
    "model = torch.load('model/HF_WNO_Darcy2D_50', map_location=device)\n",
    "print(count_params(model))\n",
    "\n",
    "myloss = LpLoss(size_average=False)\n",
    "y_normalizer_hf.to(device)"
   ]
  },
  {
   "cell_type": "code",
   "execution_count": null,
   "metadata": {
    "id": "Mei01tCV-zu5"
   },
   "outputs": [],
   "source": [
    "# Predict on HF data using HF-WNO\n",
    "pred_hf = [] \n",
    "with torch.no_grad():\n",
    "    index = 0\n",
    "    for x, y in test_loader_hf_rel:        \n",
    "        x, y = x.to(device), y.to(device)\n",
    "        t1 = default_timer()\n",
    "        out = model(x).reshape(x.shape[0], s, s)\n",
    "        out = y_normalizer_hf.decode(out)\n",
    "        t2 = default_timer()\n",
    "        \n",
    "        test_l2 = myloss(out.view(x.shape[0], -1), y.view(x.shape[0], -1)).item()\n",
    "        test_l2 /= x.shape[0]\n",
    "        if index % 25 == 0:\n",
    "            print('Batch-{}, Time-{}, Test-L2-{:0.4f}'.format(index, t2-t1, test_l2))\n",
    "        \n",
    "        pred_hf.append(out.cpu())\n",
    "        index += 1\n",
    "\n",
    "pred_hf = torch.cat(( pred_hf ), dim=0 )\n",
    "\n",
    "print('Mean mse_hf-{}'.format(F.mse_loss(y_hf_rel, pred_hf).item()))"
   ]
  },
  {
   "cell_type": "code",
   "execution_count": null,
   "metadata": {
    "id": "jshMxscLTUbX"
   },
   "outputs": [],
   "source": [
    "mse_pred_hf = F.mse_loss(pred_hf, y_hf_rel).item()\n",
    "\n",
    "print('MSE-Predicted solution-{:0.4f}'.format(mse_pred_hf))\n"
   ]
  },
  {
   "cell_type": "code",
   "execution_count": null,
   "metadata": {},
   "outputs": [],
   "source": [
    "# Compute error statistics\n",
    "\n",
    "error = (real_mf - pred_hf)**2\n",
    "mse_mean = torch.mean(error)\n",
    "mse_std = torch.std(error)\n",
    "\n",
    "print('MSE_mean-{}, MSE-std-{}'.format(mse_mean, mse_std))\n"
   ]
  },
  {
   "cell_type": "code",
   "execution_count": null,
   "metadata": {},
   "outputs": [],
   "source": [
    "fig2, axs = plt.subplots(nrows=3, ncols=5, figsize=(16, 6), facecolor='w', edgecolor='k')\n",
    "fig2.subplots_adjust(hspace=0.35, wspace=0.2)\n",
    "\n",
    "fig2.suptitle(f'Predictions MFWNO AC2d Size', fontsize=16)\n",
    "index = 0 \n",
    "for sample in range(ntest):\n",
    "    if sample % 9 == 0:\n",
    "        im = axs[0, index].imshow(y_hf_rel[sample, :, :], cmap='nipy_spectral',origin='lower')\n",
    "        plt.colorbar(im, ax=axs[0, index])\n",
    "        im = axs[1, index].imshow(pred_hf[sample, :, :], cmap='nipy_spectral',origin='lower')\n",
    "        plt.colorbar(im, ax=axs[1, index])\n",
    "        im = axs[2, index].imshow(torch.abs(y_hf_rel[sample, :, :] - pred_hf[sample, :, :]),\n",
    "                                    cmap='jet',origin='lower')\n",
    "        plt.colorbar(im, ax=axs[2, index])\n",
    "        index += 1\n",
    "        "
   ]
  },
  {
   "cell_type": "code",
   "execution_count": null,
   "metadata": {},
   "outputs": [],
   "source": [
    "print(torch.max(real_mf[0]), torch.max(output_mf[0]), torch.max(pred_hf[0]))"
   ]
  },
  {
   "cell_type": "code",
   "execution_count": null,
   "metadata": {
    "id": "gjRXr5V6rwjK"
   },
   "outputs": [],
   "source": [
    "print(real_mf.shape, output_mf.shape, pred_hf.shape)"
   ]
  },
  {
   "cell_type": "code",
   "execution_count": null,
   "metadata": {},
   "outputs": [],
   "source": [
    "# %%\n",
    "eh = 2.0\n",
    "eh_mcs = np.zeros(ntest)\n",
    "eh_wno_mf = np.zeros(ntest)\n",
    "eh_wno_hf = np.zeros(ntest)\n",
    "\n",
    "for i in range(ntest):\n",
    "    if len( np.where( real_mf[i, ...] > eh )[0] ) == 0:\n",
    "        eh_mcs[i] = 0\n",
    "    else:\n",
    "        eh_mcs[i] = 1\n",
    "        \n",
    "for i in range(ntest):\n",
    "    if len( np.where( output_mf[i, ...] > eh )[0] ) == 0:\n",
    "        eh_wno_mf[i] = 0\n",
    "    else:\n",
    "        eh_wno_mf[i] = 1\n",
    "        \n",
    "for i in range(ntest):\n",
    "    if len( np.where( pred_hf[i, ...] > eh )[0] ) == 0:\n",
    "        eh_wno_hf[i] = 0\n",
    "    else:\n",
    "        eh_wno_hf[i] = 1\n",
    "\n",
    "pf_wno_mf = len(np.where(eh_wno_mf!=0)[0])/ntest\n",
    "pf_wno_hf = len(np.where(eh_wno_hf!=0)[0])/ntest\n",
    "pf_mcs = len(np.where(eh_mcs!=0)[0])/ntest\n",
    "print('Prob. of failure, MFWNO-{}, HFWNO-{}, MCS-{}'.format(pf_wno_mf, pf_wno_hf, pf_mcs))\n"
   ]
  },
  {
   "cell_type": "markdown",
   "metadata": {
    "id": "IxvNKbP9uUwo"
   },
   "source": [
    "# Plotting"
   ]
  },
  {
   "cell_type": "code",
   "execution_count": null,
   "metadata": {},
   "outputs": [],
   "source": [
    "real_mf.shape"
   ]
  },
  {
   "cell_type": "code",
   "execution_count": null,
   "metadata": {
    "colab": {
     "base_uri": "https://localhost:8080/",
     "height": 412
    },
    "executionInfo": {
     "elapsed": 7583,
     "status": "ok",
     "timestamp": 1658254523655,
     "user": {
      "displayName": "CSCCM IITD",
      "userId": "18000198353382878931"
     },
     "user_tz": -330
    },
    "id": "OrfneXu5S94x",
    "outputId": "9afbaf2b-e527-46a6-ae35-9cb7aafecf5e"
   },
   "outputs": [],
   "source": [
    "s = 1\n",
    "xmax = s\n",
    "ymax = s-8/51\n",
    "from matplotlib.patches import Rectangle\n",
    "plt.rcParams[\"font.family\"] = \"Times New Roman\"\n",
    "plt.rcParams['font.size'] = 12\n",
    "\n",
    "figure1, ax = plt.subplots(nrows=5, ncols=6, figsize=(14, 8), dpi=100)\n",
    "plt.subplots_adjust(hspace=0.30, wspace=0.30)\n",
    "\n",
    "index = 0\n",
    "for value in range(nreliability):\n",
    "    if value % 340 == 0:\n",
    "\n",
    "        ax[0,index].imshow(real_mf[value, ...], origin='lower', extent=[0,1,0,1], interpolation='Gaussian', cmap='nipy_spectral')\n",
    "        xf = np.array([0., xmax/2]); yf = xf*(ymax/(xmax/2)); \n",
    "        ax[0,index].fill_between(xf, yf, ymax, color = [1, 1, 1])\n",
    "        xf = np.array([xmax/2, xmax]); yf = (xf-xmax)*(ymax/((xmax/2)-xmax)); \n",
    "        ax[0,index].fill_between(xf, yf, ymax, color = [1, 1, 1])\n",
    "        xf = np.array([0, xmax]); ax[0,index].fill_between(xf, ymax, s, color = [1, 1, 1])        \n",
    "        ax[0,index].add_patch(Rectangle((0.5,0),0.02,0.4, facecolor='white'))\n",
    "        ax[0,index].set_title('Sample-{}'.format(value), color='r')\n",
    "        if index == 0:\n",
    "            ax[0,index].set_ylabel('Inrerpolated BC', color='r')\n",
    "            \n",
    "        ax[1,index].imshow(pred_hf[value, ...], origin='lower', extent=[0,1,0,1], interpolation='Gaussian', cmap='nipy_spectral')\n",
    "        xf = np.array([0., xmax/2]); yf = xf*(ymax/(xmax/2)); \n",
    "        ax[1,index].fill_between(xf, yf, ymax, color = [1, 1, 1])\n",
    "        xf = np.array([xmax/2, xmax]); yf = (xf-xmax)*(ymax/((xmax/2)-xmax)); \n",
    "        ax[1,index].fill_between(xf, yf, ymax, color = [1, 1, 1])\n",
    "        xf = np.array([0, xmax]); ax[1,index].fill_between(xf, ymax, s, color = [1, 1, 1])        \n",
    "        ax[1,index].add_patch(Rectangle((0.5,0),0.02,0.4, facecolor='white'))\n",
    "        if index == 0:\n",
    "            ax[1,index].set_ylabel('HFWNO', color='green')\n",
    "        \n",
    "        im = ax[2,index].imshow(np.abs(real_mf[value, ...] - pred_hf[value, ...]), origin='lower',\n",
    "                           extent=[0,1,0,1], interpolation='Gaussian', cmap='nipy_spectral', vmin=0, vmax=0.1)\n",
    "        xf = np.array([0., xmax/2]); yf = xf*(ymax/(xmax/2)); \n",
    "        ax[2,index].fill_between(xf, yf, ymax, color = [1, 1, 1])\n",
    "        xf = np.array([xmax/2, xmax]); yf = (xf-xmax)*(ymax/((xmax/2)-xmax)); \n",
    "        ax[2,index].fill_between(xf, yf, ymax, color = [1, 1, 1])\n",
    "        xf = np.array([0, xmax]); ax[2,index].fill_between(xf, ymax, s, color = [1, 1, 1])        \n",
    "        ax[2,index].add_patch(Rectangle((0.5,0),0.02,0.4, facecolor='white'))\n",
    "        plt.colorbar(im, ax=ax[2,index], fraction=0.2)\n",
    "        if index == 0:\n",
    "            ax[2,index].set_ylabel('Error-HFWNO', color='green')\n",
    "            \n",
    "        ax[3,index].imshow(output_mf[value, ...], origin='lower', extent=[0,1,0,1], interpolation='Gaussian', cmap='nipy_spectral')\n",
    "        xf = np.array([0., xmax/2]); yf = xf*(ymax/(xmax/2)); \n",
    "        ax[3,index].fill_between(xf, yf, ymax, color = [1, 1, 1])\n",
    "        xf = np.array([xmax/2, xmax]); yf = (xf-xmax)*(ymax/((xmax/2)-xmax)); \n",
    "        ax[3,index].fill_between(xf, yf, ymax, color = [1, 1, 1])\n",
    "        xf = np.array([0, xmax]); ax[3,index].fill_between(xf, ymax, s, color = [1, 1, 1])        \n",
    "        ax[3,index].add_patch(Rectangle((0.5,0),0.02,0.4, facecolor='white'))\n",
    "        if index == 0:\n",
    "            ax[3,index].set_ylabel('MFWNO', color='blue')\n",
    "\n",
    "        im = ax[4,index].imshow(np.abs(real_mf[value, ...] - output_mf[value, ...]), origin='lower',\n",
    "                           extent=[0,1,0,1], interpolation='Gaussian', cmap='nipy_spectral', vmin=0, vmax=0.1)\n",
    "        xf = np.array([0., xmax/2]); yf = xf*(ymax/(xmax/2)); \n",
    "        ax[4,index].fill_between(xf, yf, ymax, color = [1, 1, 1])\n",
    "        xf = np.array([xmax/2, xmax]); yf = (xf-xmax)*(ymax/((xmax/2)-xmax)); \n",
    "        ax[4,index].fill_between(xf, yf, ymax, color = [1, 1, 1])\n",
    "        xf = np.array([0, xmax]); ax[4,index].fill_between(xf, ymax, s, color = [1, 1, 1])        \n",
    "        ax[4,index].add_patch(Rectangle((0.5,0),0.02,0.4, facecolor='white'))\n",
    "        plt.colorbar(im, ax=ax[4,index], fraction=0.2)\n",
    "        if index == 0:\n",
    "            ax[4,index].set_ylabel('Error-HFWNO', color='blue')\n",
    "            \n",
    "        index += 1\n",
    "\n",
    "figure1.savefig('Prediction_Darcy.pdf', format='pdf', dpi=200, bbox_inches='tight')  \n"
   ]
  },
  {
   "cell_type": "code",
   "execution_count": null,
   "metadata": {},
   "outputs": [],
   "source": [
    "scipy.io.savemat('data/mfwno_darcy_n50.mat', mdict={'real_mf':real_mf.cpu().numpy(), \n",
    "                                                    'pred_hf':pred_hf.cpu().numpy(),\n",
    "                                                    'output_mf':output_mf.cpu().numpy()})\n"
   ]
  },
  {
   "cell_type": "code",
   "execution_count": null,
   "metadata": {},
   "outputs": [],
   "source": []
  }
 ],
 "metadata": {
  "accelerator": "GPU",
  "colab": {
   "authorship_tag": "ABX9TyPUFVlzIY3s+OcoPYM/dcWf",
   "collapsed_sections": [],
   "machine_shape": "hm",
   "name": "Multifid_WNO_Darcy_notch_size_30.ipynb",
   "provenance": [
    {
     "file_id": "1OPIb4ygLODwEKnHrahQ__DiDVyCq6543",
     "timestamp": 1656351883644
    }
   ]
  },
  "gpuClass": "standard",
  "kernelspec": {
   "display_name": "Python 3 (ipykernel)",
   "language": "python",
   "name": "python3"
  },
  "language_info": {
   "codemirror_mode": {
    "name": "ipython",
    "version": 3
   },
   "file_extension": ".py",
   "mimetype": "text/x-python",
   "name": "python",
   "nbconvert_exporter": "python",
   "pygments_lexer": "ipython3",
   "version": "3.11.7"
  }
 },
 "nbformat": 4,
 "nbformat_minor": 4
}
