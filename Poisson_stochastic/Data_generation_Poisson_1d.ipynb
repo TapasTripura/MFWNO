{
 "cells": [
  {
   "cell_type": "markdown",
   "metadata": {},
   "source": [
    "# This notebook generates the data for 1D Poisson's equation"
   ]
  },
  {
   "cell_type": "code",
   "execution_count": null,
   "metadata": {
    "colab": {
     "base_uri": "https://localhost:8080/"
    },
    "id": "8PTJdKQnMslW",
    "outputId": "f340eac4-3bdd-4ff3-f170-bd5d5941a531"
   },
   "outputs": [],
   "source": [
    "!pip install pathos --quiet"
   ]
  },
  {
   "cell_type": "code",
   "execution_count": null,
   "metadata": {
    "id": "pDk1JWv0MPsF"
   },
   "outputs": [],
   "source": [
    "import matplotlib.pyplot as plt\n",
    "import numpy as np\n",
    "from pathos.pools import ProcessPool\n",
    "from scipy import linalg, interpolate\n",
    "from sklearn import gaussian_process as gp\n",
    "import matplotlib.pyplot as plt\n",
    "import numpy as np\n",
    "from scipy import interpolate\n",
    "import sys\n",
    "import time\n",
    "from functools import wraps\n",
    "from scipy.interpolate import UnivariateSpline\n"
   ]
  },
  {
   "cell_type": "code",
   "execution_count": null,
   "metadata": {
    "id": "0SHcUSQGMXBv"
   },
   "outputs": [],
   "source": [
    "def timing(f):\n",
    "    \"\"\"Decorator for measuring the execution time of methods.\"\"\"\n",
    "\n",
    "    @wraps(f)\n",
    "    def wrapper(*args, **kwargs):\n",
    "        ts = time.time()\n",
    "        result = f(*args, **kwargs)\n",
    "        te = time.time()\n",
    "        print(\"%r took %f s\\n\" % (f.__name__, te - ts))\n",
    "        sys.stdout.flush()\n",
    "        return result\n",
    "\n",
    "    return wrapper"
   ]
  },
  {
   "cell_type": "code",
   "execution_count": null,
   "metadata": {
    "id": "f4rT4NtEMJFC"
   },
   "outputs": [],
   "source": [
    "class GRF(object):\n",
    "    def __init__(self, T, kernel=\"RBF\", length_scale=1, N=1000, interp=\"cubic\"):\n",
    "        self.N = N\n",
    "        self.interp = interp\n",
    "        self.x = np.linspace(0, T, num=N)[:, None]\n",
    "        if kernel == \"RBF\":\n",
    "            K = gp.kernels.RBF(length_scale=length_scale)\n",
    "        elif kernel == \"AE\":\n",
    "            K = gp.kernels.Matern(length_scale=length_scale, nu=0.5)\n",
    "        self.K = K(self.x)\n",
    "        self.L = np.linalg.cholesky(self.K + 1e-13 * np.eye(self.N))\n",
    "\n",
    "    def random(self, n):\n",
    "        \"\"\"Generate `n` random feature vectors.\n",
    "        \"\"\"\n",
    "        u = np.random.randn(self.N, n)\n",
    "        return np.dot(self.L, u).T\n",
    "\n",
    "    def eval_u_one(self, y, x):\n",
    "        \"\"\"Compute the function value at `x` for the feature `y`.\n",
    "        \"\"\"\n",
    "        if self.interp == \"linear\":\n",
    "            return np.interp(x, np.ravel(self.x), y)\n",
    "        f = interpolate.interp1d(\n",
    "            np.ravel(self.x), y, kind=self.interp, copy=False, assume_sorted=True\n",
    "        )\n",
    "        return f(x)\n",
    "\n",
    "    def eval_u(self, ys, sensors):\n",
    "        \"\"\"For a list of functions represented by `ys`,\n",
    "        compute a list of a list of function values at a list `sensors`.\n",
    "        \"\"\"\n",
    "        if self.interp == \"linear\":\n",
    "            return np.vstack([np.interp(sensors, np.ravel(self.x), y).T for y in ys])\n",
    "        p = ProcessPool(nodes=4)\n",
    "        res = p.map(\n",
    "            lambda y: interpolate.interp1d(\n",
    "                np.ravel(self.x), y, kind=self.interp, copy=False, assume_sorted=True\n",
    "            )(sensors).T,\n",
    "            ys,\n",
    "        )\n",
    "        return np.vstack(list(res))\n",
    "\n",
    "\n",
    "def space_samples(space, T):\n",
    "    features = space.random(100000)\n",
    "    sensors = np.linspace(0, T, num=1000)\n",
    "    u = space.eval_u(features, sensors[:, None])\n",
    "\n",
    "    plt.plot(sensors, np.mean(u, axis=0), \"k\")\n",
    "    plt.plot(sensors, np.std(u, axis=0), \"k--\")\n",
    "    plt.plot(sensors, np.cov(u.T)[0], \"k--\")\n",
    "    plt.plot(sensors, np.exp(-0.5 * sensors ** 2 / 0.2 ** 2))\n",
    "    for ui in u[:3]:\n",
    "        plt.plot(sensors, ui)\n",
    "    plt.show()\n"
   ]
  },
  {
   "cell_type": "code",
   "execution_count": null,
   "metadata": {
    "id": "bfZZf8O8MB6z"
   },
   "outputs": [],
   "source": [
    "def solver(f, N):\n",
    "    \"\"\"u_xx = 20f, x \\in [0, 1]\n",
    "    u(0) = u(1) = 0\n",
    "    \"\"\"\n",
    "    h = 1 / (N - 1)\n",
    "    K = -2 * np.eye(N - 2) + np.eye(N - 2, k=1) + np.eye(N - 2, k=-1)\n",
    "    b = h ** 2 * 20 * f[1:-1]\n",
    "    u = np.linalg.solve(K, b)\n",
    "    u = np.concatenate(([0], u, [0]))\n",
    "    return u\n",
    "\n",
    "\n",
    "def example():\n",
    "    space = GRF(1, length_scale=0.05, N=1000, interp=\"cubic\")\n",
    "    m = 100\n",
    "\n",
    "    features = space.random(1)\n",
    "    sensors = np.linspace(0, 1, num=m)\n",
    "    sensor_values = space.eval_u(features, sensors[:, None])\n",
    "    y = solver(sensor_values[0], m)\n",
    "    np.savetxt(\"poisson_high.dat\", np.vstack((sensors, np.ravel(sensor_values), y)).T)\n",
    "\n",
    "    m_low = 10\n",
    "    x_low = np.linspace(0, 1, num=m_low)\n",
    "    f_low = space.eval_u(features, x_low[:, None])\n",
    "    y_low = solver(f_low[0], m_low)\n",
    "    np.savetxt(\"poisson_low.dat\", np.vstack((x_low, y_low)).T)\n",
    "\n",
    "\n",
    "@timing\n",
    "def gen_data():\n",
    "    print(\"Generating operator data...\", flush=True)\n",
    "    space = GRF(1, length_scale=0.05, N=1000, interp=\"cubic\")\n",
    "    m = 100\n",
    "    num = 100\n",
    "\n",
    "    features = space.random(num)\n",
    "    sensors = np.linspace(0, 1, num=m)\n",
    "    sensor_values = space.eval_u(features, sensors[:, None])\n",
    "\n",
    "    x = []\n",
    "    y = []\n",
    "    for i in range(num):\n",
    "        tmp = solver(sensor_values[i], m)\n",
    "        idx = np.random.randint(0, m, size=1)\n",
    "        x.append(sensors[idx])\n",
    "        y.append(tmp[idx])\n",
    "    x = np.array(x)\n",
    "    y = np.array(y)\n",
    "\n",
    "    m_low = 10\n",
    "    x_low = np.linspace(0, 1, num=m_low)\n",
    "    f_low = space.eval_u(features, x_low[:, None])\n",
    "    y_low = []\n",
    "    y_low_x = []\n",
    "    for i in range(num):\n",
    "        tmp = solver(f_low[i], m_low)\n",
    "        tmp = interpolate.interp1d(x_low, tmp, copy=False, assume_sorted=True)\n",
    "        y_low.append(tmp(sensors))\n",
    "        y_low_x.append(tmp(x[i]))\n",
    "    y_low = np.array(y_low)\n",
    "    y_low_x = np.array(y_low_x)\n",
    "    np.savez_compressed(\n",
    "        \"/content/train.npz\", X0=sensor_values, X1=x, y=y, y_low=y_low, y_low_x=y_low_x\n",
    "    )\n",
    "\n",
    "    for i in range(5):\n",
    "         plt.figure()\n",
    "         plt.plot(sensors, sensor_values[i], \"k\")\n",
    "         plt.plot(x[i], y[i], \"or\")\n",
    "         plt.plot(sensors, y_low[i], \"b\")\n",
    "         plt.plot(x[i], y_low_x[i], \"xb\")\n",
    "         plt.show()\n",
    "\n",
    "\n",
    "def main():\n",
    "    gen_data()\n",
    "    "
   ]
  },
  {
   "cell_type": "code",
   "execution_count": null,
   "metadata": {
    "id": "ur4WGHG7VP89"
   },
   "outputs": [],
   "source": [
    "def gen_data_fno(points_hi,points_lo,num,lscale):\n",
    "    space = GRF(1, length_scale=lscale, N=1000, interp=\"cubic\")\n",
    "    m = points_hi\n",
    "    n = num\n",
    "    m_low = points_lo\n",
    "\n",
    "    y_high = np.zeros((n,m))\n",
    "    y_low_xlow = np.zeros((n,m_low))\n",
    "    features = space.random(n)\n",
    "    sensors = np.linspace(0, 1, num=m)\n",
    "    sensor_values = space.eval_u(features, sensors[:, None])\n",
    "\n",
    "    x_low = np.linspace(0, 1, num=m_low)\n",
    "    f_low = space.eval_u(features, x_low[:, None])\n",
    "\n",
    "    for i in range(n):\n",
    "        t1 = time.time()\n",
    "        y_high[i] = solver(sensor_values[i], m)\n",
    "        t2 = time.time()\n",
    "        t3 = time.time()\n",
    "        y_low_xlow[i] = solver(f_low[i], m_low)\n",
    "        t4 = time.time()\n",
    "        if i % 100 == 0:\n",
    "            print('Sample-{}, Time-HF-{:0.4f}, Time-LF-{:0.4f}'.format(i, t2-t1, t4-t3))\n",
    "\n",
    "    np.savez_compressed(\n",
    "        \"data/train.npz\", f_stoch =sensor_values, xhi=sensors, yhi=y_high, x_low=x_low, y_low=y_low_xlow\n",
    "    )"
   ]
  },
  {
   "cell_type": "code",
   "execution_count": null,
   "metadata": {
    "id": "Jrv_6Q3DW6pM",
    "scrolled": true
   },
   "outputs": [],
   "source": [
    "gen_data_fno(50,8,10000,0.1)"
   ]
  },
  {
   "cell_type": "code",
   "execution_count": null,
   "metadata": {
    "id": "kQYmvsOmRmS_"
   },
   "outputs": [],
   "source": [
    "with np.load('data/train.npz','r') as data:\n",
    "  y_low = data['y_low']\n",
    "  x_low = data['x_low']\n",
    "  xhi = data['xhi']\n",
    "  yhi = data['yhi']\n",
    "  f =  data['f_stoch']"
   ]
  },
  {
   "cell_type": "code",
   "execution_count": null,
   "metadata": {
    "id": "Zy8Z-eDBYsVR"
   },
   "outputs": [],
   "source": [
    "ylo = np.zeros((10000,50))\n",
    "for i in range(len(y_low)):\n",
    "  spl = interpolate.interp1d(x_low, y_low[i],kind=\"cubic\")\n",
    "  ylo[i] = spl(xhi)"
   ]
  },
  {
   "cell_type": "code",
   "execution_count": null,
   "metadata": {
    "colab": {
     "base_uri": "https://localhost:8080/",
     "height": 447
    },
    "id": "vMycOKWRXP4x",
    "outputId": "a5cadb1e-447d-4943-c180-bb537c2379a6"
   },
   "outputs": [],
   "source": [
    "n = 440\n",
    "fig1 = plt.figure(figsize=(10,6), dpi=100)\n",
    "plt.plot(x_low,y_low[n])\n",
    "plt.plot(xhi,ylo[n])\n",
    "plt.plot(xhi,yhi[n])\n",
    "plt.plot(x_low,y_low[110])\n",
    "plt.legend(['low_hi','hi','lo'])\n"
   ]
  },
  {
   "cell_type": "code",
   "execution_count": null,
   "metadata": {
    "id": "iBRrswfkbXUU"
   },
   "outputs": [],
   "source": [
    "def mseloss(y_true,y_pred):\n",
    "    return np.mean(np.square(y_pred-y_true))"
   ]
  },
  {
   "cell_type": "code",
   "execution_count": null,
   "metadata": {
    "colab": {
     "base_uri": "https://localhost:8080/"
    },
    "id": "EEBr0hWqbn0I",
    "outputId": "58f766e1-71e1-4d20-8e70-ba2d98c5c779"
   },
   "outputs": [],
   "source": [
    "mseloss(ylo,yhi)"
   ]
  },
  {
   "cell_type": "code",
   "execution_count": null,
   "metadata": {
    "id": "aDlg_VRYcCJE"
   },
   "outputs": [],
   "source": [
    "np.savez_compressed(\n",
    "        \"rbf_possion_8pt_50pt__lscale_01_10000.npz\", f_stoch =f, xhi=xhi, yhi=yhi, x_low=x_low, y_low_100=ylo, y_low_x = y_low\n",
    "    )"
   ]
  },
  {
   "cell_type": "code",
   "execution_count": null,
   "metadata": {},
   "outputs": [],
   "source": []
  }
 ],
 "metadata": {
  "accelerator": "GPU",
  "colab": {
   "provenance": []
  },
  "gpuClass": "standard",
  "kernelspec": {
   "display_name": "Python 3 (ipykernel)",
   "language": "python",
   "name": "python3"
  },
  "language_info": {
   "codemirror_mode": {
    "name": "ipython",
    "version": 3
   },
   "file_extension": ".py",
   "mimetype": "text/x-python",
   "name": "python",
   "nbconvert_exporter": "python",
   "pygments_lexer": "ipython3",
   "version": "3.11.7"
  }
 },
 "nbformat": 4,
 "nbformat_minor": 4
}
