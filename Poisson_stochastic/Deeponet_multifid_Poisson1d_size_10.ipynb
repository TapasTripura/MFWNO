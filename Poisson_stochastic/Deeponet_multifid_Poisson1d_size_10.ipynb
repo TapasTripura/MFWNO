{
 "cells": [
  {
   "cell_type": "markdown",
   "metadata": {},
   "source": [
    "# It trains MF-DeepONet and performs Reliability analysis on the MF 1D Poisson's data (time-independent problem).\n",
    "### HF data size = 10"
   ]
  },
  {
   "cell_type": "code",
   "execution_count": null,
   "metadata": {
    "executionInfo": {
     "elapsed": 8,
     "status": "ok",
     "timestamp": 1672626557115,
     "user": {
      "displayName": "CSCCM IITD",
      "userId": "18000198353382878931"
     },
     "user_tz": 300
    },
    "id": "ce-T3Tu5zyE4"
   },
   "outputs": [],
   "source": [
    "import numpy as np\n",
    "import torch\n",
    "import torch.nn as nn\n",
    "import torch.nn.functional as F\n",
    "from torch.nn.parameter import Parameter\n",
    "from utils import *\n",
    "import matplotlib.pyplot as plt\n",
    "\n",
    "from timeit import default_timer"
   ]
  },
  {
   "cell_type": "code",
   "execution_count": null,
   "metadata": {
    "executionInfo": {
     "elapsed": 6,
     "status": "ok",
     "timestamp": 1672626557115,
     "user": {
      "displayName": "CSCCM IITD",
      "userId": "18000198353382878931"
     },
     "user_tz": 300
    },
    "id": "8JbWtxniSerT"
   },
   "outputs": [],
   "source": [
    "torch.manual_seed(10)\n",
    "np.random.seed(10)"
   ]
  },
  {
   "cell_type": "markdown",
   "metadata": {
    "id": "7Ds09MG-EOKw"
   },
   "source": [
    "# **Deeponet**"
   ]
  },
  {
   "cell_type": "code",
   "execution_count": null,
   "metadata": {
    "executionInfo": {
     "elapsed": 4,
     "status": "ok",
     "timestamp": 1672626557443,
     "user": {
      "displayName": "CSCCM IITD",
      "userId": "18000198353382878931"
     },
     "user_tz": 300
    },
    "id": "p6rDXElhEQIq"
   },
   "outputs": [],
   "source": [
    "class Deeponet(nn.Module):\n",
    "    def __init__(self, branchnetdepth, trunknetdepth, width,insize, space_dim):\n",
    "        super(Deeponet, self).__init__()\n",
    "\n",
    "        # self.bdpth = branchnetdepth\n",
    "        # self.tdpth = tdpth\n",
    "        # self.width = width\n",
    "        inp_dim = insize\n",
    "        s_dim = space_dim\n",
    "        tlayers = []\n",
    "        blayers = [] \n",
    "        for i in range(branchnetdepth):\n",
    "            blayers.append(nn.Linear(inp_dim,width)) \n",
    "            blayers.append(nn.ReLU(inplace=True))\n",
    "            inp_dim = width\n",
    "        for i in range(trunknetdepth):\n",
    "            tlayers.append(nn.Linear(s_dim,width)) \n",
    "            tlayers.append(nn.ReLU(inplace=True))\n",
    "            s_dim = width\n",
    "        \n",
    "        self.branchnet = nn.Sequential(*blayers)\n",
    "        self.trunknet = nn.Sequential(*tlayers)\n",
    "        self.bias = nn.ReLU(inplace=True)\n",
    "\n",
    "    # Convolution\n",
    "    def hadprodsum(self, branch, trunk):\n",
    "        # (batch, in_channel, x ), (in_channel, out_channel, x) -> (batch, out_channel, x)\n",
    "        return torch.einsum(\"ij,ij->i\", branch, trunk)\n",
    "\n",
    "    def forward(self, xb,xt):\n",
    "        #pdb.set_trace()\n",
    "        x1 = self.branchnet(xb)\n",
    "        x2 = self.trunknet(xt)\n",
    "        x  = self.hadprodsum(x1,x2)\n",
    "        x = x.view(-1,1)\n",
    "        x  = self.bias(x)      \n",
    "        return x"
   ]
  },
  {
   "cell_type": "markdown",
   "metadata": {
    "id": "FKe4bEBlRd6K"
   },
   "source": [
    "# Multifidelity"
   ]
  },
  {
   "cell_type": "code",
   "execution_count": null,
   "metadata": {
    "executionInfo": {
     "elapsed": 232,
     "status": "ok",
     "timestamp": 1672626651151,
     "user": {
      "displayName": "CSCCM IITD",
      "userId": "18000198353382878931"
     },
     "user_tz": 300
    },
    "id": "EZbcADk9-msh"
   },
   "outputs": [],
   "source": [
    "################################################################\n",
    "#  configurations\n",
    "################################################################\n",
    "ntrain_m = 10\n",
    "ntest_m = 2000\n",
    "n_total = ntrain_m + ntest_m\n",
    "last_m = 400\n",
    "s = 100\n",
    "\n",
    "batch_size = 500\n",
    "learning_rate = 0.001\n",
    "\n",
    "epochs = 500"
   ]
  },
  {
   "cell_type": "code",
   "execution_count": null,
   "metadata": {
    "executionInfo": {
     "elapsed": 3,
     "status": "ok",
     "timestamp": 1672626651852,
     "user": {
      "displayName": "CSCCM IITD",
      "userId": "18000198353382878931"
     },
     "user_tz": 300
    },
    "id": "LDQ0MHVcXL9o"
   },
   "outputs": [],
   "source": [
    "PATH = 'data/possion_10pt_100pt__lscale_01.npz'\n",
    "data = np.load(PATH)\n",
    "\n",
    "x_data_h = data['f_stoch'] \n",
    "y_data_l = data['y_low_100'] \n",
    "y_data_h = data['yhi'] \n",
    "x_coords = data['xhi'].reshape((s,))"
   ]
  },
  {
   "cell_type": "code",
   "execution_count": null,
   "metadata": {},
   "outputs": [],
   "source": [
    "y_data_h.shape"
   ]
  },
  {
   "cell_type": "code",
   "execution_count": null,
   "metadata": {
    "executionInfo": {
     "elapsed": 3,
     "status": "ok",
     "timestamp": 1672626651852,
     "user": {
      "displayName": "CSCCM IITD",
      "userId": "18000198353382878931"
     },
     "user_tz": 300
    },
    "id": "qW4O4wil7eGh"
   },
   "outputs": [],
   "source": [
    "x_mf = np.stack((x_data_h, y_data_l), axis=-1)\n",
    "y_mf = y_data_h - y_data_l\n"
   ]
  },
  {
   "cell_type": "code",
   "execution_count": null,
   "metadata": {},
   "outputs": [],
   "source": [
    "print(x_mf.shape, y_mf.shape)"
   ]
  },
  {
   "cell_type": "code",
   "execution_count": null,
   "metadata": {},
   "outputs": [],
   "source": [
    "x_train_mf, y_train_mf = x_mf[:ntrain_m, ...], y_mf[:ntrain_m, ...]\n",
    "x_test_mf, y_test_mf = x_mf[-ntest_m:, ...], y_mf[-ntest_m:, ...]"
   ]
  },
  {
   "cell_type": "code",
   "execution_count": null,
   "metadata": {},
   "outputs": [],
   "source": [
    "print(x_train_mf.shape, y_train_mf.shape, x_test_mf.shape, y_test_mf.shape)"
   ]
  },
  {
   "cell_type": "code",
   "execution_count": null,
   "metadata": {},
   "outputs": [],
   "source": [
    "x_coords.shape"
   ]
  },
  {
   "cell_type": "code",
   "execution_count": null,
   "metadata": {
    "executionInfo": {
     "elapsed": 3,
     "status": "ok",
     "timestamp": 1672626651852,
     "user": {
      "displayName": "CSCCM IITD",
      "userId": "18000198353382878931"
     },
     "user_tz": 300
    },
    "id": "e_TFYjiw-nrb"
   },
   "outputs": [],
   "source": [
    "# read data\n",
    "\n",
    "# Data is of the shape (number of samples, grid size)\n",
    "xb_train_mf  = np.repeat(x_train_mf.astype(np.float32).reshape((ntrain_m,-1)), x_coords.shape[0],axis=0)\n",
    "xt_train_mf =  np.tile(x_coords.astype(np.float32),ntrain_m).reshape((-1,1))\n",
    "y_train_mf  =  y_train_mf.astype(np.float32).reshape(-1,1)\n",
    "\n",
    "xb_test_mf  = np.repeat(x_test_mf.astype(np.float32).reshape((ntest_m,-1)), x_coords.shape[0],axis=0)\n",
    "xt_test_mf =  np.tile(x_coords.astype(np.float32),ntest_m).reshape((-1,1))\n",
    "y_test_mf  =  y_test_mf.astype(np.float32).reshape(-1,1)\n",
    "\n",
    "print(xb_train_mf.shape, xt_train_mf.shape, y_train_mf.shape)\n",
    "print(xb_test_mf.shape, xt_test_mf.shape, y_test_mf.shape)\n",
    "\n",
    "xb_train_mf = torch.from_numpy(xb_train_mf)\n",
    "xt_train_mf = torch.from_numpy(xt_train_mf)\n",
    "xb_test_mf = torch.from_numpy(xb_test_mf)\n",
    "xt_test_mf = torch.from_numpy(xt_test_mf)\n",
    "y_train_mf = torch.from_numpy(y_train_mf)\n",
    "y_test_mf = torch.from_numpy(y_test_mf)\n",
    "\n",
    "train_loader_mf = torch.utils.data.DataLoader(torch.utils.data.TensorDataset(xb_train_mf, xt_train_mf, y_train_mf),\n",
    "                                              batch_size=batch_size, shuffle=True)\n",
    "test_loader_mf = torch.utils.data.DataLoader(torch.utils.data.TensorDataset(xb_test_mf, xt_test_mf, y_test_mf),\n",
    "                                             batch_size=batch_size, shuffle=False)\n"
   ]
  },
  {
   "cell_type": "code",
   "execution_count": null,
   "metadata": {
    "colab": {
     "base_uri": "https://localhost:8080/"
    },
    "executionInfo": {
     "elapsed": 2,
     "status": "ok",
     "timestamp": 1672626651852,
     "user": {
      "displayName": "CSCCM IITD",
      "userId": "18000198353382878931"
     },
     "user_tz": 300
    },
    "id": "3eomwdLl-t-f",
    "outputId": "79b4b4de-d329-4b64-9258-d250280e63ae"
   },
   "outputs": [],
   "source": [
    "# model\n",
    "bdepth = 3\n",
    "tdepth = 3\n",
    "width = 5\n",
    "inputsizeb = xb_train_mf.shape[-1]\n",
    "spdim = xt_train_mf.shape[-1]\n",
    "\n",
    "model = Deeponet(bdepth,tdepth,width,inputsizeb,spdim).cuda()\n",
    "print(count_params(model))\n",
    "\n",
    "optimizer = torch.optim.Adam(model.parameters(), lr=learning_rate)\n"
   ]
  },
  {
   "cell_type": "code",
   "execution_count": null,
   "metadata": {},
   "outputs": [],
   "source": [
    "model"
   ]
  },
  {
   "cell_type": "code",
   "execution_count": null,
   "metadata": {
    "colab": {
     "base_uri": "https://localhost:8080/"
    },
    "executionInfo": {
     "elapsed": 148066,
     "status": "ok",
     "timestamp": 1672626799916,
     "user": {
      "displayName": "CSCCM IITD",
      "userId": "18000198353382878931"
     },
     "user_tz": 300
    },
    "id": "Q5KPrqWE6O1x",
    "outputId": "39e794f7-f49f-4ce8-ee03-b6dd9b100803",
    "scrolled": true
   },
   "outputs": [],
   "source": [
    "for ep in range(epochs):\n",
    "    model.train()\n",
    "    t1 = default_timer()\n",
    "    train_mse = 0\n",
    "    train_l2 = 0\n",
    "    for xb, xt, y in train_loader_mf:\n",
    "        xb, xt, y = xb.cuda(), xt.cuda(), y.cuda()\n",
    "        \n",
    "        optimizer.zero_grad()\n",
    "        out = model(xb, xt)\n",
    "\n",
    "        mse = F.mse_loss(out.view(batch_size, -1), y.view(batch_size, -1), reduction='mean')\n",
    "        mse.backward() # use the l2 relative loss\n",
    "\n",
    "        optimizer.step()\n",
    "        train_mse += mse.item()\n",
    "\n",
    "    model.eval()\n",
    "    test_mse = 0\n",
    "    with torch.no_grad():\n",
    "        for xb, xt, y in test_loader_mf:\n",
    "            xb, xt, y = xb.cuda(), xt.cuda(), y.cuda()\n",
    "\n",
    "            out = model(xb, xt)\n",
    "            tmse = F.mse_loss(out.view(batch_size, -1), y.view(batch_size, -1), reduction='mean')\n",
    "            test_mse += tmse.item()\n",
    "\n",
    "    train_mse /= len(train_loader_mf)\n",
    "    test_mse /= len(test_loader_mf)\n",
    "    t2 = default_timer()\n",
    "    print(f'epoch {ep}, time_taken: {t2-t1}, train_mse: {train_mse},test_mse: {test_mse}')\n"
   ]
  },
  {
   "cell_type": "code",
   "execution_count": null,
   "metadata": {},
   "outputs": [],
   "source": [
    "# Save the MF-DeepONet model\n",
    "\n",
    "torch.save(model, 'model/deeponet_poissons_10')"
   ]
  },
  {
   "cell_type": "code",
   "execution_count": null,
   "metadata": {
    "executionInfo": {
     "elapsed": 39,
     "status": "ok",
     "timestamp": 1672626799917,
     "user": {
      "displayName": "CSCCM IITD",
      "userId": "18000198353382878931"
     },
     "user_tz": 300
    },
    "id": "Cwsw79SrI3LP",
    "scrolled": true
   },
   "outputs": [],
   "source": [
    "pred_mf = []\n",
    "\n",
    "with torch.no_grad():\n",
    "    index = 0\n",
    "    for xb, xt, y in test_loader_mf:\n",
    "        xb, xt, y = xb.cuda(), xt.cuda(), y.cuda()\n",
    "        tmse = 0\n",
    "        \n",
    "        out = model(xb, xt)\n",
    "        tmse = F.mse_loss(out.view(batch_size, -1), y.view(batch_size, -1)).item()\n",
    "        \n",
    "        pred_mf.append( out.cpu() )\n",
    "        print(\"Batch-{}, Test-loss-{:0.6f}\".format( index, tmse ))\n",
    "        index += 1\n",
    "\n",
    "pred_mf = torch.cat(( pred_mf ))\n",
    "print('Mean mse_mf-{}'.format(F.mse_loss(y_test_mf, pred_mf).item()))\n",
    "     "
   ]
  },
  {
   "cell_type": "code",
   "execution_count": null,
   "metadata": {},
   "outputs": [],
   "source": [
    "pred_mf = pred_mf.reshape(ntest_m, x_coords.shape[0])\n",
    "y_test_mf = y_test_mf.reshape(ntest_m, x_coords.shape[0])\n",
    "\n",
    "print(pred_mf.shape, y_test_mf.device)"
   ]
  },
  {
   "cell_type": "code",
   "execution_count": null,
   "metadata": {
    "executionInfo": {
     "elapsed": 23,
     "status": "ok",
     "timestamp": 1672626799917,
     "user": {
      "displayName": "CSCCM IITD",
      "userId": "18000198353382878931"
     },
     "user_tz": 300
    },
    "id": "g6zdSWkXJHFa"
   },
   "outputs": [],
   "source": [
    "out_actual = pred_mf + torch.from_numpy(x_test_mf[:,:,1]) \n",
    "real_actual = y_test_mf + torch.from_numpy(x_test_mf[:,:,1]) \n"
   ]
  },
  {
   "cell_type": "code",
   "execution_count": null,
   "metadata": {},
   "outputs": [],
   "source": [
    "print(real_actual.shape, out_actual.shape)"
   ]
  },
  {
   "cell_type": "code",
   "execution_count": null,
   "metadata": {
    "executionInfo": {
     "elapsed": 23,
     "status": "ok",
     "timestamp": 1672626799917,
     "user": {
      "displayName": "CSCCM IITD",
      "userId": "18000198353382878931"
     },
     "user_tz": 300
    },
    "id": "0qi6U_VmLCKp"
   },
   "outputs": [],
   "source": [
    "mse_pred = F.mse_loss(out_actual, real_actual).item()\n",
    "\n",
    "print('MSE-Predicted solution-{:0.6f}'.format(mse_pred))\n"
   ]
  },
  {
   "cell_type": "code",
   "execution_count": null,
   "metadata": {
    "colab": {
     "base_uri": "https://localhost:8080/"
    },
    "executionInfo": {
     "elapsed": 23,
     "status": "ok",
     "timestamp": 1672626799917,
     "user": {
      "displayName": "CSCCM IITD",
      "userId": "18000198353382878931"
     },
     "user_tz": 300
    },
    "id": "qINq5LPwLE20",
    "outputId": "8c254f9e-4cd7-427b-90a4-5f00c0dc5572"
   },
   "outputs": [],
   "source": [
    "plt.rcParams['font.family'] = 'Times New Roman' \n",
    "plt.rcParams['font.size'] = 12\n",
    "plt.rcParams['mathtext.fontset'] = 'dejavuserif'\n",
    "\n",
    "colormap = plt.cm.jet  \n",
    "colors = [colormap(i) for i in np.linspace(0, 1, 5)]\n",
    "\n",
    "fig2 = plt.figure(figsize = (10, 4), dpi=300)\n",
    "fig2.suptitle('Stochastic Heat - DeepONet - High fidelity')\n",
    "\n",
    "index = 0\n",
    "for i in range(ntest_m):\n",
    "    if i % 500 == 0:\n",
    "        plt.plot(x_coords, out_actual[i, :], color=colors[index], label='Actual')\n",
    "        plt.plot(x_coords, real_actual[i,:], '--', color=colors[index], label='Prediction')\n",
    "        index += 1\n",
    "plt.legend(ncol=4, loc=4, labelspacing=0.25, columnspacing=0.25, handletextpad=0.5, handlelength=1)\n",
    "plt.grid(True)\n",
    "plt.margins(0)\n"
   ]
  },
  {
   "cell_type": "markdown",
   "metadata": {},
   "source": [
    "# First passage failure"
   ]
  },
  {
   "cell_type": "code",
   "execution_count": null,
   "metadata": {},
   "outputs": [],
   "source": [
    "# %%\n",
    "eh = 4.5\n",
    "eh_mcs = np.zeros(ntest_m)\n",
    "eh_deeponet_mf = np.zeros(ntest_m)\n",
    "\n",
    "for i in range(ntest_m):\n",
    "    if len( np.where( real_actual[i, ...] > eh )[0] ) == 0:\n",
    "        eh_mcs[i] = 0\n",
    "    else:\n",
    "        eh_mcs[i] = 1\n",
    "        \n",
    "for i in range(ntest_m):\n",
    "    if len( np.where( out_actual[i, ...] > eh )[0] ) == 0:\n",
    "        eh_deeponet_mf[i] = 0\n",
    "    else:\n",
    "        eh_deeponet_mf[i] = 1\n",
    "\n",
    "eh_deeponet_mf = len(np.where(eh_deeponet_mf!=0)[0])/ntest_m\n",
    "pf_mcs = len(np.where(eh_mcs!=0)[0])/ntest_m\n",
    "print('Prob. of failure, MFDeepONet-{}, MCS-{}'.format(eh_deeponet_mf, pf_mcs))\n"
   ]
  },
  {
   "cell_type": "code",
   "execution_count": null,
   "metadata": {},
   "outputs": [],
   "source": [
    "scipy.io.savemat('data/deeponet_poissons_n10.mat', mdict={'out_actual':out_actual.cpu().numpy(), \n",
    "                                                          'real_actual':real_actual.cpu().numpy(),\n",
    "                                                          'x_coords':x_coords})\n"
   ]
  },
  {
   "cell_type": "code",
   "execution_count": null,
   "metadata": {},
   "outputs": [],
   "source": []
  }
 ],
 "metadata": {
  "accelerator": "GPU",
  "colab": {
   "authorship_tag": "ABX9TyPwjqa5B67c8WZ4NVn9p0Yd",
   "provenance": [
    {
     "file_id": "1mxc45_MXRb8pJ9AN7EF_tskf1bYZaOYu",
     "timestamp": 1672626525075
    },
    {
     "file_id": "1PSGK5mOJYpEh0IJGf8ZAeqxPKS127C9U",
     "timestamp": 1672626362620
    },
    {
     "file_id": "1Z2ut1eTatDXb7LTfKqBLiZ22I8X3jjR8",
     "timestamp": 1672626200512
    },
    {
     "file_id": "1ll6ANghASHKLzRe9MqXI3ptsM3RoMY-r",
     "timestamp": 1672624733776
    },
    {
     "file_id": "1seHTtaRVvKG6LEi6g93VX8SrYsAqs_Ht",
     "timestamp": 1672624684262
    },
    {
     "file_id": "1926O79wCCu14wXPQ9AnDnKxg7xBADGRs",
     "timestamp": 1672624604794
    },
    {
     "file_id": "1FG1KchJjNYJPqldnyu-iS1bDuhrFxXoD",
     "timestamp": 1672113745089
    },
    {
     "file_id": "1ynB72ME1gRTuhDkCgYl9j0T7LjWU44tw",
     "timestamp": 1672111625656
    },
    {
     "file_id": "132b_E8bfokbJny5Xq9y-L9MoHRfZfu-J",
     "timestamp": 1672109653096
    },
    {
     "file_id": "1vdTJHNBQTe6cDa3znA2eK71i_o8rXg0m",
     "timestamp": 1672096142193
    },
    {
     "file_id": "1WmHRKITBoAIBvl_l46TQivFgEWBk8qbA",
     "timestamp": 1657553878903
    },
    {
     "file_id": "1c-ie-KRb-kGVgNiH1Ag-8WlV89iaMnAj",
     "timestamp": 1657551263885
    },
    {
     "file_id": "1zAzFWiQi2z4sAgFp0Fv7mYa0YowoFitv",
     "timestamp": 1657351594397
    },
    {
     "file_id": "1vodjDJ5vqUi0eylKTSABVpp7TinS4Zwx",
     "timestamp": 1657218736049
    },
    {
     "file_id": "1LgrC1t3iuy23p-b05fQh-ddyrsI0_lAv",
     "timestamp": 1657178812760
    },
    {
     "file_id": "1eSUGqtpAaymHy5y9I5bSv58S2X5G-MdX",
     "timestamp": 1657134232337
    }
   ]
  },
  "gpuClass": "premium",
  "kernelspec": {
   "display_name": "Python 3 (ipykernel)",
   "language": "python",
   "name": "python3"
  },
  "language_info": {
   "codemirror_mode": {
    "name": "ipython",
    "version": 3
   },
   "file_extension": ".py",
   "mimetype": "text/x-python",
   "name": "python",
   "nbconvert_exporter": "python",
   "pygments_lexer": "ipython3",
   "version": "3.11.7"
  }
 },
 "nbformat": 4,
 "nbformat_minor": 4
}
