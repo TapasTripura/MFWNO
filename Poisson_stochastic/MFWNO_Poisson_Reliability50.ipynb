{
 "cells": [
  {
   "cell_type": "markdown",
   "metadata": {},
   "source": [
    "# It performs Reliability analysis of 1D Stochastic Poisson's equation using MFWNO (time-independent reliability).\n",
    "### HF data size = 50"
   ]
  },
  {
   "cell_type": "code",
   "execution_count": null,
   "metadata": {
    "executionInfo": {
     "elapsed": 9,
     "status": "ok",
     "timestamp": 1658147804702,
     "user": {
      "displayName": "CSCCM IITD",
      "userId": "18000198353382878931"
     },
     "user_tz": -330
    },
    "id": "ce-T3Tu5zyE4"
   },
   "outputs": [],
   "source": [
    "import numpy as np\n",
    "import torch\n",
    "import torch.nn as nn\n",
    "import torch.nn.functional as F\n",
    "from torch.nn.parameter import Parameter\n",
    "from utils import *\n",
    "import matplotlib.pyplot as plt\n",
    "\n",
    "from timeit import default_timer\n",
    "from pytorch_wavelets import DWT1D, IDWT1D"
   ]
  },
  {
   "cell_type": "code",
   "execution_count": null,
   "metadata": {
    "executionInfo": {
     "elapsed": 9,
     "status": "ok",
     "timestamp": 1658147804703,
     "user": {
      "displayName": "CSCCM IITD",
      "userId": "18000198353382878931"
     },
     "user_tz": -330
    },
    "id": "8JbWtxniSerT"
   },
   "outputs": [],
   "source": [
    "torch.manual_seed(10)\n",
    "np.random.seed(10)"
   ]
  },
  {
   "cell_type": "markdown",
   "metadata": {
    "id": "7Ds09MG-EOKw"
   },
   "source": [
    "# WNO"
   ]
  },
  {
   "cell_type": "code",
   "execution_count": null,
   "metadata": {
    "executionInfo": {
     "elapsed": 783,
     "status": "ok",
     "timestamp": 1658147806420,
     "user": {
      "displayName": "CSCCM IITD",
      "userId": "18000198353382878931"
     },
     "user_tz": -330
    },
    "id": "p6rDXElhEQIq"
   },
   "outputs": [],
   "source": [
    "class WaveConv1d(nn.Module):\n",
    "    def __init__(self, in_channels, out_channels, level, size, wavelet):\n",
    "        super(WaveConv1d, self).__init__()\n",
    "\n",
    "        \"\"\"\n",
    "        1D Wavelet layer. It does Wavelet Transform, linear transform, and\n",
    "        Inverse Wavelet Transform.    \n",
    "        \"\"\"\n",
    "\n",
    "        self.in_channels = in_channels\n",
    "        self.out_channels = out_channels\n",
    "        self.level = level\n",
    "        self.wavelet = wavelet \n",
    "        self.dwt_ = DWT1D(wave=self.wavelet, J=self.level, mode='zero')\n",
    "        dummy_data = torch.randn( 1,1,size ) \n",
    "        mode_data, _ = self.dwt_(dummy_data)\n",
    "        self.modes1 = mode_data.shape[-1]\n",
    "        \n",
    "        # Parameter initilization\n",
    "        self.scale = (1 / (in_channels*out_channels))\n",
    "        self.weights1 = nn.Parameter(self.scale * torch.rand(in_channels, out_channels, self.modes1))\n",
    "        self.weights2 = nn.Parameter(self.scale * torch.rand(in_channels, out_channels, self.modes1))\n",
    "\n",
    "    # Convolution\n",
    "    def mul1d(self, input, weights):\n",
    "        # (batch, in_channel, x ), (in_channel, out_channel, x) -> (batch, out_channel, x)\n",
    "        return torch.einsum(\"bix,iox->box\", input, weights)\n",
    "\n",
    "    def forward(self, x):\n",
    "        \"\"\"\n",
    "        Input parameters: \n",
    "        -----------------\n",
    "        x : tensor, shape-[Batch * Channel * x]\n",
    "        Output parameters: \n",
    "        ------------------\n",
    "        x : tensor, shape-[Batch * Channel * x]\n",
    "        \"\"\"\n",
    "        # Compute single tree Discrete Wavelet coefficients using some wavelet     \n",
    "        dwt = DWT1D(wave=self.wavelet, J=self.level, mode='zero').to(x.device)\n",
    "        x_ft, x_coeff = dwt(x)\n",
    "        \n",
    "        # Multiply the final low pass wavelet coefficients\n",
    "        out_ft = self.mul1d(x_ft, self.weights1)\n",
    "        # Multiply the final high pass wavelet coefficients\n",
    "        x_coeff[-1] = self.mul1d(x_coeff[-1].clone(), self.weights2)\n",
    "        \n",
    "        # Reconstruct the signal\n",
    "        idwt = IDWT1D(wave=self.wavelet, mode='zero').to(x.device)\n",
    "        x = idwt((out_ft, x_coeff)) \n",
    "        return x"
   ]
  },
  {
   "cell_type": "code",
   "execution_count": null,
   "metadata": {
    "executionInfo": {
     "elapsed": 30,
     "status": "ok",
     "timestamp": 1658147806422,
     "user": {
      "displayName": "CSCCM IITD",
      "userId": "18000198353382878931"
     },
     "user_tz": -330
    },
    "id": "5ZqLQP5bEQ3s"
   },
   "outputs": [],
   "source": [
    "class WNO1d(nn.Module):\n",
    "    def __init__(self, width, level, size, wavelet, in_channel, grid_range):\n",
    "        super(WNO1d, self).__init__()\n",
    "\n",
    "        \"\"\"\n",
    "        The WNO network. It contains 4 layers of the Wavelet integral layer.\n",
    "        1. Lift the input using v(x) = self.fc0 .\n",
    "        2. 4 layers of the integral operators v(+1) = g(K(.) + W)(v).\n",
    "            W is defined by self.w_; K is defined by self.conv_.\n",
    "        3. Project the output of last layer using self.fc1 and self.fc2.\n",
    "        \n",
    "        input: the solution of the initial condition and location (a(x), x)\n",
    "        input shape: (batchsize, x=s, c=2)\n",
    "        output: the solution of a later timestep\n",
    "        output shape: (batchsize, x=s, c=1)\n",
    "        \"\"\"\n",
    "\n",
    "        self.level = level\n",
    "        self.width = width\n",
    "        self.size = size\n",
    "        self.wavelet = wavelet\n",
    "        self.in_channel = in_channel\n",
    "        self.grid_range = grid_range \n",
    "        self.padding = 2\n",
    "        \n",
    "        self.fc0 = nn.Linear(self.in_channel, self.width) # input channel is 2: (a(x), x)\n",
    "\n",
    "        self.conv0 = WaveConv1d(self.width, self.width, self.level, self.size, self.wavelet)\n",
    "        self.conv1 = WaveConv1d(self.width, self.width, self.level, self.size, self.wavelet)\n",
    "        self.conv2 = WaveConv1d(self.width, self.width, self.level, self.size, self.wavelet)\n",
    "        self.conv3 = WaveConv1d(self.width, self.width, self.level, self.size, self.wavelet)\n",
    "        self.w0 = nn.Conv1d(self.width, self.width, 1)\n",
    "        self.w1 = nn.Conv1d(self.width, self.width, 1)\n",
    "        self.w2 = nn.Conv1d(self.width, self.width, 1)\n",
    "        self.w3 = nn.Conv1d(self.width, self.width, 1)\n",
    "\n",
    "        self.fc1 = nn.Linear(self.width, 128)\n",
    "        self.fc2 = nn.Linear(128, 1)\n",
    "\n",
    "    def forward(self, x):\n",
    "        grid = self.get_grid(x.shape, x.device)\n",
    "        x = torch.cat((x, grid), dim=-1)\n",
    "        x = self.fc0(x)\n",
    "        x = x.permute(0, 2, 1)\n",
    "        if self.padding != 0:\n",
    "            x = F.pad(x, [0,self.padding]) # do padding, if required\n",
    "\n",
    "        x1 = self.conv0(x)\n",
    "        x2 = self.w0(x)\n",
    "        x = x1 + x2\n",
    "        x = F.gelu(x)\n",
    "\n",
    "        x1 = self.conv1(x)\n",
    "        x2 = self.w1(x)\n",
    "        x = x1 + x2\n",
    "        x = F.gelu(x)\n",
    "        \n",
    "        x1 = self.conv2(x)\n",
    "        x2 = self.w2(x)\n",
    "        x = x1 + x2\n",
    "        x = F.gelu(x)\n",
    "\n",
    "        x1 = self.conv3(x)\n",
    "        x2 = self.w3(x)\n",
    "        x = x1 + x2\n",
    "\n",
    "        if self.padding != 0:\n",
    "            x = x[..., :-self.padding] # remove padding, when required\n",
    "        x = x.permute(0, 2, 1)\n",
    "        x = self.fc1(x)\n",
    "        x = F.leaky_relu(x)\n",
    "        x = self.fc2(x)\n",
    "        return x\n",
    "\n",
    "    def get_grid(self, shape, device):\n",
    "        # The grid of the solution\n",
    "        batchsize, size_x = shape[0], shape[1]\n",
    "        gridx = torch.tensor(np.linspace(0, self.grid_range, size_x), dtype=torch.float)\n",
    "        gridx = gridx.reshape(1, size_x, 1).repeat([batchsize, 1, 1])\n",
    "        return gridx.to(device)\n",
    "    "
   ]
  },
  {
   "cell_type": "code",
   "execution_count": null,
   "metadata": {
    "executionInfo": {
     "elapsed": 25,
     "status": "ok",
     "timestamp": 1658147806422,
     "user": {
      "displayName": "CSCCM IITD",
      "userId": "18000198353382878931"
     },
     "user_tz": -330
    },
    "id": "nS7lMpnW6xWI"
   },
   "outputs": [],
   "source": [
    "class WNO1d_linear(nn.Module):\n",
    "    def __init__(self, width, level, size, wavelet, in_channel, grid_range):\n",
    "        super(WNO1d_linear, self).__init__()\n",
    "\n",
    "        \"\"\"\n",
    "        The WNO network. It contains 4 layers of the Wavelet integral layer.\n",
    "        1. Lift the input using v(x) = self.fc0 .\n",
    "        2. 4 layers of the integral operators v(+1) = g(K(.) + W)(v).\n",
    "            W is defined by self.w_; K is defined by self.conv_.\n",
    "        3. Project the output of last layer using self.fc1 and self.fc2.\n",
    "        \n",
    "        input: the solution of the initial condition and location (a(x), x)\n",
    "        input shape: (batchsize, x=s, c=2)\n",
    "        output: the solution of a later timestep\n",
    "        output shape: (batchsize, x=s, c=1)\n",
    "        \"\"\"\n",
    "\n",
    "        self.level = level\n",
    "        self.width = width\n",
    "        self.size = size\n",
    "        self.wavelet = wavelet\n",
    "        self.in_channel = in_channel\n",
    "        self.grid_range = grid_range \n",
    "        self.padding = 2\n",
    "        \n",
    "        self.fc0 = nn.Linear(self.in_channel, self.width) # input channel is 2: (a(x), x)\n",
    "\n",
    "        self.conv0 = WaveConv1d(self.width, self.width, self.level, self.size, self.wavelet)\n",
    "        self.conv1 = WaveConv1d(self.width, self.width, self.level, self.size, self.wavelet)\n",
    "        self.w0 = nn.Conv1d(self.width, self.width, 1)\n",
    "        self.w1 = nn.Conv1d(self.width, self.width, 1)\n",
    "\n",
    "        self.fc1 = nn.Linear(self.width, 128)\n",
    "        self.fc2 = nn.Linear(128, 1)\n",
    "\n",
    "    def forward(self, x):\n",
    "        grid = self.get_grid(x.shape, x.device)\n",
    "        x = torch.cat((x, grid), dim=-1)\n",
    "        x = self.fc0(x)\n",
    "        x = x.permute(0, 2, 1)\n",
    "        x = F.pad(x, [0,self.padding]) # do padding, if required\n",
    "\n",
    "        x1 = self.conv0(x)\n",
    "        x2 = self.w0(x)\n",
    "        x = x1 + x2\n",
    "\n",
    "        x1 = self.conv1(x)\n",
    "        x2 = self.w1(x)\n",
    "        x = x1 + x2\n",
    "\n",
    "        x = x[..., :-self.padding] # remove padding, when required\n",
    "        x = x.permute(0, 2, 1)\n",
    "        x = self.fc1(x)\n",
    "        x = F.leaky_relu(x)\n",
    "        x = self.fc2(x)\n",
    "        return x\n",
    "\n",
    "    def get_grid(self, shape, device):\n",
    "        # The grid of the solution\n",
    "        batchsize, size_x = shape[0], shape[1]\n",
    "        gridx = torch.tensor(np.linspace(0, self.grid_range, size_x), dtype=torch.float)\n",
    "        gridx = gridx.reshape(1, size_x, 1).repeat([batchsize, 1, 1])\n",
    "        return gridx.to(device)\n",
    "    "
   ]
  },
  {
   "cell_type": "code",
   "execution_count": null,
   "metadata": {
    "executionInfo": {
     "elapsed": 22,
     "status": "ok",
     "timestamp": 1658147806424,
     "user": {
      "displayName": "CSCCM IITD",
      "userId": "18000198353382878931"
     },
     "user_tz": -330
    },
    "id": "6JlOIBThdPG4"
   },
   "outputs": [],
   "source": [
    "class MFWNO(nn.Module):\n",
    "  def __init__(self, width, level, size, wavelet, in_channel, grid_range):\n",
    "    super(MFWNO, self).__init__()\n",
    "    \n",
    "    self.width = width\n",
    "    self.level = level \n",
    "    self.size = size\n",
    "    self.wavelet = wavelet \n",
    "    self.in_channel = in_channel \n",
    "    self.grid_range = grid_range\n",
    "    \n",
    "    self.conv1 = WNO1d_linear(self.width, self.level, self.size, self.wavelet, self.in_channel, self.grid_range)\n",
    "    self.conv2 = WNO1d(self.width, self.level, self.size, self.wavelet, self.in_channel, self.grid_range)\n",
    "    self.fc0 = nn.Linear(1,12)\n",
    "    self.fc1 = nn.Linear(12,1)\n",
    "\n",
    "  def forward(self, x):\n",
    "    x = self.conv1(x) + self.conv2(x)\n",
    "    x = self.fc0(x)\n",
    "    x = F.gelu(x)\n",
    "    x = self.fc1(x)\n",
    "    return x\n"
   ]
  },
  {
   "cell_type": "markdown",
   "metadata": {
    "id": "FKe4bEBlRd6K"
   },
   "source": [
    "# Multifidelity"
   ]
  },
  {
   "cell_type": "code",
   "execution_count": null,
   "metadata": {
    "executionInfo": {
     "elapsed": 12,
     "status": "ok",
     "timestamp": 1658147826073,
     "user": {
      "displayName": "CSCCM IITD",
      "userId": "18000198353382878931"
     },
     "user_tz": -330
    },
    "id": "EZbcADk9-msh"
   },
   "outputs": [],
   "source": [
    "ntrain = 2000\n",
    "ntest = 2000\n",
    "n_total = ntrain + ntest\n",
    "last_m = 400\n",
    "s = 100\n",
    "\n",
    "batch_size = 100\n",
    "learning_rate = 0.001\n",
    "\n",
    "w_decay = 1e-4\n",
    "epochs = 500\n",
    "step_size = 50   # weight-decay step size\n",
    "gamma = 0.5      # weight-decay rate\n",
    "\n",
    "wavelet = 'db6'  # wavelet basis function\n",
    "level = 3        # lavel of wavelet decomposition\n",
    "width = 64       # uplifting dimension\n",
    "layers = 4       # no of wavelet layers\n",
    "\n",
    "h = 100           # total grid size divided by the subsampling rate\n",
    "grid_range = 1\n",
    "in_channel = 3   # (a(x), x) for this case\n"
   ]
  },
  {
   "cell_type": "code",
   "execution_count": null,
   "metadata": {
    "executionInfo": {
     "elapsed": 694,
     "status": "ok",
     "timestamp": 1658147826758,
     "user": {
      "displayName": "CSCCM IITD",
      "userId": "18000198353382878931"
     },
     "user_tz": -330
    },
    "id": "0Mg9uu2UYYQT"
   },
   "outputs": [],
   "source": [
    "PATH = 'data/possion_10pt_100pt__lscale_01.npz'\n",
    "data = np.load(PATH)\n",
    "\n",
    "x_data_h = data['f_stoch'][:ntest, ...]\n",
    "y_data_l = data['y_low_100'][:ntest, ...]\n",
    "y_data_h = data['yhi'][:ntest, ...]\n",
    "x_coords = data['xhi'].reshape((s,))"
   ]
  },
  {
   "cell_type": "code",
   "execution_count": null,
   "metadata": {
    "executionInfo": {
     "elapsed": 19,
     "status": "ok",
     "timestamp": 1658147826759,
     "user": {
      "displayName": "CSCCM IITD",
      "userId": "18000198353382878931"
     },
     "user_tz": -330
    },
    "id": "qW4O4wil7eGh"
   },
   "outputs": [],
   "source": [
    "# read data\n",
    "\n",
    "x_mf = np.stack((x_data_h, y_data_l), axis=-1)\n",
    "y_mf = y_data_h - y_data_l\n",
    "\n",
    "x_train_mf, y_train_mf = x_mf[:ntrain, ...], y_mf[:ntrain, ...]\n",
    "x_test_mf, y_test_mf = x_mf[:ntest, ...], y_mf[:ntest, ...]\n",
    "\n",
    "x_train_mf = torch.tensor( x_train_mf, dtype=torch.float )\n",
    "y_train_mf = torch.tensor( y_train_mf, dtype=torch.float ) \n",
    "x_test_mf = torch.tensor( x_test_mf, dtype=torch.float ) \n",
    "y_test_mf = torch.tensor( y_test_mf, dtype=torch.float ) \n",
    "\n",
    "train_loader_mf = torch.utils.data.DataLoader(torch.utils.data.TensorDataset(x_train_mf, y_train_mf),\n",
    "                                              batch_size=batch_size, shuffle=True)\n",
    "test_loader_mf = torch.utils.data.DataLoader(torch.utils.data.TensorDataset(x_test_mf, y_test_mf),\n",
    "                                             batch_size=batch_size, shuffle=False)\n"
   ]
  },
  {
   "cell_type": "code",
   "execution_count": null,
   "metadata": {
    "executionInfo": {
     "elapsed": 16,
     "status": "ok",
     "timestamp": 1658147826761,
     "user": {
      "displayName": "CSCCM IITD",
      "userId": "18000198353382878931"
     },
     "user_tz": -330
    },
    "id": "NcMsmj0TH5CV"
   },
   "outputs": [],
   "source": [
    "print(x_mf.shape, y_mf.shape, x_train_mf.shape, y_train_mf.shape, x_test_mf.shape, y_test_mf.shape)"
   ]
  },
  {
   "cell_type": "code",
   "execution_count": null,
   "metadata": {
    "colab": {
     "base_uri": "https://localhost:8080/"
    },
    "executionInfo": {
     "elapsed": 22,
     "status": "ok",
     "timestamp": 1658147834295,
     "user": {
      "displayName": "CSCCM IITD",
      "userId": "18000198353382878931"
     },
     "user_tz": -330
    },
    "id": "3eomwdLl-t-f",
    "outputId": "c6cb9290-3eda-4cac-aa0b-257a5cca5571"
   },
   "outputs": [],
   "source": [
    "# model\n",
    "model_mf = torch.load('model/MF_WNO_poisson1D_50', map_location=device)\n",
    "print(count_params(model_mf))\n",
    "\n",
    "myloss = LpLoss(size_average=False)\n"
   ]
  },
  {
   "cell_type": "code",
   "execution_count": null,
   "metadata": {
    "executionInfo": {
     "elapsed": 23,
     "status": "ok",
     "timestamp": 1658147955708,
     "user": {
      "displayName": "CSCCM IITD",
      "userId": "18000198353382878931"
     },
     "user_tz": -330
    },
    "id": "iz6udzkEUOv6"
   },
   "outputs": [],
   "source": [
    "# Prediction:\n",
    "pred_mf = []\n",
    "with torch.no_grad():\n",
    "    index = 0\n",
    "    for x, y in test_loader_mf:\n",
    "        test_l2 = 0 \n",
    "        x, y = x.to(device), y.to(device)\n",
    "        t1 = default_timer()\n",
    "        out = model_mf(x).squeeze(-1)\n",
    "        t2 = default_timer()\n",
    "        test_l2 = myloss(out.view(batch_size, -1), y.view(batch_size, -1)).item()\n",
    "        pred_mf.append( out.cpu() )\n",
    "        print(\"Batch-{}, Time={:0.4f}, Test-loss-{:0.6f}\".format( index, t2-t1, test_l2 ))\n",
    "        index += 1\n",
    "\n",
    "pred_mf = torch.cat(( pred_mf ))\n",
    "print('Mean mse_mf-{}'.format(F.mse_loss(y_test_mf, pred_mf).item()))\n",
    "    "
   ]
  },
  {
   "cell_type": "code",
   "execution_count": null,
   "metadata": {},
   "outputs": [],
   "source": [
    "pred_mf.shape"
   ]
  },
  {
   "cell_type": "code",
   "execution_count": null,
   "metadata": {
    "executionInfo": {
     "elapsed": 17,
     "status": "ok",
     "timestamp": 1658147955709,
     "user": {
      "displayName": "CSCCM IITD",
      "userId": "18000198353382878931"
     },
     "user_tz": -330
    },
    "id": "zoJ53LM7gFk0"
   },
   "outputs": [],
   "source": [
    "inp_mf  = x_test_mf \n",
    "real_mf = y_test_mf + inp_mf[:,:,1]\n",
    "output_mf  =  pred_mf + inp_mf[:,:,1]"
   ]
  },
  {
   "cell_type": "code",
   "execution_count": null,
   "metadata": {},
   "outputs": [],
   "source": [
    "mse_pred = F.mse_loss(output_mf, real_mf).item()\n",
    "error = (output_mf - real_mf)**2\n",
    "error_mean = torch.mean(error)\n",
    "error_std = torch.std(error)\n",
    "\n",
    "print('MSE-Predicted solution-{:0.6f}, mean-{:0.4f}, std-{:0.4f}'.format(mse_pred, error_mean, error_std))\n"
   ]
  },
  {
   "cell_type": "code",
   "execution_count": null,
   "metadata": {
    "colab": {
     "base_uri": "https://localhost:8080/",
     "height": 540
    },
    "executionInfo": {
     "elapsed": 1396,
     "status": "ok",
     "timestamp": 1658147957091,
     "user": {
      "displayName": "CSCCM IITD",
      "userId": "18000198353382878931"
     },
     "user_tz": -330
    },
    "id": "S3uABam-fxJW",
    "outputId": "3a13c252-c85c-4acc-948f-5d428be261c3"
   },
   "outputs": [],
   "source": [
    "plt.rcParams['font.family'] = 'Times New Roman' \n",
    "plt.rcParams['font.size'] = 12\n",
    "plt.rcParams['mathtext.fontset'] = 'dejavuserif'\n",
    "\n",
    "colormap = plt.cm.jet  \n",
    "colors = [colormap(i) for i in np.linspace(0, 1, 5)]\n",
    "\n",
    "fig2 = plt.figure(figsize = (10, 4), dpi=300)\n",
    "fig2.suptitle('Stochastic Heat - FNO - High fidelity')\n",
    "\n",
    "index = 0\n",
    "for i in range(ntest):\n",
    "    if i % 500 == 0:\n",
    "        plt.plot(x_coords, real_mf[i, :], color=colors[index], label='Actual')\n",
    "        plt.plot(x_coords, output_mf[i,:], '--', color=colors[index], label='Prediction')\n",
    "        index += 1\n",
    "plt.legend(ncol=4, loc=4, labelspacing=0.25, columnspacing=0.25, handletextpad=0.5, handlelength=1)\n",
    "plt.grid(True)\n",
    "plt.margins(0)\n"
   ]
  },
  {
   "cell_type": "code",
   "execution_count": null,
   "metadata": {
    "colab": {
     "base_uri": "https://localhost:8080/"
    },
    "executionInfo": {
     "elapsed": 77,
     "status": "ok",
     "timestamp": 1658147958348,
     "user": {
      "displayName": "CSCCM IITD",
      "userId": "18000198353382878931"
     },
     "user_tz": -330
    },
    "id": "OLqVEOUVIK9_",
    "outputId": "becdfed1-3ea5-4a0e-8f74-054bc96ce2b1"
   },
   "outputs": [],
   "source": []
  },
  {
   "cell_type": "markdown",
   "metadata": {
    "id": "VdlYHIgzRr4D"
   },
   "source": [
    "# High Fidelity"
   ]
  },
  {
   "cell_type": "code",
   "execution_count": null,
   "metadata": {},
   "outputs": [],
   "source": [
    "# read data\n",
    "x_hf = torch.tensor( x_data_h, dtype=torch.float ).unsqueeze(-1)\n",
    "y_hf = torch.tensor( y_data_h, dtype=torch.float ) \n",
    "\n",
    "x_train_hf, y_train_hf = x_hf[:ntrain, ...], y_hf[:ntrain, ...]\n",
    "x_test_hf, y_test_hf = x_hf[-ntest:, ...], y_hf[-ntest:, ...]\n",
    "\n",
    "train_loader_hf = torch.utils.data.DataLoader(torch.utils.data.TensorDataset(x_train_hf, y_train_hf),\n",
    "                                              batch_size=batch_size, shuffle=True)\n",
    "test_loader_hf = torch.utils.data.DataLoader(torch.utils.data.TensorDataset(x_test_hf, x_test_hf),\n",
    "                                             batch_size=batch_size, shuffle=False)\n"
   ]
  },
  {
   "cell_type": "code",
   "execution_count": null,
   "metadata": {},
   "outputs": [],
   "source": [
    "print(x_train_hf.shape, y_train_hf.shape, x_test_hf.shape, y_test_hf.shape)"
   ]
  },
  {
   "cell_type": "code",
   "execution_count": null,
   "metadata": {
    "colab": {
     "base_uri": "https://localhost:8080/"
    },
    "executionInfo": {
     "elapsed": 65,
     "status": "ok",
     "timestamp": 1658147958359,
     "user": {
      "displayName": "CSCCM IITD",
      "userId": "18000198353382878931"
     },
     "user_tz": -330
    },
    "id": "tugoovSqS1MN",
    "outputId": "f9eaff01-a1ef-4465-a1be-440dea3ce133"
   },
   "outputs": [],
   "source": [
    "# model\n",
    "model_hf = torch.load('model/HF_WNO_poisson1D_50', map_location=device)\n",
    "print(count_params(model_hf))\n",
    "\n",
    "myloss = LpLoss(size_average=False)\n"
   ]
  },
  {
   "cell_type": "code",
   "execution_count": null,
   "metadata": {
    "executionInfo": {
     "elapsed": 15,
     "status": "ok",
     "timestamp": 1658148072494,
     "user": {
      "displayName": "CSCCM IITD",
      "userId": "18000198353382878931"
     },
     "user_tz": -330
    },
    "id": "soCRGaXwS1MQ"
   },
   "outputs": [],
   "source": [
    "# Prediction:\n",
    "pred_hf = []\n",
    "with torch.no_grad():\n",
    "    index = 0\n",
    "    for x, y in test_loader_mf:\n",
    "        test_l2 = 0 \n",
    "        x, y = x.to(device), y.to(device)\n",
    "        t1 = default_timer()\n",
    "        out = model_hf(x[:,:,0:1]).squeeze(-1)\n",
    "        t2 = default_timer()\n",
    "        test_l2 = myloss(out.view(batch_size, -1), y.view(batch_size, -1)).item()\n",
    "        pred_hf.append( out.cpu() )\n",
    "        print(\"Batch-{}, Time-{:0.4f}, Test-loss-{:0.6f}\".format( index, t2-t1, test_l2 ))\n",
    "        index += 1\n",
    "\n",
    "pred_hf = torch.cat(( pred_hf ))\n",
    "# print('Mean mse_mf-{}'.format(F.mse_loss(y_test_hf, pred_hf).item()))\n"
   ]
  },
  {
   "cell_type": "code",
   "execution_count": null,
   "metadata": {
    "executionInfo": {
     "elapsed": 13,
     "status": "ok",
     "timestamp": 1658148072495,
     "user": {
      "displayName": "CSCCM IITD",
      "userId": "18000198353382878931"
     },
     "user_tz": -330
    },
    "id": "D0X1lU-8S1MQ"
   },
   "outputs": [],
   "source": [
    "inp = x_test_mf\n",
    "real_hf = y_test_mf + inp[:,:,1] \n",
    "output_hf = pred_hf"
   ]
  },
  {
   "cell_type": "code",
   "execution_count": null,
   "metadata": {},
   "outputs": [],
   "source": [
    "mse_pred_hf = F.mse_loss(output_hf, real_hf).item()\n",
    "error = (output_hf - real_hf)**2\n",
    "error_mean = torch.mean(error)\n",
    "error_std = torch.std(error)\n",
    "\n",
    "print('MSE-Predicted solution-{:0.6f}, mean-{:0.4f}, std-{:0.4f}'.format(mse_pred_hf, error_mean, error_std))\n"
   ]
  },
  {
   "cell_type": "code",
   "execution_count": null,
   "metadata": {
    "colab": {
     "base_uri": "https://localhost:8080/",
     "height": 540
    },
    "executionInfo": {
     "elapsed": 1207,
     "status": "ok",
     "timestamp": 1658148073691,
     "user": {
      "displayName": "CSCCM IITD",
      "userId": "18000198353382878931"
     },
     "user_tz": -330
    },
    "id": "SE7WNG9kS1MQ",
    "outputId": "5617df5c-b8cc-402a-c709-9c88bb99d2ca"
   },
   "outputs": [],
   "source": [
    "plt.rcParams['font.family'] = 'Times New Roman' \n",
    "plt.rcParams['font.size'] = 12\n",
    "plt.rcParams['mathtext.fontset'] = 'dejavuserif'\n",
    "\n",
    "colormap = plt.cm.jet  \n",
    "colors = [colormap(i) for i in np.linspace(0, 1, 5)]\n",
    "\n",
    "fig2 = plt.figure(figsize = (10, 4), dpi=300)\n",
    "fig2.suptitle('Stochastic Heat - FNO - High fidelity')\n",
    "\n",
    "index = 0\n",
    "for i in range(ntest):\n",
    "    if i % 500 == 0:\n",
    "        plt.plot(x_coords, real_hf[i, :], color=colors[index], label='Actual')\n",
    "        plt.plot(x_coords, output_hf[i,:], '--', color=colors[index], label='Prediction')\n",
    "        index += 1\n",
    "plt.legend(ncol=4, loc=4, labelspacing=0.25, columnspacing=0.25, handletextpad=0.5, handlelength=1)\n",
    "plt.grid(True)\n",
    "plt.margins(0)\n"
   ]
  },
  {
   "cell_type": "code",
   "execution_count": null,
   "metadata": {
    "colab": {
     "base_uri": "https://localhost:8080/",
     "height": 540
    },
    "executionInfo": {
     "elapsed": 1272,
     "status": "ok",
     "timestamp": 1658147958337,
     "user": {
      "displayName": "CSCCM IITD",
      "userId": "18000198353382878931"
     },
     "user_tz": -330
    },
    "id": "YWN6Y0-M-J3i",
    "outputId": "dd5a76ff-479e-4883-8dce-b219ad250ffd"
   },
   "outputs": [],
   "source": [
    "colormap = plt.cm.jet  \n",
    "colors2 = [colormap(i) for i in np.linspace(0, 1, 5)]\n",
    "\n",
    "fig1 = plt.figure(figsize = (10, 4), dpi=300)\n",
    "fig1.suptitle('Stochastic Heat - FNO - High fidelity')\n",
    "\n",
    "index = 0\n",
    "for i in range(ntest):\n",
    "    if i % 500 == 0:\n",
    "        plt.plot(x_coords, x_data_h[i, :], color=colors2[index], label='Forcing-{}'.format(i))\n",
    "        index += 1\n",
    "plt.legend(ncol=5, loc=4, labelspacing=0.25, columnspacing=0.25, handletextpad=0.5, handlelength=1)\n",
    "plt.grid(True)\n",
    "plt.margins(0)\n"
   ]
  },
  {
   "cell_type": "markdown",
   "metadata": {},
   "source": [
    "# First passage failure"
   ]
  },
  {
   "cell_type": "code",
   "execution_count": null,
   "metadata": {},
   "outputs": [],
   "source": [
    "# %%\n",
    "eh = 4.5\n",
    "eh_mcs = np.zeros(ntest)\n",
    "eh_wno_mf = np.zeros(ntest)\n",
    "eh_wno_hf = np.zeros(ntest)\n",
    "\n",
    "for i in range(ntest):\n",
    "    if len( np.where( real_mf[i, ...] > eh )[0] ) == 0:\n",
    "        eh_mcs[i] = 0\n",
    "    else:\n",
    "        eh_mcs[i] = 1\n",
    "        \n",
    "for i in range(ntest):\n",
    "    if len( np.where( output_mf[i, ...] > eh )[0] ) == 0:\n",
    "        eh_wno_mf[i] = 0\n",
    "    else:\n",
    "        eh_wno_mf[i] = 1\n",
    "        \n",
    "for i in range(ntest):\n",
    "    if len( np.where( pred_hf[i, ...] > eh )[0] ) == 0:\n",
    "        eh_wno_hf[i] = 0\n",
    "    else:\n",
    "        eh_wno_hf[i] = 1\n",
    "\n",
    "pf_wno_mf = len(np.where(eh_wno_mf!=0)[0])/ntest\n",
    "pf_wno_hf = len(np.where(eh_wno_hf!=0)[0])/ntest\n",
    "pf_mcs = len(np.where(eh_mcs!=0)[0])/ntest\n",
    "print('Prob. of failure, MFWNO-{}, HFWNO-{}, MCS-{}'.format(pf_wno_mf, pf_wno_hf, pf_mcs))\n"
   ]
  },
  {
   "cell_type": "markdown",
   "metadata": {},
   "source": [
    "# Plotting"
   ]
  },
  {
   "cell_type": "code",
   "execution_count": null,
   "metadata": {
    "colab": {
     "base_uri": "https://localhost:8080/",
     "height": 607
    },
    "executionInfo": {
     "elapsed": 1850,
     "status": "ok",
     "timestamp": 1658148076983,
     "user": {
      "displayName": "CSCCM IITD",
      "userId": "18000198353382878931"
     },
     "user_tz": -330
    },
    "id": "SmNhH6mheERy",
    "outputId": "7566fc00-3c85-417e-bf8f-0bc18f211886"
   },
   "outputs": [],
   "source": [
    "plt.rcParams['font.family'] = 'Times New Roman' \n",
    "plt.rcParams['font.size'] = 12\n",
    "plt.rcParams['mathtext.fontset'] = 'dejavuserif'\n",
    "\n",
    "fig5, axs = plt.subplots(2, 2,figsize=(14,8), dpi=100)\n",
    "plt.subplots_adjust(hspace=0.35, wspace=0.15)\n",
    "axs = axs.flatten()\n",
    "\n",
    "n0 = 50\n",
    "axs[0].plot(x_coords,real_mf[n0], linestyle='-', color='tab:green', lw=2)\n",
    "axs[0].plot(x_coords,inp_mf[n0,:,0], linestyle=':', color='blue', lw=2)\n",
    "axs[0].plot(x_coords,output_hf[n0], linestyle='-.', color='tab:orange', lw=2)\n",
    "axs[0].plot(x_coords,output_mf[n0], linestyle='--', color='tab:red', lw=3)\n",
    "axs[0].legend(['HF-Truth ($u(x)$)','Force ($g(x)$)','HF-WNO ($u^{H}(x)$)','MF-WNO ($u^{L}(x)$)'],\n",
    "              columnspacing=0.4, handletextpad=0.5, ncol=2)\n",
    "axs[0].margins(0)\n",
    "axs[0].grid(True, alpha=0.3)\n",
    "axs[0].set_ylabel('$g(x)$ / $u(x)$')\n",
    "axs[0].set_xlabel('Space ($x$)')\n",
    "axs[0].set_title('(a) Sample-{}'.format(n0))\n",
    "\n",
    "n1 = 500\n",
    "axs[1].plot(x_coords,real_mf[n1], linestyle='-', color='tab:green', lw=2)\n",
    "axs[1].plot(x_coords,inp_mf[n1,:,0], linestyle=':', color='blue', lw=2)\n",
    "axs[1].plot(x_coords,output_hf[n1], linestyle='-.', color='tab:orange', lw=2)\n",
    "axs[1].plot(x_coords,output_mf[n1], linestyle='--', color='tab:red', lw=3)\n",
    "axs[1].legend(['HF-Truth ($u(x)$)','Force ($g(x)$)','HF-WNO ($u^{H}(x)$)','MF-WNO ($u^{L}(x)$)'],\n",
    "             columnspacing=0.4, handletextpad=0.5, ncol=2, loc=4)\n",
    "axs[1].margins(0)\n",
    "axs[1].grid(True, alpha=0.3)\n",
    "axs[1].set_ylabel('$g(x)$ / $u(x)$')\n",
    "axs[1].set_xlabel('Space ($x$)')\n",
    "axs[1].set_title('(b) Sample-{}'.format(n1))\n",
    "\n",
    "n2 = 1000\n",
    "axs[2].plot(x_coords,real_mf[n2], linestyle='-', color='tab:green', lw=2)\n",
    "axs[2].plot(x_coords,inp_mf[n2,:,0], linestyle=':', color='blue', lw=2)\n",
    "axs[2].plot(x_coords,output_hf[n2], linestyle='-.', color='tab:orange', lw=2)\n",
    "axs[2].plot(x_coords,output_mf[n2], linestyle='--', color='tab:red', lw=3)\n",
    "axs[2].legend(['HF-Truth ($u(x)$)','Force ($g(x)$)','HF-WNO ($u^{H}(x)$)','MF-WNO ($u^{L}(x)$)'], \n",
    "              columnspacing=0.4, handletextpad=0.5, ncol=2, loc=4)\n",
    "axs[2].margins(0)\n",
    "axs[2].grid(True, alpha=0.3)\n",
    "axs[2].set_ylabel('$g(x)$ / $u(x)$')\n",
    "axs[2].set_xlabel('Space ($x$)')\n",
    "axs[2].set_title('(c) Sample-{}'.format(n2))\n",
    "\n",
    "n3 = 1500\n",
    "axs[3].plot(x_coords,real_mf[n3], linestyle='-', color='tab:green', lw=2)\n",
    "axs[3].plot(x_coords,inp_mf[n3,:,0], linestyle=':', color='blue', lw=2)\n",
    "axs[3].plot(x_coords,output_hf[n3], linestyle='-.', color='tab:orange', lw=2)\n",
    "axs[3].plot(x_coords,output_mf[n3], linestyle='--', color='tab:red', lw=3)\n",
    "axs[3].legend(['HF-Truth ($u(x)$)','Force ($g(x)$)','HF-WNO ($u^{H}(x)$)','MF-WNO ($u^{L}(x)$)'], \n",
    "              columnspacing=0.4, handletextpad=0.5, ncol=2, loc=1)\n",
    "axs[3].margins(0)\n",
    "axs[3].grid(True, alpha=0.3)\n",
    "axs[3].set_ylabel('$g(x)$ / $u(x)$')\n",
    "axs[3].set_xlabel('Space ($x$)')\n",
    "axs[3].set_title('(d) Sample-{}'.format(n3))\n",
    "\n",
    "# fig5.savefig('pred_poisson.pdf', format='pdf', dpi=600, bbox_inches='tight')\n"
   ]
  },
  {
   "cell_type": "code",
   "execution_count": null,
   "metadata": {},
   "outputs": [],
   "source": [
    "plt.rcParams['font.family'] = 'Times New Roman' \n",
    "plt.rcParams['font.size'] = 12\n",
    "plt.rcParams['mathtext.fontset'] = 'dejavuserif'\n",
    "\n",
    "fig6, axs = plt.subplots(2, 2,figsize=(14,8), dpi=100)\n",
    "plt.subplots_adjust(hspace=0.35, wspace=0.15)\n",
    "axs = axs.flatten()\n",
    "\n",
    "n0 = 50\n",
    "axs[0].plot(x_coords,real_mf[n0], linestyle='-', color='tab:green', lw=2)\n",
    "axs[0].plot(x_coords,output_hf[n0], linestyle='-.', color='tab:orange', lw=2)\n",
    "axs[0].plot(x_coords,output_mf[n0], linestyle='--', color='tab:red', lw=3)\n",
    "axs[0].legend(['HF-Truth ($u(x)$)','HF-WNO ($u^{H}(x)$)','MF-WNO ($u^{'r'\\mathrm{MF}}(x)$)'],\n",
    "              columnspacing=0.4, handletextpad=0.5, ncol=1, loc=2)\n",
    "axs[0].margins(0)\n",
    "axs[0].grid(True, alpha=0.3)\n",
    "axs[0].set_ylabel('$g(x)$ / $u(x)$')\n",
    "axs[0].set_xlabel('Space ($x$)')\n",
    "axs[0].set_title('(a) Sample-{}'.format(n0))\n",
    "\n",
    "n1 = 499\n",
    "axs[1].plot(x_coords,real_mf[n1], linestyle='-', color='tab:green', lw=2)\n",
    "axs[1].plot(x_coords,output_hf[n1], linestyle='-.', color='tab:orange', lw=2)\n",
    "axs[1].plot(x_coords,output_mf[n1], linestyle='--', color='tab:red', lw=3)\n",
    "axs[1].legend(['HF-Truth ($u(x)$)','HF-WNO ($u^{H}(x)$)','MF-WNO ($u^{'r'\\mathrm{MF}}(x)$)'],\n",
    "             columnspacing=0.4, handletextpad=0.5, ncol=1, loc=1)\n",
    "axs[1].margins(0)\n",
    "axs[1].grid(True, alpha=0.3)\n",
    "axs[1].set_ylabel('$g(x)$ / $u(x)$')\n",
    "axs[1].set_xlabel('Space ($x$)')\n",
    "axs[1].set_title('(b) Sample-{}'.format(n1+1))\n",
    "\n",
    "n2 = 999\n",
    "axs[2].plot(x_coords,real_mf[n2], linestyle='-', color='tab:green', lw=2)\n",
    "axs[2].plot(x_coords,output_hf[n2], linestyle='-.', color='tab:orange', lw=2)\n",
    "axs[2].plot(x_coords,output_mf[n2], linestyle='--', color='tab:red', lw=3)\n",
    "axs[2].legend(['HF-Truth ($u(x)$)','HF-WNO ($u^{H}(x)$)','MF-WNO ($u^{'r'\\mathrm{MF}}(x)$)'], \n",
    "              columnspacing=0.4, handletextpad=0.5, ncol=1)\n",
    "axs[2].margins(0)\n",
    "axs[2].grid(True, alpha=0.3)\n",
    "axs[2].set_ylabel('$g(x)$ / $u(x)$')\n",
    "axs[2].set_xlabel('Space ($x$)')\n",
    "axs[2].set_title('(c) Sample-{}'.format(n2+1))\n",
    "\n",
    "n3 = 1499\n",
    "axs[3].plot(x_coords,real_mf[n3], linestyle='-', color='tab:green', lw=2)\n",
    "axs[3].plot(x_coords,output_hf[n3], linestyle='-.', color='tab:orange', lw=2)\n",
    "axs[3].plot(x_coords,output_mf[n3], linestyle='--', color='tab:red', lw=3)\n",
    "axs[3].legend(['HF-Truth ($u(x)$)','HF-WNO ($u^{H}(x)$)','MF-WNO ($u^{'r'\\mathrm{MF}}(x)$)'], \n",
    "              columnspacing=0.4, handletextpad=0.5, ncol=1, loc=4)\n",
    "axs[3].margins(0)\n",
    "axs[3].grid(True, alpha=0.3)\n",
    "axs[3].set_ylabel('$g(x)$ / $u(x)$')\n",
    "axs[3].set_xlabel('Space ($x$)')\n",
    "axs[3].set_title('(d) Sample-{}'.format(n3+1))\n",
    "\n",
    "fig6.savefig('pred_poisson.pdf', format='pdf', dpi=600, bbox_inches='tight')\n"
   ]
  },
  {
   "cell_type": "code",
   "execution_count": null,
   "metadata": {},
   "outputs": [],
   "source": [
    "scipy.io.savemat('data/mfwno_poissons_n50.mat', mdict={'real_mf':real_mf.cpu().numpy(), \n",
    "                                                       'output_hf':output_hf.cpu().numpy(),\n",
    "                                                       'output_mf':output_mf.cpu().numpy(),\n",
    "                                                       'x_coords':x_coords})\n"
   ]
  },
  {
   "cell_type": "code",
   "execution_count": null,
   "metadata": {},
   "outputs": [],
   "source": []
  }
 ],
 "metadata": {
  "accelerator": "GPU",
  "colab": {
   "authorship_tag": "ABX9TyPnTmu8B9EPmJAx59FTLX1t",
   "collapsed_sections": [],
   "machine_shape": "hm",
   "name": "Multifid_WNO_Poisson_new_size_25.ipynb",
   "provenance": [
    {
     "file_id": "1m6PDbFcTuqlZJGMznlUxbZWjYaQmyxcx",
     "timestamp": 1658047828483
    },
    {
     "file_id": "1Vl-BWLcc83HLihESRmzSzaa3xXaAo22L",
     "timestamp": 1658046554495
    },
    {
     "file_id": "1vdTJHNBQTe6cDa3znA2eK71i_o8rXg0m",
     "timestamp": 1657707104929
    },
    {
     "file_id": "1WmHRKITBoAIBvl_l46TQivFgEWBk8qbA",
     "timestamp": 1657553878903
    },
    {
     "file_id": "1c-ie-KRb-kGVgNiH1Ag-8WlV89iaMnAj",
     "timestamp": 1657551263885
    },
    {
     "file_id": "1zAzFWiQi2z4sAgFp0Fv7mYa0YowoFitv",
     "timestamp": 1657351594397
    },
    {
     "file_id": "1vodjDJ5vqUi0eylKTSABVpp7TinS4Zwx",
     "timestamp": 1657218736049
    },
    {
     "file_id": "1LgrC1t3iuy23p-b05fQh-ddyrsI0_lAv",
     "timestamp": 1657178812760
    },
    {
     "file_id": "1eSUGqtpAaymHy5y9I5bSv58S2X5G-MdX",
     "timestamp": 1657134232337
    }
   ]
  },
  "gpuClass": "standard",
  "kernelspec": {
   "display_name": "Python 3 (ipykernel)",
   "language": "python",
   "name": "python3"
  },
  "language_info": {
   "codemirror_mode": {
    "name": "ipython",
    "version": 3
   },
   "file_extension": ".py",
   "mimetype": "text/x-python",
   "name": "python",
   "nbconvert_exporter": "python",
   "pygments_lexer": "ipython3",
   "version": "3.11.7"
  }
 },
 "nbformat": 4,
 "nbformat_minor": 4
}
